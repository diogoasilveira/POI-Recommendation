{
 "cells": [
  {
   "cell_type": "markdown",
   "metadata": {},
   "source": [
    "# Dependências"
   ]
  },
  {
   "cell_type": "code",
   "execution_count": 21,
   "metadata": {},
   "outputs": [],
   "source": [
    "#!pip install numba==0.49.1\n",
    "#!pip install numba==0.55.0\n",
    "#!pip install numba\n",
    "#!pip uninstall numba -y\n",
    "#!pip install llvmlite"
   ]
  },
  {
   "cell_type": "code",
   "execution_count": 22,
   "metadata": {},
   "outputs": [],
   "source": [
    "#!pip install llvmlite --ignore-installed"
   ]
  },
  {
   "cell_type": "code",
   "execution_count": 23,
   "metadata": {},
   "outputs": [],
   "source": [
    "#!pip install gensim==3.6.0\n",
    "#!pip install binary gensim==3.6.0"
   ]
  },
  {
   "cell_type": "code",
   "execution_count": 24,
   "metadata": {},
   "outputs": [],
   "source": [
    "#!pip3 uninstall numpy -y"
   ]
  },
  {
   "cell_type": "code",
   "execution_count": 25,
   "metadata": {},
   "outputs": [],
   "source": [
    "#!pip install numpy"
   ]
  },
  {
   "cell_type": "markdown",
   "metadata": {},
   "source": [
    "# Bibliotecas"
   ]
  },
  {
   "cell_type": "code",
   "execution_count": 2,
   "metadata": {},
   "outputs": [
    {
     "name": "stderr",
     "output_type": "stream",
     "text": [
      "/home/salatiel/anaconda3/lib/python3.7/site-packages/requests/__init__.py:91: RequestsDependencyWarning: urllib3 (2.0.7) or chardet (3.0.4) doesn't match a supported version!\n",
      "  RequestsDependencyWarning)\n"
     ]
    }
   ],
   "source": [
    "import pandas as pd\n",
    "import numpy as np\n",
    "import psycopg2 as postgres\n",
    "import psycopg2.extras\n",
    "import math\n",
    "import csv\n",
    "import random\n",
    "\n",
    "from gensim.models import Word2Vec\n",
    "from tqdm import tqdm\n",
    "from sshtunnel import SSHTunnelForwarder\n",
    "from tqdm import tqdm\n",
    "\n",
    "import numba\n",
    "from numba import njit\n",
    "#from numba import cuda"
   ]
  },
  {
   "cell_type": "markdown",
   "metadata": {},
   "source": [
    "# Funções"
   ]
  },
  {
   "cell_type": "markdown",
   "metadata": {},
   "source": [
    "## Utilidades"
   ]
  },
  {
   "cell_type": "code",
   "execution_count": 3,
   "metadata": {},
   "outputs": [],
   "source": [
    "def executeQuery(conn, sql):\n",
    "    record = None\n",
    "    try:\n",
    "        #print(sql)\n",
    "        cur = conn.cursor(cursor_factory = psycopg2.extras.RealDictCursor)\n",
    "        cur.execute(sql)\n",
    "        record = cur.fetchall()\n",
    "        cur.close()\n",
    "    except postgres.Error as e:\n",
    "        print(e)\n",
    "        cur.execute(\"ROLLBACK\")\n",
    "        cur.close()\n",
    "    return record"
   ]
  },
  {
   "cell_type": "code",
   "execution_count": 4,
   "metadata": {},
   "outputs": [],
   "source": [
    "def executeInsert(conn, sql):\n",
    "    sucess = False\n",
    "            \n",
    "    try:\n",
    "        #print(sql)\n",
    "        cur = conn.cursor()\n",
    "        cur.execute(sql)\n",
    "        conn.commit()\n",
    "        cur.close()\n",
    "        sucess = True\n",
    "    except postgres.Error as e:\n",
    "        print(e)\n",
    "        cur.execute(\"ROLLBACK\")\n",
    "        cur.close()\n",
    "\n",
    "    return sucess"
   ]
  },
  {
   "cell_type": "code",
   "execution_count": 5,
   "metadata": {},
   "outputs": [],
   "source": [
    "#Recebe um id e retorna as categorias e checkin do lugar\n",
    "def getPOIInformation(conn, business_id):\n",
    "    \n",
    "    sql = \"\"\"\n",
    "        SELECT id, checkin_count, name, level FROM pois_information WHERE id  = \\'\"\"\"+str(business_id)+ \"\"\"\\'\n",
    "    ;\"\"\"\n",
    "\n",
    "    result = executeQuery(conn, sql)\n",
    "\n",
    "    return result"
   ]
  },
  {
   "cell_type": "code",
   "execution_count": 6,
   "metadata": {},
   "outputs": [],
   "source": [
    "#Recebe um id e retorna as categorias e checkin do lugar\n",
    "def getZoningInformation(conn, object_id):\n",
    "    \n",
    "    sql = \"\"\"\n",
    "        SELECT id FROM zoning_1618_pois WHERE objectid  = \\'\"\"\"+str(object_id)+ \"\"\"\\'\n",
    "    ;\"\"\"\n",
    "\n",
    "    result = executeQuery(conn, sql)\n",
    "\n",
    "    return result"
   ]
  },
  {
   "cell_type": "code",
   "execution_count": 7,
   "metadata": {},
   "outputs": [],
   "source": [
    "#Recebe um id e retorna as categorias e checkin do lugar\n",
    "def getZones(conn, object_id):\n",
    "    \n",
    "    sql = \"\"\"\n",
    "        SELECT objectid FROM zoning_1618_pois\n",
    "    ;\"\"\"\n",
    "\n",
    "    result = executeQuery(conn, sql)\n",
    "\n",
    "    return result"
   ]
  },
  {
   "cell_type": "code",
   "execution_count": 8,
   "metadata": {},
   "outputs": [],
   "source": [
    "#Encontra todos os pontos do bin centrado em um POI trazendo suas informações (categorias e checkin)\n",
    "def getBinPOIsInformation(conn, business_id, bin_number):\n",
    "\n",
    "    result = None\n",
    "\n",
    "    sql = \"\"\"\n",
    "        SELECT fk_poi_id_context as id, name, level, checkin_count, distance_m \n",
    "        FROM bins_pois_information \n",
    "        WHERE fk_poi_id_center = \\'\"\"\"+str(business_id)+\"\"\"\\' AND fk_bin_number = \"\"\"+str(bin_number)+\"\"\" order by distance_m asc;\"\"\"\n",
    "\n",
    "    result = executeQuery(conn, sql)\n",
    "\n",
    "    return result"
   ]
  },
  {
   "cell_type": "code",
   "execution_count": 9,
   "metadata": {},
   "outputs": [],
   "source": [
    "def getPOIsDistance(conn, center_poi_id, context_poi_id):\n",
    "    \n",
    "    result = None\n",
    "\n",
    "    sql = \"\"\"\n",
    "        SELECT distance_m\n",
    "        FROM has_context_poi \n",
    "        WHERE fk_poi_id_center = \\'\"\"\"+str(center_poi_id)+\"\"\"\\' AND fk_poi_id_context = \"\"\"+str(context_poi_id)+\"\"\";\"\"\"\n",
    "\n",
    "    result = executeQuery(conn, sql)\n",
    "\n",
    "    return result"
   ]
  },
  {
   "cell_type": "code",
   "execution_count": 10,
   "metadata": {},
   "outputs": [],
   "source": [
    "#Recebe um id e retorna as categorias e checkin do lugar\n",
    "def getAllPOIInformation(conn):\n",
    "    \n",
    "    sql = \"\"\"\n",
    "        SELECT id as business_id, latitude, longitude, categories, checkin_count FROM poi;\"\"\"\n",
    "\n",
    "    result = executeQuery(conn, sql)\n",
    "\n",
    "    return result"
   ]
  },
  {
   "cell_type": "code",
   "execution_count": 11,
   "metadata": {},
   "outputs": [],
   "source": [
    "#LENTO\n",
    "def calculate_L(POI_path, df):\n",
    "    dst = 0\n",
    "    segment = []\n",
    "    for poi_id in POI_path:\n",
    "        #print(poi_id)\n",
    "        segment.append(poi_id)\n",
    "        if (len(segment) > 2):\n",
    "            segment.pop(0)\n",
    "\n",
    "        if (len(segment) == 2):\n",
    "\n",
    "            p_idx = POI_path[-2]\n",
    "            p_idx = df.query(\"business_id=='\"+str(p_idx)+\"'\").index[0]\n",
    "            n_idx = POI_path[-1]\n",
    "            n_idx = df.query(\"business_id=='\"+str(n_idx)+\"'\").index[0]\n",
    "        \n",
    "            dst += distances_matrix[p_idx][n_idx]\n",
    "            \n",
    "    return dst"
   ]
  },
  {
   "cell_type": "code",
   "execution_count": 12,
   "metadata": {},
   "outputs": [],
   "source": [
    "#Meio LENTO\n",
    "def calculate_L_(POI_path, df):\n",
    "    dst = 0\n",
    "    \n",
    "    for i in range(len(POI_path)-1):\n",
    "\n",
    "        p_idx = POI_path[i]\n",
    "        p_idx = df.query(\"business_id=='\"+str(p_idx)+\"'\").index[0]\n",
    "        n_idx = POI_path[i+1]\n",
    "        n_idx = df.query(\"business_id=='\"+str(n_idx)+\"'\").index[0]\n",
    "\n",
    "        dst += distances_matrix[p_idx][n_idx]\n",
    "            \n",
    "    return dst"
   ]
  },
  {
   "cell_type": "code",
   "execution_count": 13,
   "metadata": {},
   "outputs": [],
   "source": [
    "#Mais Rápido\n",
    "def calculate_Li_(POI_path, df, i, L):\n",
    "\n",
    "    p_idx = POI_path[i-1]\n",
    "    p_idx = df.query(\"business_id=='\"+str(p_idx)+\"'\").index[0]\n",
    "\n",
    "    c_idx = POI_path[i]\n",
    "    c_idx = df.query(\"business_id=='\"+str(c_idx)+\"'\").index[0]\n",
    "\n",
    "    n_idx = POI_path[i+1]\n",
    "    n_idx = df.query(\"business_id=='\"+str(n_idx)+\"'\").index[0]\n",
    "\n",
    "    #Retirando antigo segmento\n",
    "    segment_distance = L - distances_matrix[p_idx][n_idx]\n",
    "    \n",
    "    #Tamanho do novo segmento\n",
    "    dst = segment_distance + distances_matrix[p_idx][c_idx] + distances_matrix[c_idx][n_idx]\n",
    "            \n",
    "    return dst"
   ]
  },
  {
   "cell_type": "code",
   "execution_count": 14,
   "metadata": {},
   "outputs": [],
   "source": [
    "#Essa versão não utilizada a otimização do Numba\n",
    "def generate_segment(W, L, POI_path):\n",
    "    \n",
    "    final_path = [pt for pt in POI_path]\n",
    "\n",
    "    for wp in W:\n",
    "\n",
    "        shortest_path = np.inf\n",
    "        optimal_list = None\n",
    "\n",
    "        #Testar WP em todas as posições entre 1 e len(list)-2\n",
    "        for j in range(1, len(final_path)):\n",
    "            \n",
    "            local_list = [fp for fp in final_path]\n",
    "            \n",
    "            #Testar WP em todas as posições entre 1 e len(list)-2\n",
    "            local_list.insert(j, wp)\n",
    "            \n",
    "\n",
    "            p_idx = local_list[j-1] \n",
    "            c_idx = local_list[j]\n",
    "            n_idx = local_list[j+1]\n",
    "\n",
    "            #Retirando antigo segmento\n",
    "            segment_distance = L - distances_matrix[p_idx][n_idx]\n",
    "\n",
    "            #Tamanho do novo segmento\n",
    "            dst = segment_distance + distances_matrix[p_idx][c_idx] + distances_matrix[c_idx][n_idx]\n",
    "\n",
    "            if (dst < shortest_path):\n",
    "                shortest_path = dst\n",
    "                optimal_list = [ll for ll in local_list] \n",
    "            \n",
    "        final_path = [ol for ol in optimal_list] \n",
    "        L = shortest_path\n",
    "    \n",
    "    return final_path"
   ]
  },
  {
   "cell_type": "code",
   "execution_count": 15,
   "metadata": {},
   "outputs": [],
   "source": [
    "# function optimized to run on gpu \n",
    "#@jit(target_backend='cuda')\n",
    "#@numba.njit\n",
    "#from numba.typed import List\n",
    "\n",
    "@njit\n",
    "#@cuda.jit\n",
    "def generate_segment_numba(W, L, POI_path):\n",
    "    \n",
    "    final_path = [pt for pt in POI_path]\n",
    "\n",
    "    for wp in W:\n",
    "\n",
    "        shortest_path = np.inf\n",
    "        optimal_list = None\n",
    "\n",
    "        #Testar WP em todas as posições entre 1 e len(list)-2\n",
    "        for j in range(1, len(final_path)):\n",
    "            \n",
    "            local_list = [fp for fp in final_path]\n",
    "            \n",
    "            #Testar WP em todas as posições entre 1 e len(list)-2\n",
    "            local_list.insert(j, wp)\n",
    "            \n",
    "\n",
    "            p_idx = local_list[j-1] \n",
    "            c_idx = local_list[j]\n",
    "            n_idx = local_list[j+1]\n",
    "\n",
    "            #Retirando antigo segmento\n",
    "            segment_distance = L - distances_matrix[p_idx][n_idx]\n",
    "\n",
    "            #Tamanho do novo segmento\n",
    "            dst = segment_distance + distances_matrix[p_idx][c_idx] + distances_matrix[c_idx][n_idx]\n",
    "\n",
    "            if (dst < shortest_path):\n",
    "                shortest_path = dst\n",
    "                optimal_list = [ll for ll in local_list] \n",
    "            \n",
    "        final_path = [ol for ol in optimal_list] \n",
    "        L = shortest_path\n",
    "    \n",
    "    return final_path"
   ]
  },
  {
   "cell_type": "code",
   "execution_count": 16,
   "metadata": {},
   "outputs": [
    {
     "name": "stdout",
     "output_type": "stream",
     "text": [
      "without GPU: 0.0163154059991939\n",
      "with GPU: 4.272350682000251\n"
     ]
    }
   ],
   "source": [
    "from timeit import default_timer as timer    \n",
    "\n",
    "# normal function to run on cpu \n",
    "def func(a):                                 \n",
    "    for i in range(100000): \n",
    "        a[i]+= 1      \n",
    "\n",
    "# function optimized to run on gpu  \n",
    "#@jit(nopython=True)\n",
    "#@cuda.jit\n",
    "#(target =\"cuda\")    \n",
    "@njit\n",
    "def func2(a): \n",
    "    for j in range(100000):\n",
    "        for i in range(100000): \n",
    "            a[i]+= 1\n",
    "#if __name__==\"__main__\": \n",
    "\n",
    "n = 100000                           \n",
    "a = np.ones(n, dtype = np.float64) \n",
    "#b = np.ones(n, dtype = np.float32) \n",
    "\n",
    "start = timer() \n",
    "func(a) \n",
    "print(\"without GPU:\", timer()-start)     \n",
    "\n",
    "start = timer() \n",
    "func2(a) \n",
    "print(\"with GPU:\", timer()-start) "
   ]
  },
  {
   "cell_type": "markdown",
   "metadata": {},
   "source": [
    "# Document Corpus"
   ]
  },
  {
   "cell_type": "code",
   "execution_count": 17,
   "metadata": {},
   "outputs": [],
   "source": [
    "#Essa versão analisa os POIs em um contexto, encontra os dois mais distantes e monta o caminho mais curto entre eles\n",
    "def Shortest_Path_FT(object_id, df):\n",
    "    \n",
    "    #print('processing POI:', poi_id)\n",
    "    POI_path_bi = []\n",
    "    POI_path_fl = []\n",
    "    \n",
    "    #print('processing:', object_id)\n",
    "    \n",
    "    try:\n",
    "    \n",
    "        with SSHTunnelForwarder(\n",
    "        ('150.165.15.171', 23456),\n",
    "        #ssh_private_key=\"</path/to/private/ssh/key>\",\n",
    "        ### in my case, I used a password instead of a private key\n",
    "        ssh_username=\"salatiel\",\n",
    "        ssh_password=\"Salatiel@Lacina123\", \n",
    "        remote_bind_address=('localhost', 5432)) as server:\n",
    "\n",
    "            server.start()\n",
    "            #print(\"server connected\")\n",
    "\n",
    "            params = {'database': 'boston',\n",
    "                   'user': 'salatiel',\n",
    "                   'password': 'root',\n",
    "                   'host': 'localhost',\n",
    "                   'port': server.local_bind_port\n",
    "            }\n",
    "\n",
    "            connection = psycopg2.connect(**params)\n",
    "\n",
    "\n",
    "            #Obtendo informações de categorias e checkin do poi central\n",
    "            #[business_id, checkin, category]\n",
    "            poi_information = getZoningInformation(connection, object_id)\n",
    "\n",
    "\n",
    "            #Executa o processo se há dados\n",
    "            #Um caminho preciso do no mínimo dois POIs\n",
    "            if (len(poi_information) >= 2):\n",
    "\n",
    "                #Restringindo as possibilidades de tipos\n",
    "                columns = list(dict(poi_information[0]).keys())\n",
    "                poi_information = pd.DataFrame(poi_information, columns = columns)\n",
    "\n",
    "                \n",
    "                #Shortest Path construction\n",
    "                pois_idx = []\n",
    "                for i, cp_idx in poi_information.iterrows():\n",
    "                    pois_idx.append(df.query(\"business_id=='\"+str(cp_idx['id'])+\"'\").index[0])\n",
    "\n",
    "                #Encontrar Ps e Pe\n",
    "                max_distances = []\n",
    "                for poi_idx_01 in pois_idx:\n",
    "                    for poi_idx_02 in pois_idx:\n",
    "                        if poi_idx_01 != poi_idx_02:\n",
    "                            max_distances.append((poi_idx_01, poi_idx_02, distances_matrix[poi_idx_01][poi_idx_02]))\n",
    "\n",
    "                furthest_pair = max_distances[0]\n",
    "                for md in max_distances:\n",
    "                    if md[2] > furthest_pair[2]:\n",
    "                        furthest_pair = md\n",
    "\n",
    "                        \n",
    "                POI_path = [furthest_pair[0], furthest_pair[1]]\n",
    "                L = furthest_pair[2]\n",
    "\n",
    "                #A is all POIs\n",
    "                W = set(pois_idx).difference(set(POI_path))\n",
    "                \n",
    "                #Ajuste das variáveis para a função generate_segment\n",
    "\n",
    "                W = list(W)\n",
    "\n",
    "                #Adicionar o POI de A que tem o menor tamanho de caminho em L e atualizar W\n",
    "                if (len(W) > 0):\n",
    "\n",
    "                    #Não otimizado\n",
    "                    #POI_path_fl = generate_segment(W, L, POI_path)\n",
    "                    \n",
    "                    #Otimizado pelo numba\n",
    "                    POI_path_fl = generate_segment_numba(W, L, POI_path)\n",
    "                else:\n",
    "\n",
    "                    POI_path_fl = POI_path.copy()\n",
    "                \n",
    "                POI_path_bi = [df.iloc[pp]['business_id'] for pp in POI_path_fl]\n",
    "                \n",
    "            connection.close()\n",
    "    \n",
    "    except Exception as e:\n",
    "        print(str(e))         \n",
    "        \n",
    "    return POI_path_bi"
   ]
  },
  {
   "cell_type": "code",
   "execution_count": 36,
   "metadata": {},
   "outputs": [],
   "source": [
    "#TESTE LOCAL\n",
    "\n",
    "object_id = \"12269\"\n",
    "df = poi_df\n",
    "\n",
    "#print('processing POI:', poi_id)\n",
    "POI_path_bi = []\n",
    "POI_path_fl = []\n",
    "\n",
    "#print('processing:', object_id)\n",
    "\n",
    "try:\n",
    "\n",
    "    with SSHTunnelForwarder(\n",
    "    ('150.165.15.171', 23456),\n",
    "    #ssh_private_key=\"</path/to/private/ssh/key>\",\n",
    "    ### in my case, I used a password instead of a private key\n",
    "    ssh_username=\"salatiel\",\n",
    "    ssh_password=\"Salatiel@Lacina123\", \n",
    "    remote_bind_address=('localhost', 5432)) as server:\n",
    "\n",
    "        server.start()\n",
    "        #print(\"server connected\")\n",
    "\n",
    "        params = {'database': 'boston',\n",
    "               'user': 'salatiel',\n",
    "               'password': 'root',\n",
    "               'host': 'localhost',\n",
    "               'port': server.local_bind_port\n",
    "        }\n",
    "\n",
    "        connection = psycopg2.connect(**params)\n",
    "\n",
    "\n",
    "        #Obtendo informações de categorias e checkin do poi central\n",
    "        #[business_id, checkin, category]\n",
    "        poi_information = getZoningInformation(connection, object_id)\n",
    "\n",
    "\n",
    "        #Executa o processo se há dados\n",
    "        #Um caminho preciso do no mínimo dois POIs\n",
    "        if (len(poi_information) >= 2):\n",
    "\n",
    "            #Restringindo as possibilidades de tipos\n",
    "            columns = list(dict(poi_information[0]).keys())\n",
    "            poi_information = pd.DataFrame(poi_information, columns = columns)\n",
    "\n",
    "\n",
    "            #Shortest Path construction\n",
    "            pois_idx = []\n",
    "            for i, cp_idx in poi_information.iterrows():\n",
    "                pois_idx.append(df.query(\"business_id=='\"+str(cp_idx['id'])+\"'\").index[0])\n",
    "\n",
    "            #Encontrar Ps e Pe\n",
    "            max_distances = []\n",
    "            for poi_idx_01 in pois_idx:\n",
    "                for poi_idx_02 in pois_idx:\n",
    "                    if poi_idx_01 != poi_idx_02:\n",
    "                        max_distances.append((poi_idx_01, poi_idx_02, distances_matrix[poi_idx_01][poi_idx_02]))\n",
    "\n",
    "            furthest_pair = max_distances[0]\n",
    "            for md in max_distances:\n",
    "                if md[2] > furthest_pair[2]:\n",
    "                    furthest_pair = md\n",
    "\n",
    "\n",
    "            POI_path = [furthest_pair[0], furthest_pair[1]]\n",
    "            L = furthest_pair[2]\n",
    "\n",
    "            #A is all POIs\n",
    "            W = set(pois_idx).difference(set(POI_path))\n",
    "\n",
    "            #Ajuste das variáveis para a função generate_segment\n",
    "\n",
    "            W = list(W)\n",
    "\n",
    "            #Adicionar o POI de A que tem o menor tamanho de caminho em L e atualizar W\n",
    "            if (len(W) > 0):\n",
    "\n",
    "                #Não otimizado\n",
    "                #POI_path_fl = generate_segment(W, L, POI_path)\n",
    "\n",
    "                #Otimizado pelo numba\n",
    "                POI_path_fl = generate_segment_numba(W, L, POI_path)\n",
    "            else:\n",
    "\n",
    "                POI_path_fl = POI_path.copy()\n",
    "\n",
    "            POI_path_bi = [df.iloc[pp]['business_id'] for pp in POI_path_fl]\n",
    "\n",
    "        connection.close()\n",
    "\n",
    "except Exception as e:\n",
    "    print(str(e))         "
   ]
  },
  {
   "cell_type": "code",
   "execution_count": 37,
   "metadata": {},
   "outputs": [
    {
     "data": {
      "text/plain": [
       "['Iq2Ey5AiDK9JUKddyDLZ7g',\n",
       " '3ejv6lfK3Qd9Q-pb_9YVUA',\n",
       " '7dzyLlNQXwuPsmvquuaVIA',\n",
       " 'S3nk3mllSk7QI-sRqG92Gg',\n",
       " '3JOdRJS4PFkpfnNVxQtcmQ',\n",
       " '41PtFgRt3DQa4J4FHDZkRA',\n",
       " 'dcXeYPp3UAgiCzGzmEz6aQ',\n",
       " 'h7skkHYh4JXZfARD6QhRBg',\n",
       " 'WO10z5s4b6bg8G97emPn7A',\n",
       " 'dZ800YCAc-HnvXInE7GU9g',\n",
       " 'KR0O7xKEm6rgE711HkkXTA',\n",
       " 'Choq0lds-DnnH0bUqx8FHQ',\n",
       " 'ehbByKSGZ28AHXlqUCVzIA',\n",
       " 'fBsbGcUFnMO_7yXfikNjGg',\n",
       " 'iHdg7BupnCVc3FYlrzxTrg',\n",
       " 'KYSd1eCFQY0uCON1GXmAhQ',\n",
       " 'ILAaAXr4Varupm8MUSuwrA',\n",
       " '3B1z5h8Y39hnEXbRc9jTHA',\n",
       " 'qjAgVbVXuECartJqPeXErQ',\n",
       " 'u3f-W5yNwkSKJ8LjFtYCxg',\n",
       " 'k7W_o3LpZaxMPWphXGS1MA',\n",
       " 'WwNticOnmmkHrMRyAGR4rw',\n",
       " 'H8_9t4Tlw2bcKW9qdqAM8w',\n",
       " 'lBtiaHCwi-QHAs_ReWClhw',\n",
       " 'AAZFsMBLNgNg58eA06bFJA',\n",
       " 'yXgJ3_DPc4SQ-MDIw5Fkvw',\n",
       " '-n_qDyqJ6oq1yQb1qc0hsQ',\n",
       " 'PIWXl9Bjw2Kvj6TUkIacsA']"
      ]
     },
     "execution_count": 37,
     "metadata": {},
     "output_type": "execute_result"
    }
   ],
   "source": [
    "#RESULTADO\n",
    "POI_path_bi"
   ]
  },
  {
   "cell_type": "code",
   "execution_count": 38,
   "metadata": {},
   "outputs": [
    {
     "data": {
      "text/html": [
       "<div>\n",
       "<style scoped>\n",
       "    .dataframe tbody tr th:only-of-type {\n",
       "        vertical-align: middle;\n",
       "    }\n",
       "\n",
       "    .dataframe tbody tr th {\n",
       "        vertical-align: top;\n",
       "    }\n",
       "\n",
       "    .dataframe thead th {\n",
       "        text-align: right;\n",
       "    }\n",
       "</style>\n",
       "<table border=\"1\" class=\"dataframe\">\n",
       "  <thead>\n",
       "    <tr style=\"text-align: right;\">\n",
       "      <th></th>\n",
       "      <th>id</th>\n",
       "    </tr>\n",
       "  </thead>\n",
       "  <tbody>\n",
       "    <tr>\n",
       "      <th>0</th>\n",
       "      <td>-n_qDyqJ6oq1yQb1qc0hsQ</td>\n",
       "    </tr>\n",
       "    <tr>\n",
       "      <th>1</th>\n",
       "      <td>iHdg7BupnCVc3FYlrzxTrg</td>\n",
       "    </tr>\n",
       "    <tr>\n",
       "      <th>2</th>\n",
       "      <td>7dzyLlNQXwuPsmvquuaVIA</td>\n",
       "    </tr>\n",
       "    <tr>\n",
       "      <th>3</th>\n",
       "      <td>Iq2Ey5AiDK9JUKddyDLZ7g</td>\n",
       "    </tr>\n",
       "    <tr>\n",
       "      <th>4</th>\n",
       "      <td>3ejv6lfK3Qd9Q-pb_9YVUA</td>\n",
       "    </tr>\n",
       "    <tr>\n",
       "      <th>5</th>\n",
       "      <td>k7W_o3LpZaxMPWphXGS1MA</td>\n",
       "    </tr>\n",
       "    <tr>\n",
       "      <th>6</th>\n",
       "      <td>Choq0lds-DnnH0bUqx8FHQ</td>\n",
       "    </tr>\n",
       "    <tr>\n",
       "      <th>7</th>\n",
       "      <td>H8_9t4Tlw2bcKW9qdqAM8w</td>\n",
       "    </tr>\n",
       "    <tr>\n",
       "      <th>8</th>\n",
       "      <td>41PtFgRt3DQa4J4FHDZkRA</td>\n",
       "    </tr>\n",
       "    <tr>\n",
       "      <th>9</th>\n",
       "      <td>ehbByKSGZ28AHXlqUCVzIA</td>\n",
       "    </tr>\n",
       "    <tr>\n",
       "      <th>10</th>\n",
       "      <td>PIWXl9Bjw2Kvj6TUkIacsA</td>\n",
       "    </tr>\n",
       "    <tr>\n",
       "      <th>11</th>\n",
       "      <td>ILAaAXr4Varupm8MUSuwrA</td>\n",
       "    </tr>\n",
       "    <tr>\n",
       "      <th>12</th>\n",
       "      <td>WwNticOnmmkHrMRyAGR4rw</td>\n",
       "    </tr>\n",
       "    <tr>\n",
       "      <th>13</th>\n",
       "      <td>AAZFsMBLNgNg58eA06bFJA</td>\n",
       "    </tr>\n",
       "    <tr>\n",
       "      <th>14</th>\n",
       "      <td>lBtiaHCwi-QHAs_ReWClhw</td>\n",
       "    </tr>\n",
       "    <tr>\n",
       "      <th>15</th>\n",
       "      <td>WO10z5s4b6bg8G97emPn7A</td>\n",
       "    </tr>\n",
       "    <tr>\n",
       "      <th>16</th>\n",
       "      <td>h7skkHYh4JXZfARD6QhRBg</td>\n",
       "    </tr>\n",
       "    <tr>\n",
       "      <th>17</th>\n",
       "      <td>KYSd1eCFQY0uCON1GXmAhQ</td>\n",
       "    </tr>\n",
       "    <tr>\n",
       "      <th>18</th>\n",
       "      <td>S3nk3mllSk7QI-sRqG92Gg</td>\n",
       "    </tr>\n",
       "    <tr>\n",
       "      <th>19</th>\n",
       "      <td>qjAgVbVXuECartJqPeXErQ</td>\n",
       "    </tr>\n",
       "    <tr>\n",
       "      <th>20</th>\n",
       "      <td>dcXeYPp3UAgiCzGzmEz6aQ</td>\n",
       "    </tr>\n",
       "    <tr>\n",
       "      <th>21</th>\n",
       "      <td>3JOdRJS4PFkpfnNVxQtcmQ</td>\n",
       "    </tr>\n",
       "    <tr>\n",
       "      <th>22</th>\n",
       "      <td>yXgJ3_DPc4SQ-MDIw5Fkvw</td>\n",
       "    </tr>\n",
       "    <tr>\n",
       "      <th>23</th>\n",
       "      <td>3B1z5h8Y39hnEXbRc9jTHA</td>\n",
       "    </tr>\n",
       "    <tr>\n",
       "      <th>24</th>\n",
       "      <td>dZ800YCAc-HnvXInE7GU9g</td>\n",
       "    </tr>\n",
       "    <tr>\n",
       "      <th>25</th>\n",
       "      <td>fBsbGcUFnMO_7yXfikNjGg</td>\n",
       "    </tr>\n",
       "    <tr>\n",
       "      <th>26</th>\n",
       "      <td>u3f-W5yNwkSKJ8LjFtYCxg</td>\n",
       "    </tr>\n",
       "    <tr>\n",
       "      <th>27</th>\n",
       "      <td>KR0O7xKEm6rgE711HkkXTA</td>\n",
       "    </tr>\n",
       "  </tbody>\n",
       "</table>\n",
       "</div>"
      ],
      "text/plain": [
       "                        id\n",
       "0   -n_qDyqJ6oq1yQb1qc0hsQ\n",
       "1   iHdg7BupnCVc3FYlrzxTrg\n",
       "2   7dzyLlNQXwuPsmvquuaVIA\n",
       "3   Iq2Ey5AiDK9JUKddyDLZ7g\n",
       "4   3ejv6lfK3Qd9Q-pb_9YVUA\n",
       "5   k7W_o3LpZaxMPWphXGS1MA\n",
       "6   Choq0lds-DnnH0bUqx8FHQ\n",
       "7   H8_9t4Tlw2bcKW9qdqAM8w\n",
       "8   41PtFgRt3DQa4J4FHDZkRA\n",
       "9   ehbByKSGZ28AHXlqUCVzIA\n",
       "10  PIWXl9Bjw2Kvj6TUkIacsA\n",
       "11  ILAaAXr4Varupm8MUSuwrA\n",
       "12  WwNticOnmmkHrMRyAGR4rw\n",
       "13  AAZFsMBLNgNg58eA06bFJA\n",
       "14  lBtiaHCwi-QHAs_ReWClhw\n",
       "15  WO10z5s4b6bg8G97emPn7A\n",
       "16  h7skkHYh4JXZfARD6QhRBg\n",
       "17  KYSd1eCFQY0uCON1GXmAhQ\n",
       "18  S3nk3mllSk7QI-sRqG92Gg\n",
       "19  qjAgVbVXuECartJqPeXErQ\n",
       "20  dcXeYPp3UAgiCzGzmEz6aQ\n",
       "21  3JOdRJS4PFkpfnNVxQtcmQ\n",
       "22  yXgJ3_DPc4SQ-MDIw5Fkvw\n",
       "23  3B1z5h8Y39hnEXbRc9jTHA\n",
       "24  dZ800YCAc-HnvXInE7GU9g\n",
       "25  fBsbGcUFnMO_7yXfikNjGg\n",
       "26  u3f-W5yNwkSKJ8LjFtYCxg\n",
       "27  KR0O7xKEm6rgE711HkkXTA"
      ]
     },
     "execution_count": 38,
     "metadata": {},
     "output_type": "execute_result"
    }
   ],
   "source": [
    "#TIPO DE DADO DO POI_INFORMATION\n",
    "poi_information"
   ]
  },
  {
   "cell_type": "code",
   "execution_count": 39,
   "metadata": {},
   "outputs": [
    {
     "data": {
      "text/html": [
       "<div>\n",
       "<style scoped>\n",
       "    .dataframe tbody tr th:only-of-type {\n",
       "        vertical-align: middle;\n",
       "    }\n",
       "\n",
       "    .dataframe tbody tr th {\n",
       "        vertical-align: top;\n",
       "    }\n",
       "\n",
       "    .dataframe thead th {\n",
       "        text-align: right;\n",
       "    }\n",
       "</style>\n",
       "<table border=\"1\" class=\"dataframe\">\n",
       "  <thead>\n",
       "    <tr style=\"text-align: right;\">\n",
       "      <th></th>\n",
       "      <th>business_id</th>\n",
       "      <th>latitude</th>\n",
       "      <th>longitude</th>\n",
       "    </tr>\n",
       "  </thead>\n",
       "  <tbody>\n",
       "    <tr>\n",
       "      <th>0</th>\n",
       "      <td>hcRxdDg7DYryCxCoI8ySQA</td>\n",
       "      <td>42.338544</td>\n",
       "      <td>-71.106842</td>\n",
       "    </tr>\n",
       "    <tr>\n",
       "      <th>1</th>\n",
       "      <td>jGennaZUr2MsJyRhijNBfA</td>\n",
       "      <td>42.363442</td>\n",
       "      <td>-71.025781</td>\n",
       "    </tr>\n",
       "    <tr>\n",
       "      <th>2</th>\n",
       "      <td>iPD8BBvea6YldQZPHzVrSQ</td>\n",
       "      <td>42.342673</td>\n",
       "      <td>-71.084239</td>\n",
       "    </tr>\n",
       "    <tr>\n",
       "      <th>3</th>\n",
       "      <td>WuoNSCjFBH4OQTSNGc4l6w</td>\n",
       "      <td>42.350004</td>\n",
       "      <td>-71.081931</td>\n",
       "    </tr>\n",
       "    <tr>\n",
       "      <th>4</th>\n",
       "      <td>zHMsnpMPanzRx-A6AwGSdw</td>\n",
       "      <td>42.352135</td>\n",
       "      <td>-71.063102</td>\n",
       "    </tr>\n",
       "  </tbody>\n",
       "</table>\n",
       "</div>"
      ],
      "text/plain": [
       "              business_id   latitude  longitude\n",
       "0  hcRxdDg7DYryCxCoI8ySQA  42.338544 -71.106842\n",
       "1  jGennaZUr2MsJyRhijNBfA  42.363442 -71.025781\n",
       "2  iPD8BBvea6YldQZPHzVrSQ  42.342673 -71.084239\n",
       "3  WuoNSCjFBH4OQTSNGc4l6w  42.350004 -71.081931\n",
       "4  zHMsnpMPanzRx-A6AwGSdw  42.352135 -71.063102"
      ]
     },
     "execution_count": 39,
     "metadata": {},
     "output_type": "execute_result"
    }
   ],
   "source": [
    "#DATAFRAME DE POI\n",
    "poi_df = poi_df[['business_id', 'latitude', 'longitude']]\n",
    "poi_df.head()"
   ]
  },
  {
   "cell_type": "markdown",
   "metadata": {},
   "source": [
    "# Carregando dados de POIs"
   ]
  },
  {
   "cell_type": "code",
   "execution_count": 20,
   "metadata": {},
   "outputs": [
    {
     "data": {
      "text/html": [
       "<div>\n",
       "<style scoped>\n",
       "    .dataframe tbody tr th:only-of-type {\n",
       "        vertical-align: middle;\n",
       "    }\n",
       "\n",
       "    .dataframe tbody tr th {\n",
       "        vertical-align: top;\n",
       "    }\n",
       "\n",
       "    .dataframe thead th {\n",
       "        text-align: right;\n",
       "    }\n",
       "</style>\n",
       "<table border=\"1\" class=\"dataframe\">\n",
       "  <thead>\n",
       "    <tr style=\"text-align: right;\">\n",
       "      <th></th>\n",
       "      <th>business_id</th>\n",
       "      <th>latitude</th>\n",
       "      <th>longitude</th>\n",
       "      <th>categories</th>\n",
       "      <th>checkin_count</th>\n",
       "    </tr>\n",
       "  </thead>\n",
       "  <tbody>\n",
       "    <tr>\n",
       "      <th>0</th>\n",
       "      <td>hcRxdDg7DYryCxCoI8ySQA</td>\n",
       "      <td>42.338544</td>\n",
       "      <td>-71.106842</td>\n",
       "      <td>Restaurants, Shopping, Shopping Centers</td>\n",
       "      <td>24</td>\n",
       "    </tr>\n",
       "    <tr>\n",
       "      <th>1</th>\n",
       "      <td>jGennaZUr2MsJyRhijNBfA</td>\n",
       "      <td>42.363442</td>\n",
       "      <td>-71.025781</td>\n",
       "      <td>Sandwiches, Food, Restaurants, Breakfast &amp; Bru...</td>\n",
       "      <td>856</td>\n",
       "    </tr>\n",
       "    <tr>\n",
       "      <th>2</th>\n",
       "      <td>iPD8BBvea6YldQZPHzVrSQ</td>\n",
       "      <td>42.342673</td>\n",
       "      <td>-71.084239</td>\n",
       "      <td>Creperies, Restaurants, Food, Coffee &amp; Tea, Br...</td>\n",
       "      <td>7</td>\n",
       "    </tr>\n",
       "    <tr>\n",
       "      <th>3</th>\n",
       "      <td>WuoNSCjFBH4OQTSNGc4l6w</td>\n",
       "      <td>42.350004</td>\n",
       "      <td>-71.081931</td>\n",
       "      <td>Beauty &amp; Spas, Hair Salons, Active Life, Day Spas</td>\n",
       "      <td>138</td>\n",
       "    </tr>\n",
       "    <tr>\n",
       "      <th>4</th>\n",
       "      <td>zHMsnpMPanzRx-A6AwGSdw</td>\n",
       "      <td>42.352135</td>\n",
       "      <td>-71.063102</td>\n",
       "      <td>Day Spas, Tanning, Hair Stylists, Massage, Spr...</td>\n",
       "      <td>42</td>\n",
       "    </tr>\n",
       "  </tbody>\n",
       "</table>\n",
       "</div>"
      ],
      "text/plain": [
       "              business_id   latitude  longitude  \\\n",
       "0  hcRxdDg7DYryCxCoI8ySQA  42.338544 -71.106842   \n",
       "1  jGennaZUr2MsJyRhijNBfA  42.363442 -71.025781   \n",
       "2  iPD8BBvea6YldQZPHzVrSQ  42.342673 -71.084239   \n",
       "3  WuoNSCjFBH4OQTSNGc4l6w  42.350004 -71.081931   \n",
       "4  zHMsnpMPanzRx-A6AwGSdw  42.352135 -71.063102   \n",
       "\n",
       "                                          categories  checkin_count  \n",
       "0            Restaurants, Shopping, Shopping Centers             24  \n",
       "1  Sandwiches, Food, Restaurants, Breakfast & Bru...            856  \n",
       "2  Creperies, Restaurants, Food, Coffee & Tea, Br...              7  \n",
       "3  Beauty & Spas, Hair Salons, Active Life, Day Spas            138  \n",
       "4  Day Spas, Tanning, Hair Stylists, Massage, Spr...             42  "
      ]
     },
     "execution_count": 20,
     "metadata": {},
     "output_type": "execute_result"
    }
   ],
   "source": [
    "with SSHTunnelForwarder(\n",
    "    ('150.165.15.171', 23456),\n",
    "    #ssh_private_key=\"</path/to/private/ssh/key>\",\n",
    "    ### in my case, I used a password instead of a private key\n",
    "    ssh_username=\"salatiel\",\n",
    "    ssh_password=\"Salatiel@Lacina123\",\n",
    "    remote_bind_address=('localhost', 5432)) as server:\n",
    "\n",
    "        server.start()\n",
    "        #print(\"server connected\")\n",
    "\n",
    "        params = {'database': 'boston',\n",
    "               'user': 'salatiel',\n",
    "               'password': 'root',\n",
    "               'host': 'localhost',\n",
    "               'port': server.local_bind_port\n",
    "        }\n",
    "\n",
    "        connection = psycopg2.connect(**params)\n",
    "\n",
    "        #Buscar informações dos POIs\n",
    "        poi_df = getAllPOIInformation(connection)\n",
    "        if (len(poi_df) > 0):\n",
    "            tags = list(dict(poi_df[0]).keys())\n",
    "            poi_df = pd.DataFrame(poi_df, columns = tags)\n",
    "\n",
    "poi_df = poi_df.dropna()\n",
    "poi_df['latitude'] = poi_df['latitude'].astype(float)\n",
    "poi_df['longitude'] = poi_df['longitude'].astype(float)\n",
    "poi_df.head()"
   ]
  },
  {
   "cell_type": "code",
   "execution_count": 24,
   "metadata": {},
   "outputs": [
    {
     "data": {
      "text/plain": [
       "array([0.        , 0.08479843, 0.02297677, ..., 0.03257799, 0.03288391,\n",
       "       0.05160452])"
      ]
     },
     "execution_count": 24,
     "metadata": {},
     "output_type": "execute_result"
    }
   ],
   "source": [
    "from scipy.spatial.distance import cdist\n",
    "distances_matrix = cdist(poi_df[['latitude', 'longitude']].values, poi_df[['latitude', 'longitude']].values)\n",
    "distances_matrix[0]"
   ]
  },
  {
   "cell_type": "markdown",
   "metadata": {},
   "source": [
    "# Carregando dados de Zonas"
   ]
  },
  {
   "cell_type": "code",
   "execution_count": 25,
   "metadata": {},
   "outputs": [],
   "source": [
    "#Carregando ZONAS\n",
    "with SSHTunnelForwarder(\n",
    "    ('150.165.15.171', 23456),\n",
    "    #ssh_private_key=\"</path/to/private/ssh/key>\",\n",
    "    ### in my case, I used a password instead of a private key\n",
    "    ssh_username=\"salatiel\",\n",
    "    ssh_password=\"Salatiel@Lacina123\",\n",
    "    remote_bind_address=('localhost', 5432)) as server:\n",
    "\n",
    "        server.start()\n",
    "        #print(\"server connected\")\n",
    "\n",
    "        params = {'database': 'boston',\n",
    "               'user': 'salatiel',\n",
    "               'password': 'root',\n",
    "               'host': 'localhost',\n",
    "               'port': server.local_bind_port\n",
    "        }\n",
    "\n",
    "        connection = psycopg2.connect(**params)\n",
    "\n",
    "        #Buscar informações dos POIs\n",
    "        query = \"SELECT distinct(objectid) FROM zoning_1618_pois\"\n",
    "        result = executeQuery(connection, query)\n",
    "        \n",
    "        final_zoning_gdf = pd.DataFrame(result)"
   ]
  },
  {
   "cell_type": "code",
   "execution_count": 26,
   "metadata": {},
   "outputs": [
    {
     "data": {
      "text/html": [
       "<div>\n",
       "<style scoped>\n",
       "    .dataframe tbody tr th:only-of-type {\n",
       "        vertical-align: middle;\n",
       "    }\n",
       "\n",
       "    .dataframe tbody tr th {\n",
       "        vertical-align: top;\n",
       "    }\n",
       "\n",
       "    .dataframe thead th {\n",
       "        text-align: right;\n",
       "    }\n",
       "</style>\n",
       "<table border=\"1\" class=\"dataframe\">\n",
       "  <thead>\n",
       "    <tr style=\"text-align: right;\">\n",
       "      <th></th>\n",
       "      <th>objectid</th>\n",
       "    </tr>\n",
       "  </thead>\n",
       "  <tbody>\n",
       "    <tr>\n",
       "      <th>0</th>\n",
       "      <td>12530</td>\n",
       "    </tr>\n",
       "    <tr>\n",
       "      <th>1</th>\n",
       "      <td>12175</td>\n",
       "    </tr>\n",
       "    <tr>\n",
       "      <th>2</th>\n",
       "      <td>11963</td>\n",
       "    </tr>\n",
       "    <tr>\n",
       "      <th>3</th>\n",
       "      <td>11638</td>\n",
       "    </tr>\n",
       "    <tr>\n",
       "      <th>4</th>\n",
       "      <td>12269</td>\n",
       "    </tr>\n",
       "  </tbody>\n",
       "</table>\n",
       "</div>"
      ],
      "text/plain": [
       "   objectid\n",
       "0     12530\n",
       "1     12175\n",
       "2     11963\n",
       "3     11638\n",
       "4     12269"
      ]
     },
     "execution_count": 26,
     "metadata": {},
     "output_type": "execute_result"
    }
   ],
   "source": [
    "final_zoning_gdf.head()"
   ]
  },
  {
   "cell_type": "code",
   "execution_count": 27,
   "metadata": {},
   "outputs": [
    {
     "data": {
      "text/plain": [
       "[12530, 12175, 11963, 11638, 12269]"
      ]
     },
     "execution_count": 27,
     "metadata": {},
     "output_type": "execute_result"
    }
   ],
   "source": [
    "obj_id_list = list(final_zoning_gdf['objectid'])\n",
    "obj_id_list[:5]"
   ]
  },
  {
   "cell_type": "code",
   "execution_count": 23,
   "metadata": {
    "scrolled": true
   },
   "outputs": [
    {
     "name": "stderr",
     "output_type": "stream",
     "text": [
      " 13%|█▎        | 77/598 [00:43<04:58,  1.75it/s]2024-10-13 09:12:55,702| ERROR   | Could not establish connection from local ('127.0.0.1', 34839) to remote ('localhost', 5432) side of the tunnel: \n",
      " 64%|██████▍   | 385/598 [03:40<01:57,  1.81it/s]2024-10-13 09:15:51,991| ERROR   | Could not establish connection from local ('127.0.0.1', 39345) to remote ('localhost', 5432) side of the tunnel: \n",
      "100%|██████████| 598/598 [05:41<00:00,  1.75it/s]\n"
     ]
    }
   ],
   "source": [
    "results = []\n",
    "for obj_id in tqdm(obj_id_list):\n",
    "    results.append(Shortest_Path_FT(obj_id, poi_df))"
   ]
  },
  {
   "cell_type": "code",
   "execution_count": 30,
   "metadata": {},
   "outputs": [
    {
     "data": {
      "text/plain": [
       "['Iq2Ey5AiDK9JUKddyDLZ7g',\n",
       " '3ejv6lfK3Qd9Q-pb_9YVUA',\n",
       " '7dzyLlNQXwuPsmvquuaVIA',\n",
       " 'S3nk3mllSk7QI-sRqG92Gg',\n",
       " '3JOdRJS4PFkpfnNVxQtcmQ',\n",
       " '41PtFgRt3DQa4J4FHDZkRA',\n",
       " 'dcXeYPp3UAgiCzGzmEz6aQ',\n",
       " 'h7skkHYh4JXZfARD6QhRBg',\n",
       " 'WO10z5s4b6bg8G97emPn7A',\n",
       " 'dZ800YCAc-HnvXInE7GU9g',\n",
       " 'KR0O7xKEm6rgE711HkkXTA',\n",
       " 'Choq0lds-DnnH0bUqx8FHQ',\n",
       " 'ehbByKSGZ28AHXlqUCVzIA',\n",
       " 'fBsbGcUFnMO_7yXfikNjGg',\n",
       " 'iHdg7BupnCVc3FYlrzxTrg',\n",
       " 'KYSd1eCFQY0uCON1GXmAhQ',\n",
       " 'ILAaAXr4Varupm8MUSuwrA',\n",
       " '3B1z5h8Y39hnEXbRc9jTHA',\n",
       " 'qjAgVbVXuECartJqPeXErQ',\n",
       " 'u3f-W5yNwkSKJ8LjFtYCxg',\n",
       " 'k7W_o3LpZaxMPWphXGS1MA',\n",
       " 'WwNticOnmmkHrMRyAGR4rw',\n",
       " 'H8_9t4Tlw2bcKW9qdqAM8w',\n",
       " 'lBtiaHCwi-QHAs_ReWClhw',\n",
       " 'AAZFsMBLNgNg58eA06bFJA',\n",
       " 'yXgJ3_DPc4SQ-MDIw5Fkvw',\n",
       " '-n_qDyqJ6oq1yQb1qc0hsQ',\n",
       " 'PIWXl9Bjw2Kvj6TUkIacsA']"
      ]
     },
     "execution_count": 30,
     "metadata": {},
     "output_type": "execute_result"
    }
   ],
   "source": [
    "Shortest_Path_FT(\"12269\", poi_df)"
   ]
  },
  {
   "cell_type": "code",
   "execution_count": 28,
   "metadata": {},
   "outputs": [],
   "source": [
    "#file_name = './Atlanta/Shortest Path/atlanta-shortest_path-zoning-FT_gpu.csv'\n",
    "file_name = './Boston/Shortest Path/boston-shortest_path-zoning-FT_gpu.csv'\n",
    "\n",
    "csv_file_02 = open(file_name, \"w\", newline='')\n",
    "writer_path = csv.writer(csv_file_02, delimiter=',')\n",
    "for result in results:\n",
    "    if(len(result) > 0):\n",
    "        writer_path.writerow(result)\n"
   ]
  },
  {
   "cell_type": "markdown",
   "metadata": {},
   "source": [
    "## Execução em Paralelo"
   ]
  },
  {
   "cell_type": "code",
   "execution_count": 22,
   "metadata": {
    "execution": {
     "iopub.execute_input": "2021-08-10T21:50:03.236761Z",
     "iopub.status.busy": "2021-08-10T21:50:03.236417Z",
     "iopub.status.idle": "2021-08-10T23:51:59.673123Z",
     "shell.execute_reply": "2021-08-10T23:51:59.671871Z",
     "shell.execute_reply.started": "2021-08-10T21:50:03.236732Z"
    },
    "scrolled": true
   },
   "outputs": [
    {
     "name": "stdout",
     "output_type": "stream",
     "text": [
      "Number of processors:  20\n"
     ]
    },
    {
     "name": "stderr",
     "output_type": "stream",
     "text": [
      "2024-08-27 20:09:59,193| ERROR   | Exception (client): Error reading SSH protocol banner\n",
      "2024-08-27 20:09:59,195| ERROR   | Traceback (most recent call last):\n",
      "2024-08-27 20:09:59,196| ERROR   |   File \"/home/salatiel/anaconda3/lib/python3.7/site-packages/paramiko/transport.py\", line 2270, in _check_banner\n",
      "2024-08-27 20:09:59,198| ERROR   |     buf = self.packetizer.readline(timeout)\n",
      "2024-08-27 20:09:59,201| ERROR   |   File \"/home/salatiel/anaconda3/lib/python3.7/site-packages/paramiko/packet.py\", line 374, in readline\n",
      "2024-08-27 20:09:59,202| ERROR   |     buf += self._read_timeout(timeout)\n",
      "2024-08-27 20:09:59,202| ERROR   |   File \"/home/salatiel/anaconda3/lib/python3.7/site-packages/paramiko/packet.py\", line 603, in _read_timeout\n",
      "2024-08-27 20:09:59,203| ERROR   |     raise EOFError()\n",
      "2024-08-27 20:09:59,203| ERROR   | EOFError\n",
      "2024-08-27 20:09:59,204| ERROR   | \n",
      "2024-08-27 20:09:59,204| ERROR   | During handling of the above exception, another exception occurred:\n",
      "2024-08-27 20:09:59,205| ERROR   | \n",
      "2024-08-27 20:09:59,205| ERROR   | Traceback (most recent call last):\n",
      "2024-08-27 20:09:59,206| ERROR   |   File \"/home/salatiel/anaconda3/lib/python3.7/site-packages/paramiko/transport.py\", line 2093, in run\n",
      "2024-08-27 20:09:59,206| ERROR   |     self._check_banner()\n",
      "2024-08-27 20:09:59,207| ERROR   |   File \"/home/salatiel/anaconda3/lib/python3.7/site-packages/paramiko/transport.py\", line 2275, in _check_banner\n",
      "2024-08-27 20:09:59,207| ERROR   |     \"Error reading SSH protocol banner\" + str(e)\n",
      "2024-08-27 20:09:59,208| ERROR   | paramiko.ssh_exception.SSHException: Error reading SSH protocol banner\n",
      "2024-08-27 20:09:59,208| ERROR   | \n",
      "2024-08-27 20:09:59,209| ERROR   | Could not connect to gateway 150.165.15.171:23456 : Error reading SSH protocol banner\n"
     ]
    },
    {
     "name": "stdout",
     "output_type": "stream",
     "text": [
      "Could not establish session to SSH gateway\n"
     ]
    },
    {
     "name": "stderr",
     "output_type": "stream",
     "text": [
      "2024-08-27 20:09:59,348| ERROR   | Exception (client): Error reading SSH protocol banner\n",
      "2024-08-27 20:09:59,349| ERROR   | Traceback (most recent call last):\n",
      "2024-08-27 20:09:59,350| ERROR   |   File \"/home/salatiel/anaconda3/lib/python3.7/site-packages/paramiko/transport.py\", line 2270, in _check_banner\n",
      "2024-08-27 20:09:59,350| ERROR   |     buf = self.packetizer.readline(timeout)\n",
      "2024-08-27 20:09:59,350| ERROR   |   File \"/home/salatiel/anaconda3/lib/python3.7/site-packages/paramiko/packet.py\", line 374, in readline\n",
      "2024-08-27 20:09:59,351| ERROR   |     buf += self._read_timeout(timeout)\n",
      "2024-08-27 20:09:59,351| ERROR   |   File \"/home/salatiel/anaconda3/lib/python3.7/site-packages/paramiko/packet.py\", line 603, in _read_timeout\n",
      "2024-08-27 20:09:59,353| ERROR   |     raise EOFError()\n",
      "2024-08-27 20:09:59,354| ERROR   | EOFError\n",
      "2024-08-27 20:09:59,354| ERROR   | \n",
      "2024-08-27 20:09:59,357| ERROR   | During handling of the above exception, another exception occurred:\n",
      "2024-08-27 20:09:59,357| ERROR   | \n",
      "2024-08-27 20:09:59,358| ERROR   | Traceback (most recent call last):\n",
      "2024-08-27 20:09:59,359| ERROR   |   File \"/home/salatiel/anaconda3/lib/python3.7/site-packages/paramiko/transport.py\", line 2093, in run\n",
      "2024-08-27 20:09:59,359| ERROR   |     self._check_banner()\n",
      "2024-08-27 20:09:59,360| ERROR   |   File \"/home/salatiel/anaconda3/lib/python3.7/site-packages/paramiko/transport.py\", line 2275, in _check_banner\n",
      "2024-08-27 20:09:59,360| ERROR   |     \"Error reading SSH protocol banner\" + str(e)\n",
      "2024-08-27 20:09:59,361| ERROR   | paramiko.ssh_exception.SSHException: Error reading SSH protocol banner\n",
      "2024-08-27 20:09:59,361| ERROR   | \n",
      "2024-08-27 20:09:59,361| ERROR   | Could not connect to gateway 150.165.15.171:23456 : Error reading SSH protocol banner\n"
     ]
    },
    {
     "name": "stdout",
     "output_type": "stream",
     "text": [
      "Could not establish session to SSH gateway\n"
     ]
    },
    {
     "name": "stderr",
     "output_type": "stream",
     "text": [
      "2024-08-27 20:10:02,498| ERROR   | Exception (client): Error reading SSH protocol banner\n",
      "2024-08-27 20:10:02,500| ERROR   | Traceback (most recent call last):\n",
      "2024-08-27 20:10:02,501| ERROR   |   File \"/home/salatiel/anaconda3/lib/python3.7/site-packages/paramiko/transport.py\", line 2270, in _check_banner\n",
      "2024-08-27 20:10:02,501| ERROR   |     buf = self.packetizer.readline(timeout)\n",
      "2024-08-27 20:10:02,502| ERROR   |   File \"/home/salatiel/anaconda3/lib/python3.7/site-packages/paramiko/packet.py\", line 374, in readline\n",
      "2024-08-27 20:10:02,526| ERROR   |     buf += self._read_timeout(timeout)\n",
      "2024-08-27 20:10:02,527| ERROR   |   File \"/home/salatiel/anaconda3/lib/python3.7/site-packages/paramiko/packet.py\", line 603, in _read_timeout\n",
      "2024-08-27 20:10:02,528| ERROR   |     raise EOFError()\n",
      "2024-08-27 20:10:02,533| ERROR   | EOFError\n",
      "2024-08-27 20:10:02,558| ERROR   | \n",
      "2024-08-27 20:10:02,559| ERROR   | During handling of the above exception, another exception occurred:\n",
      "2024-08-27 20:10:02,561| ERROR   | \n",
      "2024-08-27 20:10:02,562| ERROR   | Traceback (most recent call last):\n",
      "2024-08-27 20:10:02,565| ERROR   |   File \"/home/salatiel/anaconda3/lib/python3.7/site-packages/paramiko/transport.py\", line 2093, in run\n",
      "2024-08-27 20:10:02,565| ERROR   |     self._check_banner()\n",
      "2024-08-27 20:10:02,566| ERROR   |   File \"/home/salatiel/anaconda3/lib/python3.7/site-packages/paramiko/transport.py\", line 2275, in _check_banner\n",
      "2024-08-27 20:10:02,567| ERROR   |     \"Error reading SSH protocol banner\" + str(e)\n",
      "2024-08-27 20:10:02,567| ERROR   | paramiko.ssh_exception.SSHException: Error reading SSH protocol banner\n",
      "2024-08-27 20:10:02,568| ERROR   | \n",
      "2024-08-27 20:10:02,569| ERROR   | Could not connect to gateway 150.165.15.171:23456 : Error reading SSH protocol banner\n"
     ]
    },
    {
     "name": "stdout",
     "output_type": "stream",
     "text": [
      "Could not establish session to SSH gateway\n"
     ]
    },
    {
     "name": "stderr",
     "output_type": "stream",
     "text": [
      "2024-08-27 20:10:02,773| ERROR   | Exception (client): Error reading SSH protocol banner\n",
      "2024-08-27 20:10:02,774| ERROR   | Traceback (most recent call last):\n",
      "2024-08-27 20:10:02,776| ERROR   |   File \"/home/salatiel/anaconda3/lib/python3.7/site-packages/paramiko/transport.py\", line 2270, in _check_banner\n",
      "2024-08-27 20:10:02,777| ERROR   |     buf = self.packetizer.readline(timeout)\n",
      "2024-08-27 20:10:02,777| ERROR   |   File \"/home/salatiel/anaconda3/lib/python3.7/site-packages/paramiko/packet.py\", line 374, in readline\n",
      "2024-08-27 20:10:02,778| ERROR   |     buf += self._read_timeout(timeout)\n",
      "2024-08-27 20:10:02,779| ERROR   |   File \"/home/salatiel/anaconda3/lib/python3.7/site-packages/paramiko/packet.py\", line 603, in _read_timeout\n",
      "2024-08-27 20:10:02,779| ERROR   |     raise EOFError()\n",
      "2024-08-27 20:10:02,779| ERROR   | EOFError\n",
      "2024-08-27 20:10:02,781| ERROR   | \n",
      "2024-08-27 20:10:02,782| ERROR   | During handling of the above exception, another exception occurred:\n",
      "2024-08-27 20:10:02,782| ERROR   | \n",
      "2024-08-27 20:10:02,782| ERROR   | Traceback (most recent call last):\n",
      "2024-08-27 20:10:02,783| ERROR   |   File \"/home/salatiel/anaconda3/lib/python3.7/site-packages/paramiko/transport.py\", line 2093, in run\n",
      "2024-08-27 20:10:02,783| ERROR   |     self._check_banner()\n",
      "2024-08-27 20:10:02,784| ERROR   |   File \"/home/salatiel/anaconda3/lib/python3.7/site-packages/paramiko/transport.py\", line 2275, in _check_banner\n",
      "2024-08-27 20:10:02,784| ERROR   |     \"Error reading SSH protocol banner\" + str(e)\n",
      "2024-08-27 20:10:02,784| ERROR   | paramiko.ssh_exception.SSHException: Error reading SSH protocol banner\n",
      "2024-08-27 20:10:02,785| ERROR   | \n",
      "2024-08-27 20:10:02,785| ERROR   | Could not connect to gateway 150.165.15.171:23456 : Error reading SSH protocol banner\n"
     ]
    },
    {
     "name": "stdout",
     "output_type": "stream",
     "text": [
      "Could not establish session to SSH gateway\n"
     ]
    },
    {
     "ename": "KeyboardInterrupt",
     "evalue": "",
     "output_type": "error",
     "traceback": [
      "\u001b[0;31m---------------------------------------------------------------------------\u001b[0m",
      "\u001b[0;31mKeyboardInterrupt\u001b[0m                         Traceback (most recent call last)",
      "\u001b[0;32m<ipython-input-22-ac61ed481a9b>\u001b[0m in \u001b[0;36m<module>\u001b[0;34m\u001b[0m\n\u001b[1;32m     13\u001b[0m \u001b[0mitems\u001b[0m \u001b[0;34m=\u001b[0m \u001b[0;34m[\u001b[0m\u001b[0;34m(\u001b[0m\u001b[0mobject_id\u001b[0m\u001b[0;34m,\u001b[0m \u001b[0mpoi_df\u001b[0m\u001b[0;34m)\u001b[0m \u001b[0;32mfor\u001b[0m \u001b[0mobject_id\u001b[0m \u001b[0;32min\u001b[0m \u001b[0mobj_id_list\u001b[0m\u001b[0;34m]\u001b[0m\u001b[0;34m\u001b[0m\u001b[0;34m\u001b[0m\u001b[0m\n\u001b[1;32m     14\u001b[0m \u001b[0;34m\u001b[0m\u001b[0m\n\u001b[0;32m---> 15\u001b[0;31m \u001b[0mresults\u001b[0m \u001b[0;34m=\u001b[0m \u001b[0mpool\u001b[0m\u001b[0;34m.\u001b[0m\u001b[0mstarmap\u001b[0m\u001b[0;34m(\u001b[0m\u001b[0mShortest_Path_FT\u001b[0m\u001b[0;34m,\u001b[0m \u001b[0mitems\u001b[0m\u001b[0;34m)\u001b[0m\u001b[0;34m\u001b[0m\u001b[0;34m\u001b[0m\u001b[0m\n\u001b[0m\u001b[1;32m     16\u001b[0m \u001b[0;34m\u001b[0m\u001b[0m\n\u001b[1;32m     17\u001b[0m \u001b[0;31m#Step 2.1 Writing results\u001b[0m\u001b[0;34m\u001b[0m\u001b[0;34m\u001b[0m\u001b[0;34m\u001b[0m\u001b[0m\n",
      "\u001b[0;32m~/anaconda3/lib/python3.7/multiprocessing/pool.py\u001b[0m in \u001b[0;36mstarmap\u001b[0;34m(self, func, iterable, chunksize)\u001b[0m\n\u001b[1;32m    274\u001b[0m         \u001b[0;31m`\u001b[0m\u001b[0mfunc\u001b[0m\u001b[0;31m`\u001b[0m \u001b[0;32mand\u001b[0m \u001b[0;34m(\u001b[0m\u001b[0ma\u001b[0m\u001b[0;34m,\u001b[0m \u001b[0mb\u001b[0m\u001b[0;34m)\u001b[0m \u001b[0mbecomes\u001b[0m \u001b[0mfunc\u001b[0m\u001b[0;34m(\u001b[0m\u001b[0ma\u001b[0m\u001b[0;34m,\u001b[0m \u001b[0mb\u001b[0m\u001b[0;34m)\u001b[0m\u001b[0;34m.\u001b[0m\u001b[0;34m\u001b[0m\u001b[0;34m\u001b[0m\u001b[0m\n\u001b[1;32m    275\u001b[0m         '''\n\u001b[0;32m--> 276\u001b[0;31m         \u001b[0;32mreturn\u001b[0m \u001b[0mself\u001b[0m\u001b[0;34m.\u001b[0m\u001b[0m_map_async\u001b[0m\u001b[0;34m(\u001b[0m\u001b[0mfunc\u001b[0m\u001b[0;34m,\u001b[0m \u001b[0miterable\u001b[0m\u001b[0;34m,\u001b[0m \u001b[0mstarmapstar\u001b[0m\u001b[0;34m,\u001b[0m \u001b[0mchunksize\u001b[0m\u001b[0;34m)\u001b[0m\u001b[0;34m.\u001b[0m\u001b[0mget\u001b[0m\u001b[0;34m(\u001b[0m\u001b[0;34m)\u001b[0m\u001b[0;34m\u001b[0m\u001b[0;34m\u001b[0m\u001b[0m\n\u001b[0m\u001b[1;32m    277\u001b[0m \u001b[0;34m\u001b[0m\u001b[0m\n\u001b[1;32m    278\u001b[0m     def starmap_async(self, func, iterable, chunksize=None, callback=None,\n",
      "\u001b[0;32m~/anaconda3/lib/python3.7/multiprocessing/pool.py\u001b[0m in \u001b[0;36mget\u001b[0;34m(self, timeout)\u001b[0m\n\u001b[1;32m    649\u001b[0m \u001b[0;34m\u001b[0m\u001b[0m\n\u001b[1;32m    650\u001b[0m     \u001b[0;32mdef\u001b[0m \u001b[0mget\u001b[0m\u001b[0;34m(\u001b[0m\u001b[0mself\u001b[0m\u001b[0;34m,\u001b[0m \u001b[0mtimeout\u001b[0m\u001b[0;34m=\u001b[0m\u001b[0;32mNone\u001b[0m\u001b[0;34m)\u001b[0m\u001b[0;34m:\u001b[0m\u001b[0;34m\u001b[0m\u001b[0;34m\u001b[0m\u001b[0m\n\u001b[0;32m--> 651\u001b[0;31m         \u001b[0mself\u001b[0m\u001b[0;34m.\u001b[0m\u001b[0mwait\u001b[0m\u001b[0;34m(\u001b[0m\u001b[0mtimeout\u001b[0m\u001b[0;34m)\u001b[0m\u001b[0;34m\u001b[0m\u001b[0;34m\u001b[0m\u001b[0m\n\u001b[0m\u001b[1;32m    652\u001b[0m         \u001b[0;32mif\u001b[0m \u001b[0;32mnot\u001b[0m \u001b[0mself\u001b[0m\u001b[0;34m.\u001b[0m\u001b[0mready\u001b[0m\u001b[0;34m(\u001b[0m\u001b[0;34m)\u001b[0m\u001b[0;34m:\u001b[0m\u001b[0;34m\u001b[0m\u001b[0;34m\u001b[0m\u001b[0m\n\u001b[1;32m    653\u001b[0m             \u001b[0;32mraise\u001b[0m \u001b[0mTimeoutError\u001b[0m\u001b[0;34m\u001b[0m\u001b[0;34m\u001b[0m\u001b[0m\n",
      "\u001b[0;32m~/anaconda3/lib/python3.7/multiprocessing/pool.py\u001b[0m in \u001b[0;36mwait\u001b[0;34m(self, timeout)\u001b[0m\n\u001b[1;32m    646\u001b[0m \u001b[0;34m\u001b[0m\u001b[0m\n\u001b[1;32m    647\u001b[0m     \u001b[0;32mdef\u001b[0m \u001b[0mwait\u001b[0m\u001b[0;34m(\u001b[0m\u001b[0mself\u001b[0m\u001b[0;34m,\u001b[0m \u001b[0mtimeout\u001b[0m\u001b[0;34m=\u001b[0m\u001b[0;32mNone\u001b[0m\u001b[0;34m)\u001b[0m\u001b[0;34m:\u001b[0m\u001b[0;34m\u001b[0m\u001b[0;34m\u001b[0m\u001b[0m\n\u001b[0;32m--> 648\u001b[0;31m         \u001b[0mself\u001b[0m\u001b[0;34m.\u001b[0m\u001b[0m_event\u001b[0m\u001b[0;34m.\u001b[0m\u001b[0mwait\u001b[0m\u001b[0;34m(\u001b[0m\u001b[0mtimeout\u001b[0m\u001b[0;34m)\u001b[0m\u001b[0;34m\u001b[0m\u001b[0;34m\u001b[0m\u001b[0m\n\u001b[0m\u001b[1;32m    649\u001b[0m \u001b[0;34m\u001b[0m\u001b[0m\n\u001b[1;32m    650\u001b[0m     \u001b[0;32mdef\u001b[0m \u001b[0mget\u001b[0m\u001b[0;34m(\u001b[0m\u001b[0mself\u001b[0m\u001b[0;34m,\u001b[0m \u001b[0mtimeout\u001b[0m\u001b[0;34m=\u001b[0m\u001b[0;32mNone\u001b[0m\u001b[0;34m)\u001b[0m\u001b[0;34m:\u001b[0m\u001b[0;34m\u001b[0m\u001b[0;34m\u001b[0m\u001b[0m\n",
      "\u001b[0;32m~/anaconda3/lib/python3.7/threading.py\u001b[0m in \u001b[0;36mwait\u001b[0;34m(self, timeout)\u001b[0m\n\u001b[1;32m    550\u001b[0m             \u001b[0msignaled\u001b[0m \u001b[0;34m=\u001b[0m \u001b[0mself\u001b[0m\u001b[0;34m.\u001b[0m\u001b[0m_flag\u001b[0m\u001b[0;34m\u001b[0m\u001b[0;34m\u001b[0m\u001b[0m\n\u001b[1;32m    551\u001b[0m             \u001b[0;32mif\u001b[0m \u001b[0;32mnot\u001b[0m \u001b[0msignaled\u001b[0m\u001b[0;34m:\u001b[0m\u001b[0;34m\u001b[0m\u001b[0;34m\u001b[0m\u001b[0m\n\u001b[0;32m--> 552\u001b[0;31m                 \u001b[0msignaled\u001b[0m \u001b[0;34m=\u001b[0m \u001b[0mself\u001b[0m\u001b[0;34m.\u001b[0m\u001b[0m_cond\u001b[0m\u001b[0;34m.\u001b[0m\u001b[0mwait\u001b[0m\u001b[0;34m(\u001b[0m\u001b[0mtimeout\u001b[0m\u001b[0;34m)\u001b[0m\u001b[0;34m\u001b[0m\u001b[0;34m\u001b[0m\u001b[0m\n\u001b[0m\u001b[1;32m    553\u001b[0m             \u001b[0;32mreturn\u001b[0m \u001b[0msignaled\u001b[0m\u001b[0;34m\u001b[0m\u001b[0;34m\u001b[0m\u001b[0m\n\u001b[1;32m    554\u001b[0m \u001b[0;34m\u001b[0m\u001b[0m\n",
      "\u001b[0;32m~/anaconda3/lib/python3.7/threading.py\u001b[0m in \u001b[0;36mwait\u001b[0;34m(self, timeout)\u001b[0m\n\u001b[1;32m    294\u001b[0m         \u001b[0;32mtry\u001b[0m\u001b[0;34m:\u001b[0m    \u001b[0;31m# restore state no matter what (e.g., KeyboardInterrupt)\u001b[0m\u001b[0;34m\u001b[0m\u001b[0;34m\u001b[0m\u001b[0m\n\u001b[1;32m    295\u001b[0m             \u001b[0;32mif\u001b[0m \u001b[0mtimeout\u001b[0m \u001b[0;32mis\u001b[0m \u001b[0;32mNone\u001b[0m\u001b[0;34m:\u001b[0m\u001b[0;34m\u001b[0m\u001b[0;34m\u001b[0m\u001b[0m\n\u001b[0;32m--> 296\u001b[0;31m                 \u001b[0mwaiter\u001b[0m\u001b[0;34m.\u001b[0m\u001b[0macquire\u001b[0m\u001b[0;34m(\u001b[0m\u001b[0;34m)\u001b[0m\u001b[0;34m\u001b[0m\u001b[0;34m\u001b[0m\u001b[0m\n\u001b[0m\u001b[1;32m    297\u001b[0m                 \u001b[0mgotit\u001b[0m \u001b[0;34m=\u001b[0m \u001b[0;32mTrue\u001b[0m\u001b[0;34m\u001b[0m\u001b[0;34m\u001b[0m\u001b[0m\n\u001b[1;32m    298\u001b[0m             \u001b[0;32melse\u001b[0m\u001b[0;34m:\u001b[0m\u001b[0;34m\u001b[0m\u001b[0;34m\u001b[0m\u001b[0m\n",
      "\u001b[0;31mKeyboardInterrupt\u001b[0m: "
     ]
    },
    {
     "name": "stderr",
     "output_type": "stream",
     "text": [
      "Process ForkPoolWorker-63:\n",
      "Traceback (most recent call last):\n",
      "  File \"/home/salatiel/anaconda3/lib/python3.7/multiprocessing/process.py\", line 297, in _bootstrap\n",
      "    self.run()\n",
      "  File \"/home/salatiel/anaconda3/lib/python3.7/multiprocessing/process.py\", line 99, in run\n",
      "    self._target(*self._args, **self._kwargs)\n",
      "  File \"/home/salatiel/anaconda3/lib/python3.7/multiprocessing/pool.py\", line 121, in worker\n",
      "    result = (True, func(*args, **kwds))\n",
      "  File \"/home/salatiel/anaconda3/lib/python3.7/multiprocessing/pool.py\", line 47, in starmapstar\n",
      "    return list(itertools.starmap(args[0], args[1]))\n",
      "  File \"<ipython-input-15-b821c855dd55>\", line 18, in Shortest_Path_FT\n",
      "    remote_bind_address=('localhost', 5432)) as server:\n",
      "  File \"/home/salatiel/anaconda3/lib/python3.7/site-packages/sshtunnel.py\", line 972, in __init__\n",
      "    logger=self.logger\n",
      "  File \"/home/salatiel/anaconda3/lib/python3.7/site-packages/sshtunnel.py\", line 1151, in _consolidate_auth\n",
      "    allow_agent=allow_agent\n",
      "  File \"/home/salatiel/anaconda3/lib/python3.7/site-packages/sshtunnel.py\", line 1108, in get_keys\n",
      "    key_type=paramiko_key_types[keytype]\n",
      "  File \"/home/salatiel/anaconda3/lib/python3.7/site-packages/sshtunnel.py\", line 1306, in read_private_key_file\n",
      "    password=pkey_password\n",
      "  File \"/home/salatiel/anaconda3/lib/python3.7/site-packages/paramiko/pkey.py\", line 232, in from_private_key_file\n",
      "    key = cls(filename=filename, password=password)\n",
      "  File \"/home/salatiel/anaconda3/lib/python3.7/site-packages/paramiko/rsakey.py\", line 63, in __init__\n",
      "    self._from_private_key_file(filename, password)\n",
      "  File \"/home/salatiel/anaconda3/lib/python3.7/site-packages/paramiko/rsakey.py\", line 187, in _from_private_key_file\n",
      "    self._decode_key(data)\n",
      "  File \"/home/salatiel/anaconda3/lib/python3.7/site-packages/paramiko/rsakey.py\", line 213, in _decode_key\n",
      "    ).private_key(default_backend())\n",
      "  File \"/home/salatiel/anaconda3/lib/python3.7/site-packages/cryptography/hazmat/primitives/asymmetric/rsa.py\", line 368, in private_key\n",
      "    self, unsafe_skip_rsa_key_validation\n",
      "  File \"/home/salatiel/anaconda3/lib/python3.7/site-packages/cryptography/hazmat/backends/openssl/backend.py\", line 586, in load_rsa_private_numbers\n",
      "    unsafe_skip_rsa_key_validation=unsafe_skip_rsa_key_validation,\n",
      "  File \"/home/salatiel/anaconda3/lib/python3.7/site-packages/cryptography/hazmat/backends/openssl/rsa.py\", line 381, in __init__\n",
      "    res = backend._lib.RSA_check_key(rsa_cdata)\n",
      "KeyboardInterrupt\n",
      "Process ForkPoolWorker-62:\n",
      "Traceback (most recent call last):\n",
      "  File \"/home/salatiel/anaconda3/lib/python3.7/site-packages/pandas/core/computation/ops.py\", line 150, in type\n",
      "    return self._value.values.dtype\n",
      "AttributeError: 'list' object has no attribute 'values'\n",
      "\n",
      "During handling of the above exception, another exception occurred:\n",
      "\n",
      "Traceback (most recent call last):\n",
      "  File \"/home/salatiel/anaconda3/lib/python3.7/multiprocessing/process.py\", line 297, in _bootstrap\n",
      "    self.run()\n",
      "  File \"/home/salatiel/anaconda3/lib/python3.7/multiprocessing/process.py\", line 99, in run\n",
      "    self._target(*self._args, **self._kwargs)\n",
      "  File \"/home/salatiel/anaconda3/lib/python3.7/multiprocessing/pool.py\", line 121, in worker\n",
      "    result = (True, func(*args, **kwds))\n",
      "  File \"/home/salatiel/anaconda3/lib/python3.7/multiprocessing/pool.py\", line 47, in starmapstar\n",
      "    return list(itertools.starmap(args[0], args[1]))\n",
      "  File \"<ipython-input-15-b821c855dd55>\", line 50, in Shortest_Path_FT\n",
      "    pois_idx.append(df.query(\"business_id=='\"+str(cp_idx['id'])+\"'\").index[0])\n",
      "  File \"/home/salatiel/anaconda3/lib/python3.7/site-packages/pandas/core/frame.py\", line 4060, in query\n",
      "    res = self.eval(expr, **kwargs)\n",
      "  File \"/home/salatiel/anaconda3/lib/python3.7/site-packages/pandas/core/frame.py\", line 4191, in eval\n",
      "    return _eval(expr, inplace=inplace, **kwargs)\n",
      "  File \"/home/salatiel/anaconda3/lib/python3.7/site-packages/pandas/core/computation/eval.py\", line 348, in eval\n",
      "    parsed_expr = Expr(expr, engine=engine, parser=parser, env=env)\n",
      "  File \"/home/salatiel/anaconda3/lib/python3.7/site-packages/pandas/core/computation/expr.py\", line 806, in __init__\n",
      "    self.terms = self.parse()\n",
      "  File \"/home/salatiel/anaconda3/lib/python3.7/site-packages/pandas/core/computation/expr.py\", line 825, in parse\n",
      "    return self._visitor.visit(self.expr)\n",
      "  File \"/home/salatiel/anaconda3/lib/python3.7/site-packages/pandas/core/computation/expr.py\", line 411, in visit\n",
      "    return visitor(node, **kwargs)\n",
      "  File \"/home/salatiel/anaconda3/lib/python3.7/site-packages/pandas/core/computation/expr.py\", line 417, in visit_Module\n",
      "    return self.visit(expr, **kwargs)\n",
      "  File \"/home/salatiel/anaconda3/lib/python3.7/site-packages/pandas/core/computation/expr.py\", line 411, in visit\n",
      "    return visitor(node, **kwargs)\n",
      "  File \"/home/salatiel/anaconda3/lib/python3.7/site-packages/pandas/core/computation/expr.py\", line 420, in visit_Expr\n",
      "    return self.visit(node.value, **kwargs)\n",
      "  File \"/home/salatiel/anaconda3/lib/python3.7/site-packages/pandas/core/computation/expr.py\", line 411, in visit\n",
      "    return visitor(node, **kwargs)\n",
      "  File \"/home/salatiel/anaconda3/lib/python3.7/site-packages/pandas/core/computation/expr.py\", line 718, in visit_Compare\n",
      "    return self.visit(binop)\n",
      "  File \"/home/salatiel/anaconda3/lib/python3.7/site-packages/pandas/core/computation/expr.py\", line 411, in visit\n",
      "    return visitor(node, **kwargs)\n",
      "  File \"/home/salatiel/anaconda3/lib/python3.7/site-packages/pandas/core/computation/expr.py\", line 534, in visit_BinOp\n",
      "    return self._maybe_evaluate_binop(op, op_class, left, right)\n",
      "  File \"/home/salatiel/anaconda3/lib/python3.7/site-packages/pandas/core/computation/expr.py\", line 501, in _maybe_evaluate_binop\n",
      "    res = op(lhs, rhs)\n",
      "  File \"/home/salatiel/anaconda3/lib/python3.7/site-packages/pandas/core/computation/ops.py\", line 383, in __init__\n",
      "    self._disallow_scalar_only_bool_ops()\n",
      "  File \"/home/salatiel/anaconda3/lib/python3.7/site-packages/pandas/core/computation/ops.py\", line 502, in _disallow_scalar_only_bool_ops\n",
      "    rhs_rt = rhs.return_type\n",
      "  File \"/home/salatiel/anaconda3/lib/python3.7/site-packages/pandas/core/computation/ops.py\", line 150, in type\n",
      "    return self._value.values.dtype\n",
      "KeyboardInterrupt\n",
      "2024-08-27 20:10:20,087| ERROR   | Exception (client): Error reading SSH protocol banner\n",
      "2024-08-27 20:10:20,088| ERROR   | Traceback (most recent call last):\n",
      "2024-08-27 20:10:20,089| ERROR   |   File \"/home/salatiel/anaconda3/lib/python3.7/site-packages/paramiko/transport.py\", line 2270, in _check_banner\n",
      "2024-08-27 20:10:20,089| ERROR   |     buf = self.packetizer.readline(timeout)\n",
      "2024-08-27 20:10:20,090| ERROR   |   File \"/home/salatiel/anaconda3/lib/python3.7/site-packages/paramiko/packet.py\", line 374, in readline\n",
      "2024-08-27 20:10:20,090| ERROR   |     buf += self._read_timeout(timeout)\n",
      "2024-08-27 20:10:20,091| ERROR   |   File \"/home/salatiel/anaconda3/lib/python3.7/site-packages/paramiko/packet.py\", line 603, in _read_timeout\n",
      "2024-08-27 20:10:20,092| ERROR   |     raise EOFError()\n",
      "2024-08-27 20:10:20,092| ERROR   | EOFError\n",
      "2024-08-27 20:10:20,093| ERROR   | \n",
      "2024-08-27 20:10:20,093| ERROR   | During handling of the above exception, another exception occurred:\n",
      "2024-08-27 20:10:20,094| ERROR   | \n",
      "2024-08-27 20:10:20,094| ERROR   | Traceback (most recent call last):\n",
      "2024-08-27 20:10:20,095| ERROR   |   File \"/home/salatiel/anaconda3/lib/python3.7/site-packages/paramiko/transport.py\", line 2093, in run\n",
      "2024-08-27 20:10:20,095| ERROR   |     self._check_banner()\n",
      "2024-08-27 20:10:20,096| ERROR   |   File \"/home/salatiel/anaconda3/lib/python3.7/site-packages/paramiko/transport.py\", line 2275, in _check_banner\n",
      "2024-08-27 20:10:20,096| ERROR   |     \"Error reading SSH protocol banner\" + str(e)\n",
      "2024-08-27 20:10:20,097| ERROR   | paramiko.ssh_exception.SSHException: Error reading SSH protocol banner\n",
      "2024-08-27 20:10:20,097| ERROR   | \n",
      "2024-08-27 20:10:20,098| ERROR   | Could not connect to gateway 150.165.15.171:23456 : Error reading SSH protocol banner\n"
     ]
    },
    {
     "name": "stdout",
     "output_type": "stream",
     "text": [
      "Could not establish session to SSH gateway\n"
     ]
    },
    {
     "name": "stderr",
     "output_type": "stream",
     "text": [
      "2024-08-27 20:10:20,225| ERROR   | Exception (client): Error reading SSH protocol banner\n",
      "2024-08-27 20:10:20,226| ERROR   | Traceback (most recent call last):\n",
      "2024-08-27 20:10:20,227| ERROR   |   File \"/home/salatiel/anaconda3/lib/python3.7/site-packages/paramiko/transport.py\", line 2270, in _check_banner\n",
      "2024-08-27 20:10:20,227| ERROR   |     buf = self.packetizer.readline(timeout)\n",
      "2024-08-27 20:10:20,228| ERROR   |   File \"/home/salatiel/anaconda3/lib/python3.7/site-packages/paramiko/packet.py\", line 374, in readline\n",
      "2024-08-27 20:10:20,231| ERROR   |     buf += self._read_timeout(timeout)\n",
      "2024-08-27 20:10:20,232| ERROR   |   File \"/home/salatiel/anaconda3/lib/python3.7/site-packages/paramiko/packet.py\", line 603, in _read_timeout\n",
      "2024-08-27 20:10:20,232| ERROR   |     raise EOFError()\n",
      "2024-08-27 20:10:20,233| ERROR   | EOFError\n",
      "2024-08-27 20:10:20,233| ERROR   | \n",
      "2024-08-27 20:10:20,233| ERROR   | During handling of the above exception, another exception occurred:\n",
      "2024-08-27 20:10:20,234| ERROR   | \n",
      "2024-08-27 20:10:20,235| ERROR   | Traceback (most recent call last):\n",
      "2024-08-27 20:10:20,235| ERROR   |   File \"/home/salatiel/anaconda3/lib/python3.7/site-packages/paramiko/transport.py\", line 2093, in run\n",
      "2024-08-27 20:10:20,236| ERROR   |     self._check_banner()\n",
      "2024-08-27 20:10:20,236| ERROR   |   File \"/home/salatiel/anaconda3/lib/python3.7/site-packages/paramiko/transport.py\", line 2275, in _check_banner\n",
      "2024-08-27 20:10:20,237| ERROR   |     \"Error reading SSH protocol banner\" + str(e)\n",
      "2024-08-27 20:10:20,237| ERROR   | paramiko.ssh_exception.SSHException: Error reading SSH protocol banner\n",
      "2024-08-27 20:10:20,238| ERROR   | \n",
      "2024-08-27 20:10:20,239| ERROR   | Could not connect to gateway 150.165.15.171:23456 : Error reading SSH protocol banner\n"
     ]
    },
    {
     "name": "stdout",
     "output_type": "stream",
     "text": [
      "Could not establish session to SSH gateway\n"
     ]
    },
    {
     "name": "stderr",
     "output_type": "stream",
     "text": [
      "2024-08-27 20:10:23,887| ERROR   | Exception (client): Error reading SSH protocol banner\n",
      "2024-08-27 20:10:23,888| ERROR   | Traceback (most recent call last):\n",
      "2024-08-27 20:10:23,889| ERROR   |   File \"/home/salatiel/anaconda3/lib/python3.7/site-packages/paramiko/transport.py\", line 2270, in _check_banner\n",
      "2024-08-27 20:10:23,889| ERROR   |     buf = self.packetizer.readline(timeout)\n",
      "2024-08-27 20:10:23,889| ERROR   |   File \"/home/salatiel/anaconda3/lib/python3.7/site-packages/paramiko/packet.py\", line 374, in readline\n",
      "2024-08-27 20:10:23,890| ERROR   |     buf += self._read_timeout(timeout)\n",
      "2024-08-27 20:10:23,891| ERROR   |   File \"/home/salatiel/anaconda3/lib/python3.7/site-packages/paramiko/packet.py\", line 603, in _read_timeout\n",
      "2024-08-27 20:10:23,891| ERROR   |     raise EOFError()\n",
      "2024-08-27 20:10:23,892| ERROR   | EOFError\n",
      "2024-08-27 20:10:23,893| ERROR   | \n",
      "2024-08-27 20:10:23,893| ERROR   | During handling of the above exception, another exception occurred:\n",
      "2024-08-27 20:10:23,894| ERROR   | \n",
      "2024-08-27 20:10:23,894| ERROR   | Traceback (most recent call last):\n",
      "2024-08-27 20:10:23,895| ERROR   |   File \"/home/salatiel/anaconda3/lib/python3.7/site-packages/paramiko/transport.py\", line 2093, in run\n",
      "2024-08-27 20:10:23,896| ERROR   |     self._check_banner()\n",
      "2024-08-27 20:10:23,896| ERROR   |   File \"/home/salatiel/anaconda3/lib/python3.7/site-packages/paramiko/transport.py\", line 2275, in _check_banner\n",
      "2024-08-27 20:10:23,897| ERROR   |     \"Error reading SSH protocol banner\" + str(e)\n",
      "2024-08-27 20:10:23,897| ERROR   | paramiko.ssh_exception.SSHException: Error reading SSH protocol banner\n",
      "2024-08-27 20:10:23,897| ERROR   | \n",
      "2024-08-27 20:10:23,898| ERROR   | Could not connect to gateway 150.165.15.171:23456 : Error reading SSH protocol banner\n"
     ]
    },
    {
     "name": "stdout",
     "output_type": "stream",
     "text": [
      "Could not establish session to SSH gateway\n"
     ]
    },
    {
     "name": "stderr",
     "output_type": "stream",
     "text": [
      "2024-08-27 20:10:25,426| ERROR   | Exception (client): Error reading SSH protocol banner\n",
      "2024-08-27 20:10:25,427| ERROR   | Traceback (most recent call last):\n",
      "2024-08-27 20:10:25,428| ERROR   |   File \"/home/salatiel/anaconda3/lib/python3.7/site-packages/paramiko/transport.py\", line 2270, in _check_banner\n",
      "2024-08-27 20:10:25,428| ERROR   |     buf = self.packetizer.readline(timeout)\n",
      "2024-08-27 20:10:25,429| ERROR   |   File \"/home/salatiel/anaconda3/lib/python3.7/site-packages/paramiko/packet.py\", line 374, in readline\n",
      "2024-08-27 20:10:25,429| ERROR   |     buf += self._read_timeout(timeout)\n",
      "2024-08-27 20:10:25,430| ERROR   |   File \"/home/salatiel/anaconda3/lib/python3.7/site-packages/paramiko/packet.py\", line 603, in _read_timeout\n",
      "2024-08-27 20:10:25,431| ERROR   |     raise EOFError()\n",
      "2024-08-27 20:10:25,431| ERROR   | EOFError\n",
      "2024-08-27 20:10:25,432| ERROR   | \n",
      "2024-08-27 20:10:25,433| ERROR   | During handling of the above exception, another exception occurred:\n",
      "2024-08-27 20:10:25,433| ERROR   | \n",
      "2024-08-27 20:10:25,434| ERROR   | Traceback (most recent call last):\n",
      "2024-08-27 20:10:25,434| ERROR   |   File \"/home/salatiel/anaconda3/lib/python3.7/site-packages/paramiko/transport.py\", line 2093, in run\n",
      "2024-08-27 20:10:25,435| ERROR   |     self._check_banner()\n",
      "2024-08-27 20:10:25,435| ERROR   |   File \"/home/salatiel/anaconda3/lib/python3.7/site-packages/paramiko/transport.py\", line 2275, in _check_banner\n",
      "2024-08-27 20:10:25,436| ERROR   |     \"Error reading SSH protocol banner\" + str(e)\n",
      "2024-08-27 20:10:25,436| ERROR   | paramiko.ssh_exception.SSHException: Error reading SSH protocol banner\n",
      "2024-08-27 20:10:25,436| ERROR   | \n",
      "2024-08-27 20:10:25,437| ERROR   | Could not connect to gateway 150.165.15.171:23456 : Error reading SSH protocol banner\n"
     ]
    },
    {
     "name": "stdout",
     "output_type": "stream",
     "text": [
      "Could not establish session to SSH gateway\n"
     ]
    },
    {
     "name": "stderr",
     "output_type": "stream",
     "text": [
      "2024-08-27 20:10:42,846| ERROR   | Exception (client): Error reading SSH protocol banner\n",
      "2024-08-27 20:10:42,847| ERROR   | Traceback (most recent call last):\n",
      "2024-08-27 20:10:42,847| ERROR   |   File \"/home/salatiel/anaconda3/lib/python3.7/site-packages/paramiko/transport.py\", line 2270, in _check_banner\n",
      "2024-08-27 20:10:42,848| ERROR   |     buf = self.packetizer.readline(timeout)\n",
      "2024-08-27 20:10:42,848| ERROR   |   File \"/home/salatiel/anaconda3/lib/python3.7/site-packages/paramiko/packet.py\", line 374, in readline\n",
      "2024-08-27 20:10:42,848| ERROR   |     buf += self._read_timeout(timeout)\n",
      "2024-08-27 20:10:42,849| ERROR   |   File \"/home/salatiel/anaconda3/lib/python3.7/site-packages/paramiko/packet.py\", line 603, in _read_timeout\n",
      "2024-08-27 20:10:42,849| ERROR   |     raise EOFError()\n",
      "2024-08-27 20:10:42,849| ERROR   | EOFError\n",
      "2024-08-27 20:10:42,850| ERROR   | \n",
      "2024-08-27 20:10:42,850| ERROR   | During handling of the above exception, another exception occurred:\n",
      "2024-08-27 20:10:42,850| ERROR   | \n",
      "2024-08-27 20:10:42,851| ERROR   | Traceback (most recent call last):\n",
      "2024-08-27 20:10:42,851| ERROR   |   File \"/home/salatiel/anaconda3/lib/python3.7/site-packages/paramiko/transport.py\", line 2093, in run\n",
      "2024-08-27 20:10:42,851| ERROR   |     self._check_banner()\n",
      "2024-08-27 20:10:42,852| ERROR   |   File \"/home/salatiel/anaconda3/lib/python3.7/site-packages/paramiko/transport.py\", line 2275, in _check_banner\n",
      "2024-08-27 20:10:42,852| ERROR   |     \"Error reading SSH protocol banner\" + str(e)\n",
      "2024-08-27 20:10:42,852| ERROR   | paramiko.ssh_exception.SSHException: Error reading SSH protocol banner\n",
      "2024-08-27 20:10:42,853| ERROR   | \n",
      "2024-08-27 20:10:42,853| ERROR   | Could not connect to gateway 150.165.15.171:23456 : Error reading SSH protocol banner\n"
     ]
    },
    {
     "name": "stdout",
     "output_type": "stream",
     "text": [
      "Could not establish session to SSH gateway\n"
     ]
    },
    {
     "name": "stderr",
     "output_type": "stream",
     "text": [
      "2024-08-27 20:10:47,630| ERROR   | Could not establish connection from local ('127.0.0.1', 36373) to remote ('localhost', 5432) side of the tunnel: \n",
      "2024-08-27 20:10:53,331| ERROR   | Exception (client): Error reading SSH protocol banner\n",
      "2024-08-27 20:10:53,332| ERROR   | Traceback (most recent call last):\n",
      "2024-08-27 20:10:53,340| ERROR   |   File \"/home/salatiel/anaconda3/lib/python3.7/site-packages/paramiko/transport.py\", line 2270, in _check_banner\n",
      "2024-08-27 20:10:53,340| ERROR   |     buf = self.packetizer.readline(timeout)\n",
      "2024-08-27 20:10:53,343| ERROR   |   File \"/home/salatiel/anaconda3/lib/python3.7/site-packages/paramiko/packet.py\", line 374, in readline\n",
      "2024-08-27 20:10:53,350| ERROR   |     buf += self._read_timeout(timeout)\n",
      "2024-08-27 20:10:53,351| ERROR   |   File \"/home/salatiel/anaconda3/lib/python3.7/site-packages/paramiko/packet.py\", line 603, in _read_timeout\n",
      "2024-08-27 20:10:53,378| ERROR   |     raise EOFError()\n",
      "2024-08-27 20:10:53,388| ERROR   | EOFError\n",
      "2024-08-27 20:10:53,392| ERROR   | \n",
      "2024-08-27 20:10:53,394| ERROR   | During handling of the above exception, another exception occurred:\n",
      "2024-08-27 20:10:53,406| ERROR   | \n",
      "2024-08-27 20:10:53,411| ERROR   | Traceback (most recent call last):\n",
      "2024-08-27 20:10:53,412| ERROR   |   File \"/home/salatiel/anaconda3/lib/python3.7/site-packages/paramiko/transport.py\", line 2093, in run\n",
      "2024-08-27 20:10:53,426| ERROR   |     self._check_banner()\n",
      "2024-08-27 20:10:53,442| ERROR   |   File \"/home/salatiel/anaconda3/lib/python3.7/site-packages/paramiko/transport.py\", line 2275, in _check_banner\n",
      "2024-08-27 20:10:53,456| ERROR   |     \"Error reading SSH protocol banner\" + str(e)\n",
      "2024-08-27 20:10:53,457| ERROR   | paramiko.ssh_exception.SSHException: Error reading SSH protocol banner\n",
      "2024-08-27 20:10:53,458| ERROR   | \n",
      "2024-08-27 20:10:53,458| ERROR   | Could not connect to gateway 150.165.15.171:23456 : Error reading SSH protocol banner\n"
     ]
    },
    {
     "name": "stdout",
     "output_type": "stream",
     "text": [
      "Could not establish session to SSH gateway\n"
     ]
    },
    {
     "name": "stderr",
     "output_type": "stream",
     "text": [
      "2024-08-27 20:10:57,141| ERROR   | Exception (client): Error reading SSH protocol banner\n",
      "2024-08-27 20:10:57,142| ERROR   | Traceback (most recent call last):\n",
      "2024-08-27 20:10:57,142| ERROR   |   File \"/home/salatiel/anaconda3/lib/python3.7/site-packages/paramiko/transport.py\", line 2270, in _check_banner\n",
      "2024-08-27 20:10:57,143| ERROR   |     buf = self.packetizer.readline(timeout)\n",
      "2024-08-27 20:10:57,143| ERROR   |   File \"/home/salatiel/anaconda3/lib/python3.7/site-packages/paramiko/packet.py\", line 374, in readline\n",
      "2024-08-27 20:10:57,144| ERROR   |     buf += self._read_timeout(timeout)\n",
      "2024-08-27 20:10:57,145| ERROR   |   File \"/home/salatiel/anaconda3/lib/python3.7/site-packages/paramiko/packet.py\", line 603, in _read_timeout\n",
      "2024-08-27 20:10:57,145| ERROR   |     raise EOFError()\n",
      "2024-08-27 20:10:57,146| ERROR   | EOFError\n",
      "2024-08-27 20:10:57,146| ERROR   | \n",
      "2024-08-27 20:10:57,146| ERROR   | During handling of the above exception, another exception occurred:\n",
      "2024-08-27 20:10:57,147| ERROR   | \n",
      "2024-08-27 20:10:57,147| ERROR   | Traceback (most recent call last):\n",
      "2024-08-27 20:10:57,148| ERROR   |   File \"/home/salatiel/anaconda3/lib/python3.7/site-packages/paramiko/transport.py\", line 2093, in run\n",
      "2024-08-27 20:10:57,149| ERROR   |     self._check_banner()\n",
      "2024-08-27 20:10:57,149| ERROR   |   File \"/home/salatiel/anaconda3/lib/python3.7/site-packages/paramiko/transport.py\", line 2275, in _check_banner\n",
      "2024-08-27 20:10:57,150| ERROR   |     \"Error reading SSH protocol banner\" + str(e)\n",
      "2024-08-27 20:10:57,150| ERROR   | paramiko.ssh_exception.SSHException: Error reading SSH protocol banner\n",
      "2024-08-27 20:10:57,151| ERROR   | \n",
      "2024-08-27 20:10:57,153| ERROR   | Could not connect to gateway 150.165.15.171:23456 : Error reading SSH protocol banner\n"
     ]
    },
    {
     "name": "stdout",
     "output_type": "stream",
     "text": [
      "Could not establish session to SSH gateway\n"
     ]
    },
    {
     "name": "stderr",
     "output_type": "stream",
     "text": [
      "2024-08-27 20:11:00,214| ERROR   | Exception (client): Error reading SSH protocol banner\n",
      "2024-08-27 20:11:00,215| ERROR   | Traceback (most recent call last):\n",
      "2024-08-27 20:11:00,215| ERROR   |   File \"/home/salatiel/anaconda3/lib/python3.7/site-packages/paramiko/transport.py\", line 2270, in _check_banner\n",
      "2024-08-27 20:11:00,216| ERROR   |     buf = self.packetizer.readline(timeout)\n",
      "2024-08-27 20:11:00,216| ERROR   |   File \"/home/salatiel/anaconda3/lib/python3.7/site-packages/paramiko/packet.py\", line 374, in readline\n",
      "2024-08-27 20:11:00,216| ERROR   |     buf += self._read_timeout(timeout)\n",
      "2024-08-27 20:11:00,217| ERROR   |   File \"/home/salatiel/anaconda3/lib/python3.7/site-packages/paramiko/packet.py\", line 603, in _read_timeout\n",
      "2024-08-27 20:11:00,217| ERROR   |     raise EOFError()\n",
      "2024-08-27 20:11:00,218| ERROR   | EOFError\n",
      "2024-08-27 20:11:00,218| ERROR   | \n",
      "2024-08-27 20:11:00,218| ERROR   | During handling of the above exception, another exception occurred:\n",
      "2024-08-27 20:11:00,219| ERROR   | \n",
      "2024-08-27 20:11:00,219| ERROR   | Traceback (most recent call last):\n",
      "2024-08-27 20:11:00,219| ERROR   |   File \"/home/salatiel/anaconda3/lib/python3.7/site-packages/paramiko/transport.py\", line 2093, in run\n",
      "2024-08-27 20:11:00,220| ERROR   |     self._check_banner()\n",
      "2024-08-27 20:11:00,220| ERROR   |   File \"/home/salatiel/anaconda3/lib/python3.7/site-packages/paramiko/transport.py\", line 2275, in _check_banner\n",
      "2024-08-27 20:11:00,220| ERROR   |     \"Error reading SSH protocol banner\" + str(e)\n",
      "2024-08-27 20:11:00,221| ERROR   | paramiko.ssh_exception.SSHException: Error reading SSH protocol banner\n",
      "2024-08-27 20:11:00,221| ERROR   | \n",
      "2024-08-27 20:11:00,222| ERROR   | Could not connect to gateway 150.165.15.171:23456 : Error reading SSH protocol banner\n"
     ]
    },
    {
     "name": "stdout",
     "output_type": "stream",
     "text": [
      "Could not establish session to SSH gateway\n"
     ]
    },
    {
     "name": "stderr",
     "output_type": "stream",
     "text": [
      "2024-08-27 20:11:10,376| ERROR   | Exception (client): Error reading SSH protocol banner\n",
      "2024-08-27 20:11:10,377| ERROR   | Traceback (most recent call last):\n",
      "2024-08-27 20:11:10,378| ERROR   |   File \"/home/salatiel/anaconda3/lib/python3.7/site-packages/paramiko/transport.py\", line 2270, in _check_banner\n",
      "2024-08-27 20:11:10,379| ERROR   |     buf = self.packetizer.readline(timeout)\n",
      "2024-08-27 20:11:10,379| ERROR   |   File \"/home/salatiel/anaconda3/lib/python3.7/site-packages/paramiko/packet.py\", line 374, in readline\n",
      "2024-08-27 20:11:10,379| ERROR   |     buf += self._read_timeout(timeout)\n",
      "2024-08-27 20:11:10,380| ERROR   |   File \"/home/salatiel/anaconda3/lib/python3.7/site-packages/paramiko/packet.py\", line 603, in _read_timeout\n",
      "2024-08-27 20:11:10,380| ERROR   |     raise EOFError()\n",
      "2024-08-27 20:11:10,380| ERROR   | EOFError\n",
      "2024-08-27 20:11:10,381| ERROR   | \n",
      "2024-08-27 20:11:10,381| ERROR   | During handling of the above exception, another exception occurred:\n",
      "2024-08-27 20:11:10,382| ERROR   | \n",
      "2024-08-27 20:11:10,382| ERROR   | Traceback (most recent call last):\n",
      "2024-08-27 20:11:10,383| ERROR   |   File \"/home/salatiel/anaconda3/lib/python3.7/site-packages/paramiko/transport.py\", line 2093, in run\n",
      "2024-08-27 20:11:10,383| ERROR   |     self._check_banner()\n",
      "2024-08-27 20:11:10,383| ERROR   |   File \"/home/salatiel/anaconda3/lib/python3.7/site-packages/paramiko/transport.py\", line 2275, in _check_banner\n",
      "2024-08-27 20:11:10,384| ERROR   |     \"Error reading SSH protocol banner\" + str(e)\n",
      "2024-08-27 20:11:10,384| ERROR   | paramiko.ssh_exception.SSHException: Error reading SSH protocol banner\n",
      "2024-08-27 20:11:10,384| ERROR   | \n",
      "2024-08-27 20:11:10,385| ERROR   | Could not connect to gateway 150.165.15.171:23456 : Error reading SSH protocol banner\n"
     ]
    },
    {
     "name": "stdout",
     "output_type": "stream",
     "text": [
      "Could not establish session to SSH gateway\n"
     ]
    },
    {
     "name": "stderr",
     "output_type": "stream",
     "text": [
      "2024-08-27 20:11:11,238| ERROR   | Exception (client): Error reading SSH protocol banner\n",
      "2024-08-27 20:11:11,239| ERROR   | Traceback (most recent call last):\n",
      "2024-08-27 20:11:11,241| ERROR   |   File \"/home/salatiel/anaconda3/lib/python3.7/site-packages/paramiko/transport.py\", line 2270, in _check_banner\n",
      "2024-08-27 20:11:11,242| ERROR   |     buf = self.packetizer.readline(timeout)\n",
      "2024-08-27 20:11:11,242| ERROR   |   File \"/home/salatiel/anaconda3/lib/python3.7/site-packages/paramiko/packet.py\", line 374, in readline\n",
      "2024-08-27 20:11:11,243| ERROR   |     buf += self._read_timeout(timeout)\n",
      "2024-08-27 20:11:11,244| ERROR   |   File \"/home/salatiel/anaconda3/lib/python3.7/site-packages/paramiko/packet.py\", line 603, in _read_timeout\n",
      "2024-08-27 20:11:11,244| ERROR   |     raise EOFError()\n",
      "2024-08-27 20:11:11,245| ERROR   | EOFError\n",
      "2024-08-27 20:11:11,245| ERROR   | \n",
      "2024-08-27 20:11:11,246| ERROR   | During handling of the above exception, another exception occurred:\n",
      "2024-08-27 20:11:11,247| ERROR   | \n",
      "2024-08-27 20:11:11,247| ERROR   | Traceback (most recent call last):\n",
      "2024-08-27 20:11:11,248| ERROR   |   File \"/home/salatiel/anaconda3/lib/python3.7/site-packages/paramiko/transport.py\", line 2093, in run\n",
      "2024-08-27 20:11:11,248| ERROR   |     self._check_banner()\n",
      "2024-08-27 20:11:11,249| ERROR   |   File \"/home/salatiel/anaconda3/lib/python3.7/site-packages/paramiko/transport.py\", line 2275, in _check_banner\n",
      "2024-08-27 20:11:11,250| ERROR   |     \"Error reading SSH protocol banner\" + str(e)\n",
      "2024-08-27 20:11:11,250| ERROR   | paramiko.ssh_exception.SSHException: Error reading SSH protocol banner\n",
      "2024-08-27 20:11:11,251| ERROR   | \n",
      "2024-08-27 20:11:11,251| ERROR   | Could not connect to gateway 150.165.15.171:23456 : Error reading SSH protocol banner\n"
     ]
    },
    {
     "name": "stdout",
     "output_type": "stream",
     "text": [
      "Could not establish session to SSH gateway\n"
     ]
    },
    {
     "name": "stderr",
     "output_type": "stream",
     "text": [
      "2024-08-27 20:11:15,858| ERROR   | Could not establish connection from local ('127.0.0.1', 34785) to remote ('localhost', 5432) side of the tunnel: \n",
      "2024-08-27 20:11:28,611| ERROR   | Exception (client): Error reading SSH protocol banner\n",
      "2024-08-27 20:11:28,612| ERROR   | Traceback (most recent call last):\n",
      "2024-08-27 20:11:28,613| ERROR   |   File \"/home/salatiel/anaconda3/lib/python3.7/site-packages/paramiko/transport.py\", line 2270, in _check_banner\n",
      "2024-08-27 20:11:28,613| ERROR   |     buf = self.packetizer.readline(timeout)\n",
      "2024-08-27 20:11:28,614| ERROR   |   File \"/home/salatiel/anaconda3/lib/python3.7/site-packages/paramiko/packet.py\", line 374, in readline\n",
      "2024-08-27 20:11:28,614| ERROR   |     buf += self._read_timeout(timeout)\n",
      "2024-08-27 20:11:28,617| ERROR   |   File \"/home/salatiel/anaconda3/lib/python3.7/site-packages/paramiko/packet.py\", line 603, in _read_timeout\n",
      "2024-08-27 20:11:28,617| ERROR   |     raise EOFError()\n",
      "2024-08-27 20:11:28,618| ERROR   | EOFError\n",
      "2024-08-27 20:11:28,618| ERROR   | \n",
      "2024-08-27 20:11:28,619| ERROR   | During handling of the above exception, another exception occurred:\n",
      "2024-08-27 20:11:28,619| ERROR   | \n",
      "2024-08-27 20:11:28,620| ERROR   | Traceback (most recent call last):\n",
      "2024-08-27 20:11:28,621| ERROR   |   File \"/home/salatiel/anaconda3/lib/python3.7/site-packages/paramiko/transport.py\", line 2093, in run\n",
      "2024-08-27 20:11:28,622| ERROR   |     self._check_banner()\n",
      "2024-08-27 20:11:28,622| ERROR   |   File \"/home/salatiel/anaconda3/lib/python3.7/site-packages/paramiko/transport.py\", line 2275, in _check_banner\n",
      "2024-08-27 20:11:28,626| ERROR   |     \"Error reading SSH protocol banner\" + str(e)\n",
      "2024-08-27 20:11:28,627| ERROR   | paramiko.ssh_exception.SSHException: Error reading SSH protocol banner\n",
      "2024-08-27 20:11:28,630| ERROR   | \n",
      "2024-08-27 20:11:28,631| ERROR   | Could not connect to gateway 150.165.15.171:23456 : Error reading SSH protocol banner\n"
     ]
    },
    {
     "name": "stdout",
     "output_type": "stream",
     "text": [
      "Could not establish session to SSH gateway\n"
     ]
    },
    {
     "name": "stderr",
     "output_type": "stream",
     "text": [
      "2024-08-27 20:11:32,145| ERROR   | Exception (client): Error reading SSH protocol banner\n",
      "2024-08-27 20:11:32,145| ERROR   | Traceback (most recent call last):\n",
      "2024-08-27 20:11:32,146| ERROR   |   File \"/home/salatiel/anaconda3/lib/python3.7/site-packages/paramiko/transport.py\", line 2270, in _check_banner\n",
      "2024-08-27 20:11:32,146| ERROR   |     buf = self.packetizer.readline(timeout)\n",
      "2024-08-27 20:11:32,147| ERROR   |   File \"/home/salatiel/anaconda3/lib/python3.7/site-packages/paramiko/packet.py\", line 374, in readline\n",
      "2024-08-27 20:11:32,147| ERROR   |     buf += self._read_timeout(timeout)\n",
      "2024-08-27 20:11:32,148| ERROR   |   File \"/home/salatiel/anaconda3/lib/python3.7/site-packages/paramiko/packet.py\", line 603, in _read_timeout\n",
      "2024-08-27 20:11:32,148| ERROR   |     raise EOFError()\n",
      "2024-08-27 20:11:32,148| ERROR   | EOFError\n",
      "2024-08-27 20:11:32,149| ERROR   | \n",
      "2024-08-27 20:11:32,149| ERROR   | During handling of the above exception, another exception occurred:\n",
      "2024-08-27 20:11:32,150| ERROR   | \n",
      "2024-08-27 20:11:32,150| ERROR   | Traceback (most recent call last):\n",
      "2024-08-27 20:11:32,151| ERROR   |   File \"/home/salatiel/anaconda3/lib/python3.7/site-packages/paramiko/transport.py\", line 2093, in run\n",
      "2024-08-27 20:11:32,151| ERROR   |     self._check_banner()\n",
      "2024-08-27 20:11:32,151| ERROR   |   File \"/home/salatiel/anaconda3/lib/python3.7/site-packages/paramiko/transport.py\", line 2275, in _check_banner\n",
      "2024-08-27 20:11:32,152| ERROR   |     \"Error reading SSH protocol banner\" + str(e)\n",
      "2024-08-27 20:11:32,152| ERROR   | paramiko.ssh_exception.SSHException: Error reading SSH protocol banner\n",
      "2024-08-27 20:11:32,153| ERROR   | \n",
      "2024-08-27 20:11:32,153| ERROR   | Could not connect to gateway 150.165.15.171:23456 : Error reading SSH protocol banner\n"
     ]
    },
    {
     "name": "stdout",
     "output_type": "stream",
     "text": [
      "Could not establish session to SSH gateway\n"
     ]
    },
    {
     "name": "stderr",
     "output_type": "stream",
     "text": [
      "2024-08-27 20:11:35,290| ERROR   | Exception (client): Error reading SSH protocol banner\n",
      "2024-08-27 20:11:35,291| ERROR   | Traceback (most recent call last):\n",
      "2024-08-27 20:11:35,291| ERROR   |   File \"/home/salatiel/anaconda3/lib/python3.7/site-packages/paramiko/transport.py\", line 2270, in _check_banner\n",
      "2024-08-27 20:11:35,292| ERROR   |     buf = self.packetizer.readline(timeout)\n",
      "2024-08-27 20:11:35,292| ERROR   |   File \"/home/salatiel/anaconda3/lib/python3.7/site-packages/paramiko/packet.py\", line 374, in readline\n",
      "2024-08-27 20:11:35,294| ERROR   |     buf += self._read_timeout(timeout)\n",
      "2024-08-27 20:11:35,295| ERROR   |   File \"/home/salatiel/anaconda3/lib/python3.7/site-packages/paramiko/packet.py\", line 603, in _read_timeout\n",
      "2024-08-27 20:11:35,295| ERROR   |     raise EOFError()\n",
      "2024-08-27 20:11:35,296| ERROR   | EOFError\n",
      "2024-08-27 20:11:35,296| ERROR   | \n",
      "2024-08-27 20:11:35,297| ERROR   | During handling of the above exception, another exception occurred:\n",
      "2024-08-27 20:11:35,297| ERROR   | \n",
      "2024-08-27 20:11:35,298| ERROR   | Traceback (most recent call last):\n",
      "2024-08-27 20:11:35,298| ERROR   |   File \"/home/salatiel/anaconda3/lib/python3.7/site-packages/paramiko/transport.py\", line 2093, in run\n",
      "2024-08-27 20:11:35,298| ERROR   |     self._check_banner()\n",
      "2024-08-27 20:11:35,299| ERROR   |   File \"/home/salatiel/anaconda3/lib/python3.7/site-packages/paramiko/transport.py\", line 2275, in _check_banner\n",
      "2024-08-27 20:11:35,299| ERROR   |     \"Error reading SSH protocol banner\" + str(e)\n",
      "2024-08-27 20:11:35,300| ERROR   | paramiko.ssh_exception.SSHException: Error reading SSH protocol banner\n",
      "2024-08-27 20:11:35,301| ERROR   | \n",
      "2024-08-27 20:11:35,301| ERROR   | Could not connect to gateway 150.165.15.171:23456 : Error reading SSH protocol banner\n"
     ]
    },
    {
     "name": "stdout",
     "output_type": "stream",
     "text": [
      "Could not establish session to SSH gateway\n"
     ]
    },
    {
     "name": "stderr",
     "output_type": "stream",
     "text": [
      "2024-08-27 20:11:35,453| ERROR   | Exception (client): Error reading SSH protocol banner\n",
      "2024-08-27 20:11:35,454| ERROR   | Traceback (most recent call last):\n",
      "2024-08-27 20:11:35,455| ERROR   |   File \"/home/salatiel/anaconda3/lib/python3.7/site-packages/paramiko/transport.py\", line 2270, in _check_banner\n",
      "2024-08-27 20:11:35,455| ERROR   |     buf = self.packetizer.readline(timeout)\n",
      "2024-08-27 20:11:35,456| ERROR   |   File \"/home/salatiel/anaconda3/lib/python3.7/site-packages/paramiko/packet.py\", line 374, in readline\n",
      "2024-08-27 20:11:35,456| ERROR   |     buf += self._read_timeout(timeout)\n",
      "2024-08-27 20:11:35,457| ERROR   |   File \"/home/salatiel/anaconda3/lib/python3.7/site-packages/paramiko/packet.py\", line 603, in _read_timeout\n",
      "2024-08-27 20:11:35,457| ERROR   |     raise EOFError()\n",
      "2024-08-27 20:11:35,458| ERROR   | EOFError\n",
      "2024-08-27 20:11:35,458| ERROR   | \n",
      "2024-08-27 20:11:35,458| ERROR   | During handling of the above exception, another exception occurred:\n",
      "2024-08-27 20:11:35,459| ERROR   | \n",
      "2024-08-27 20:11:35,459| ERROR   | Traceback (most recent call last):\n",
      "2024-08-27 20:11:35,460| ERROR   |   File \"/home/salatiel/anaconda3/lib/python3.7/site-packages/paramiko/transport.py\", line 2093, in run\n",
      "2024-08-27 20:11:35,460| ERROR   |     self._check_banner()\n",
      "2024-08-27 20:11:35,461| ERROR   |   File \"/home/salatiel/anaconda3/lib/python3.7/site-packages/paramiko/transport.py\", line 2275, in _check_banner\n",
      "2024-08-27 20:11:35,461| ERROR   |     \"Error reading SSH protocol banner\" + str(e)\n",
      "2024-08-27 20:11:35,461| ERROR   | paramiko.ssh_exception.SSHException: Error reading SSH protocol banner\n",
      "2024-08-27 20:11:35,462| ERROR   | \n",
      "2024-08-27 20:11:35,463| ERROR   | Could not connect to gateway 150.165.15.171:23456 : Error reading SSH protocol banner\n"
     ]
    },
    {
     "name": "stdout",
     "output_type": "stream",
     "text": [
      "Could not establish session to SSH gateway\n"
     ]
    },
    {
     "name": "stderr",
     "output_type": "stream",
     "text": [
      "2024-08-27 20:11:37,627| ERROR   | Exception (client): Error reading SSH protocol banner\n",
      "2024-08-27 20:11:37,628| ERROR   | Traceback (most recent call last):\n",
      "2024-08-27 20:11:37,628| ERROR   |   File \"/home/salatiel/anaconda3/lib/python3.7/site-packages/paramiko/transport.py\", line 2270, in _check_banner\n",
      "2024-08-27 20:11:37,629| ERROR   |     buf = self.packetizer.readline(timeout)\n",
      "2024-08-27 20:11:37,629| ERROR   |   File \"/home/salatiel/anaconda3/lib/python3.7/site-packages/paramiko/packet.py\", line 374, in readline\n",
      "2024-08-27 20:11:37,630| ERROR   |     buf += self._read_timeout(timeout)\n",
      "2024-08-27 20:11:37,630| ERROR   |   File \"/home/salatiel/anaconda3/lib/python3.7/site-packages/paramiko/packet.py\", line 603, in _read_timeout\n",
      "2024-08-27 20:11:37,631| ERROR   |     raise EOFError()\n",
      "2024-08-27 20:11:37,631| ERROR   | EOFError\n",
      "2024-08-27 20:11:37,632| ERROR   | \n",
      "2024-08-27 20:11:37,632| ERROR   | During handling of the above exception, another exception occurred:\n",
      "2024-08-27 20:11:37,633| ERROR   | \n",
      "2024-08-27 20:11:37,633| ERROR   | Traceback (most recent call last):\n",
      "2024-08-27 20:11:37,634| ERROR   |   File \"/home/salatiel/anaconda3/lib/python3.7/site-packages/paramiko/transport.py\", line 2093, in run\n",
      "2024-08-27 20:11:37,634| ERROR   |     self._check_banner()\n",
      "2024-08-27 20:11:37,635| ERROR   |   File \"/home/salatiel/anaconda3/lib/python3.7/site-packages/paramiko/transport.py\", line 2275, in _check_banner\n",
      "2024-08-27 20:11:37,635| ERROR   |     \"Error reading SSH protocol banner\" + str(e)\n",
      "2024-08-27 20:11:37,636| ERROR   | paramiko.ssh_exception.SSHException: Error reading SSH protocol banner\n",
      "2024-08-27 20:11:37,636| ERROR   | \n",
      "2024-08-27 20:11:37,637| ERROR   | Could not connect to gateway 150.165.15.171:23456 : Error reading SSH protocol banner\n"
     ]
    },
    {
     "name": "stdout",
     "output_type": "stream",
     "text": [
      "Could not establish session to SSH gateway\n"
     ]
    },
    {
     "name": "stderr",
     "output_type": "stream",
     "text": [
      "2024-08-27 20:11:46,223| ERROR   | Exception (client): Error reading SSH protocol banner\n",
      "2024-08-27 20:11:46,224| ERROR   | Traceback (most recent call last):\n",
      "2024-08-27 20:11:46,225| ERROR   |   File \"/home/salatiel/anaconda3/lib/python3.7/site-packages/paramiko/transport.py\", line 2270, in _check_banner\n",
      "2024-08-27 20:11:46,225| ERROR   |     buf = self.packetizer.readline(timeout)\n",
      "2024-08-27 20:11:46,226| ERROR   |   File \"/home/salatiel/anaconda3/lib/python3.7/site-packages/paramiko/packet.py\", line 374, in readline\n",
      "2024-08-27 20:11:46,226| ERROR   |     buf += self._read_timeout(timeout)\n",
      "2024-08-27 20:11:46,227| ERROR   |   File \"/home/salatiel/anaconda3/lib/python3.7/site-packages/paramiko/packet.py\", line 603, in _read_timeout\n",
      "2024-08-27 20:11:46,227| ERROR   |     raise EOFError()\n",
      "2024-08-27 20:11:46,228| ERROR   | EOFError\n",
      "2024-08-27 20:11:46,228| ERROR   | \n",
      "2024-08-27 20:11:46,229| ERROR   | During handling of the above exception, another exception occurred:\n",
      "2024-08-27 20:11:46,229| ERROR   | \n",
      "2024-08-27 20:11:46,230| ERROR   | Traceback (most recent call last):\n",
      "2024-08-27 20:11:46,230| ERROR   |   File \"/home/salatiel/anaconda3/lib/python3.7/site-packages/paramiko/transport.py\", line 2093, in run\n",
      "2024-08-27 20:11:46,231| ERROR   |     self._check_banner()\n",
      "2024-08-27 20:11:46,232| ERROR   |   File \"/home/salatiel/anaconda3/lib/python3.7/site-packages/paramiko/transport.py\", line 2275, in _check_banner\n",
      "2024-08-27 20:11:46,232| ERROR   |     \"Error reading SSH protocol banner\" + str(e)\n",
      "2024-08-27 20:11:46,237| ERROR   | paramiko.ssh_exception.SSHException: Error reading SSH protocol banner\n",
      "2024-08-27 20:11:46,238| ERROR   | \n",
      "2024-08-27 20:11:46,239| ERROR   | Could not connect to gateway 150.165.15.171:23456 : Error reading SSH protocol banner\n"
     ]
    },
    {
     "name": "stdout",
     "output_type": "stream",
     "text": [
      "Could not establish session to SSH gateway\n"
     ]
    },
    {
     "name": "stderr",
     "output_type": "stream",
     "text": [
      "2024-08-27 20:11:47,392| ERROR   | Socket exception: Bad file descriptor (9)\n",
      "2024-08-27 20:11:50,755| ERROR   | Exception (client): Error reading SSH protocol banner\n",
      "2024-08-27 20:11:50,756| ERROR   | Traceback (most recent call last):\n",
      "2024-08-27 20:11:50,756| ERROR   |   File \"/home/salatiel/anaconda3/lib/python3.7/site-packages/paramiko/transport.py\", line 2270, in _check_banner\n",
      "2024-08-27 20:11:50,757| ERROR   |     buf = self.packetizer.readline(timeout)\n",
      "2024-08-27 20:11:50,757| ERROR   |   File \"/home/salatiel/anaconda3/lib/python3.7/site-packages/paramiko/packet.py\", line 374, in readline\n",
      "2024-08-27 20:11:50,758| ERROR   |     buf += self._read_timeout(timeout)\n",
      "2024-08-27 20:11:50,759| ERROR   |   File \"/home/salatiel/anaconda3/lib/python3.7/site-packages/paramiko/packet.py\", line 603, in _read_timeout\n",
      "2024-08-27 20:11:50,760| ERROR   |     raise EOFError()\n",
      "2024-08-27 20:11:50,760| ERROR   | EOFError\n",
      "2024-08-27 20:11:50,761| ERROR   | \n",
      "2024-08-27 20:11:50,761| ERROR   | During handling of the above exception, another exception occurred:\n",
      "2024-08-27 20:11:50,762| ERROR   | \n",
      "2024-08-27 20:11:50,763| ERROR   | Traceback (most recent call last):\n",
      "2024-08-27 20:11:50,763| ERROR   |   File \"/home/salatiel/anaconda3/lib/python3.7/site-packages/paramiko/transport.py\", line 2093, in run\n",
      "2024-08-27 20:11:50,764| ERROR   |     self._check_banner()\n",
      "2024-08-27 20:11:50,764| ERROR   |   File \"/home/salatiel/anaconda3/lib/python3.7/site-packages/paramiko/transport.py\", line 2275, in _check_banner\n",
      "2024-08-27 20:11:50,765| ERROR   |     \"Error reading SSH protocol banner\" + str(e)\n",
      "2024-08-27 20:11:50,765| ERROR   | paramiko.ssh_exception.SSHException: Error reading SSH protocol banner\n",
      "2024-08-27 20:11:50,766| ERROR   | \n",
      "2024-08-27 20:11:50,766| ERROR   | Could not connect to gateway 150.165.15.171:23456 : Error reading SSH protocol banner\n"
     ]
    },
    {
     "name": "stdout",
     "output_type": "stream",
     "text": [
      "Could not establish session to SSH gateway\n"
     ]
    },
    {
     "name": "stderr",
     "output_type": "stream",
     "text": [
      "2024-08-27 20:12:13,727| ERROR   | Exception (client): Error reading SSH protocol banner\n",
      "2024-08-27 20:12:13,728| ERROR   | Traceback (most recent call last):\n",
      "2024-08-27 20:12:13,729| ERROR   |   File \"/home/salatiel/anaconda3/lib/python3.7/site-packages/paramiko/transport.py\", line 2270, in _check_banner\n",
      "2024-08-27 20:12:13,729| ERROR   |     buf = self.packetizer.readline(timeout)\n",
      "2024-08-27 20:12:13,730| ERROR   |   File \"/home/salatiel/anaconda3/lib/python3.7/site-packages/paramiko/packet.py\", line 374, in readline\n",
      "2024-08-27 20:12:13,730| ERROR   |     buf += self._read_timeout(timeout)\n",
      "2024-08-27 20:12:13,731| ERROR   |   File \"/home/salatiel/anaconda3/lib/python3.7/site-packages/paramiko/packet.py\", line 603, in _read_timeout\n",
      "2024-08-27 20:12:13,731| ERROR   |     raise EOFError()\n",
      "2024-08-27 20:12:13,731| ERROR   | EOFError\n",
      "2024-08-27 20:12:13,732| ERROR   | \n",
      "2024-08-27 20:12:13,732| ERROR   | During handling of the above exception, another exception occurred:\n",
      "2024-08-27 20:12:13,732| ERROR   | \n",
      "2024-08-27 20:12:13,733| ERROR   | Traceback (most recent call last):\n",
      "2024-08-27 20:12:13,733| ERROR   |   File \"/home/salatiel/anaconda3/lib/python3.7/site-packages/paramiko/transport.py\", line 2093, in run\n",
      "2024-08-27 20:12:13,734| ERROR   |     self._check_banner()\n",
      "2024-08-27 20:12:13,734| ERROR   |   File \"/home/salatiel/anaconda3/lib/python3.7/site-packages/paramiko/transport.py\", line 2275, in _check_banner\n",
      "2024-08-27 20:12:13,735| ERROR   |     \"Error reading SSH protocol banner\" + str(e)\n",
      "2024-08-27 20:12:13,735| ERROR   | paramiko.ssh_exception.SSHException: Error reading SSH protocol banner\n",
      "2024-08-27 20:12:13,735| ERROR   | \n",
      "2024-08-27 20:12:13,736| ERROR   | Could not connect to gateway 150.165.15.171:23456 : Error reading SSH protocol banner\n"
     ]
    },
    {
     "name": "stdout",
     "output_type": "stream",
     "text": [
      "Could not establish session to SSH gateway\n"
     ]
    },
    {
     "name": "stderr",
     "output_type": "stream",
     "text": [
      "2024-08-27 20:12:17,273| ERROR   | Exception (client): Error reading SSH protocol banner\n",
      "2024-08-27 20:12:17,274| ERROR   | Traceback (most recent call last):\n",
      "2024-08-27 20:12:17,275| ERROR   |   File \"/home/salatiel/anaconda3/lib/python3.7/site-packages/paramiko/transport.py\", line 2270, in _check_banner\n",
      "2024-08-27 20:12:17,275| ERROR   |     buf = self.packetizer.readline(timeout)\n",
      "2024-08-27 20:12:17,276| ERROR   |   File \"/home/salatiel/anaconda3/lib/python3.7/site-packages/paramiko/packet.py\", line 374, in readline\n",
      "2024-08-27 20:12:17,276| ERROR   |     buf += self._read_timeout(timeout)\n",
      "2024-08-27 20:12:17,277| ERROR   |   File \"/home/salatiel/anaconda3/lib/python3.7/site-packages/paramiko/packet.py\", line 603, in _read_timeout\n",
      "2024-08-27 20:12:17,277| ERROR   |     raise EOFError()\n",
      "2024-08-27 20:12:17,278| ERROR   | EOFError\n",
      "2024-08-27 20:12:17,278| ERROR   | \n",
      "2024-08-27 20:12:17,278| ERROR   | During handling of the above exception, another exception occurred:\n",
      "2024-08-27 20:12:17,279| ERROR   | \n",
      "2024-08-27 20:12:17,279| ERROR   | Traceback (most recent call last):\n",
      "2024-08-27 20:12:17,279| ERROR   |   File \"/home/salatiel/anaconda3/lib/python3.7/site-packages/paramiko/transport.py\", line 2093, in run\n",
      "2024-08-27 20:12:17,280| ERROR   |     self._check_banner()\n",
      "2024-08-27 20:12:17,280| ERROR   |   File \"/home/salatiel/anaconda3/lib/python3.7/site-packages/paramiko/transport.py\", line 2275, in _check_banner\n",
      "2024-08-27 20:12:17,281| ERROR   |     \"Error reading SSH protocol banner\" + str(e)\n",
      "2024-08-27 20:12:17,281| ERROR   | paramiko.ssh_exception.SSHException: Error reading SSH protocol banner\n",
      "2024-08-27 20:12:17,282| ERROR   | \n",
      "2024-08-27 20:12:17,282| ERROR   | Could not connect to gateway 150.165.15.171:23456 : Error reading SSH protocol banner\n"
     ]
    },
    {
     "name": "stdout",
     "output_type": "stream",
     "text": [
      "Could not establish session to SSH gateway\n"
     ]
    },
    {
     "name": "stderr",
     "output_type": "stream",
     "text": [
      "2024-08-27 20:12:19,839| ERROR   | Socket exception: Bad file descriptor (9)\n",
      "2024-08-27 20:12:22,048| ERROR   | Socket exception: Bad file descriptor (9)\n",
      "2024-08-27 20:12:28,173| ERROR   | Exception (client): Error reading SSH protocol banner\n",
      "2024-08-27 20:12:28,175| ERROR   | Traceback (most recent call last):\n",
      "2024-08-27 20:12:28,175| ERROR   |   File \"/home/salatiel/anaconda3/lib/python3.7/site-packages/paramiko/transport.py\", line 2270, in _check_banner\n",
      "2024-08-27 20:12:28,176| ERROR   |     buf = self.packetizer.readline(timeout)\n",
      "2024-08-27 20:12:28,176| ERROR   |   File \"/home/salatiel/anaconda3/lib/python3.7/site-packages/paramiko/packet.py\", line 374, in readline\n",
      "2024-08-27 20:12:28,177| ERROR   |     buf += self._read_timeout(timeout)\n",
      "2024-08-27 20:12:28,177| ERROR   |   File \"/home/salatiel/anaconda3/lib/python3.7/site-packages/paramiko/packet.py\", line 603, in _read_timeout\n",
      "2024-08-27 20:12:28,178| ERROR   |     raise EOFError()\n",
      "2024-08-27 20:12:28,180| ERROR   | EOFError\n",
      "2024-08-27 20:12:28,180| ERROR   | \n",
      "2024-08-27 20:12:28,181| ERROR   | During handling of the above exception, another exception occurred:\n",
      "2024-08-27 20:12:28,182| ERROR   | \n",
      "2024-08-27 20:12:28,184| ERROR   | Traceback (most recent call last):\n",
      "2024-08-27 20:12:28,186| ERROR   |   File \"/home/salatiel/anaconda3/lib/python3.7/site-packages/paramiko/transport.py\", line 2093, in run\n",
      "2024-08-27 20:12:28,187| ERROR   |     self._check_banner()\n",
      "2024-08-27 20:12:28,187| ERROR   |   File \"/home/salatiel/anaconda3/lib/python3.7/site-packages/paramiko/transport.py\", line 2275, in _check_banner\n",
      "2024-08-27 20:12:28,188| ERROR   |     \"Error reading SSH protocol banner\" + str(e)\n",
      "2024-08-27 20:12:28,189| ERROR   | paramiko.ssh_exception.SSHException: Error reading SSH protocol banner\n",
      "2024-08-27 20:12:28,189| ERROR   | \n",
      "2024-08-27 20:12:28,190| ERROR   | Could not connect to gateway 150.165.15.171:23456 : Error reading SSH protocol banner\n"
     ]
    },
    {
     "name": "stdout",
     "output_type": "stream",
     "text": [
      "Could not establish session to SSH gateway\n"
     ]
    },
    {
     "name": "stderr",
     "output_type": "stream",
     "text": [
      "2024-08-27 20:12:30,706| ERROR   | Exception (client): Error reading SSH protocol banner\n",
      "2024-08-27 20:12:30,708| ERROR   | Traceback (most recent call last):\n",
      "2024-08-27 20:12:30,708| ERROR   |   File \"/home/salatiel/anaconda3/lib/python3.7/site-packages/paramiko/transport.py\", line 2270, in _check_banner\n",
      "2024-08-27 20:12:30,709| ERROR   |     buf = self.packetizer.readline(timeout)\n",
      "2024-08-27 20:12:30,710| ERROR   |   File \"/home/salatiel/anaconda3/lib/python3.7/site-packages/paramiko/packet.py\", line 374, in readline\n",
      "2024-08-27 20:12:30,710| ERROR   |     buf += self._read_timeout(timeout)\n",
      "2024-08-27 20:12:30,712| ERROR   |   File \"/home/salatiel/anaconda3/lib/python3.7/site-packages/paramiko/packet.py\", line 603, in _read_timeout\n",
      "2024-08-27 20:12:30,713| ERROR   |     raise EOFError()\n",
      "2024-08-27 20:12:30,714| ERROR   | EOFError\n",
      "2024-08-27 20:12:30,714| ERROR   | \n",
      "2024-08-27 20:12:30,715| ERROR   | During handling of the above exception, another exception occurred:\n",
      "2024-08-27 20:12:30,716| ERROR   | \n",
      "2024-08-27 20:12:30,717| ERROR   | Traceback (most recent call last):\n",
      "2024-08-27 20:12:30,717| ERROR   |   File \"/home/salatiel/anaconda3/lib/python3.7/site-packages/paramiko/transport.py\", line 2093, in run\n",
      "2024-08-27 20:12:30,718| ERROR   |     self._check_banner()\n",
      "2024-08-27 20:12:30,719| ERROR   |   File \"/home/salatiel/anaconda3/lib/python3.7/site-packages/paramiko/transport.py\", line 2275, in _check_banner\n",
      "2024-08-27 20:12:30,719| ERROR   |     \"Error reading SSH protocol banner\" + str(e)\n",
      "2024-08-27 20:12:30,720| ERROR   | paramiko.ssh_exception.SSHException: Error reading SSH protocol banner\n",
      "2024-08-27 20:12:30,720| ERROR   | \n",
      "2024-08-27 20:12:30,721| ERROR   | Could not connect to gateway 150.165.15.171:23456 : Error reading SSH protocol banner\n"
     ]
    },
    {
     "name": "stdout",
     "output_type": "stream",
     "text": [
      "Could not establish session to SSH gateway\n"
     ]
    },
    {
     "name": "stderr",
     "output_type": "stream",
     "text": [
      "2024-08-27 20:12:32,061| ERROR   | Could not establish connection from local ('127.0.0.1', 44893) to remote ('localhost', 5432) side of the tunnel: \n",
      "2024-08-27 20:12:32,258| ERROR   | Exception (client): Error reading SSH protocol banner\n",
      "2024-08-27 20:12:32,259| ERROR   | Traceback (most recent call last):\n",
      "2024-08-27 20:12:32,259| ERROR   |   File \"/home/salatiel/anaconda3/lib/python3.7/site-packages/paramiko/transport.py\", line 2270, in _check_banner\n",
      "2024-08-27 20:12:32,260| ERROR   |     buf = self.packetizer.readline(timeout)\n",
      "2024-08-27 20:12:32,261| ERROR   |   File \"/home/salatiel/anaconda3/lib/python3.7/site-packages/paramiko/packet.py\", line 374, in readline\n",
      "2024-08-27 20:12:32,261| ERROR   |     buf += self._read_timeout(timeout)\n",
      "2024-08-27 20:12:32,261| ERROR   |   File \"/home/salatiel/anaconda3/lib/python3.7/site-packages/paramiko/packet.py\", line 603, in _read_timeout\n",
      "2024-08-27 20:12:32,262| ERROR   |     raise EOFError()\n",
      "2024-08-27 20:12:32,262| ERROR   | EOFError\n",
      "2024-08-27 20:12:32,263| ERROR   | \n",
      "2024-08-27 20:12:32,263| ERROR   | During handling of the above exception, another exception occurred:\n",
      "2024-08-27 20:12:32,264| ERROR   | \n",
      "2024-08-27 20:12:32,264| ERROR   | Traceback (most recent call last):\n",
      "2024-08-27 20:12:32,265| ERROR   |   File \"/home/salatiel/anaconda3/lib/python3.7/site-packages/paramiko/transport.py\", line 2093, in run\n",
      "2024-08-27 20:12:32,265| ERROR   |     self._check_banner()\n",
      "2024-08-27 20:12:32,266| ERROR   |   File \"/home/salatiel/anaconda3/lib/python3.7/site-packages/paramiko/transport.py\", line 2275, in _check_banner\n",
      "2024-08-27 20:12:32,266| ERROR   |     \"Error reading SSH protocol banner\" + str(e)\n",
      "2024-08-27 20:12:32,267| ERROR   | paramiko.ssh_exception.SSHException: Error reading SSH protocol banner\n",
      "2024-08-27 20:12:32,267| ERROR   | \n",
      "2024-08-27 20:12:32,269| ERROR   | Could not connect to gateway 150.165.15.171:23456 : Error reading SSH protocol banner\n"
     ]
    },
    {
     "name": "stdout",
     "output_type": "stream",
     "text": [
      "Could not establish session to SSH gateway\n"
     ]
    },
    {
     "name": "stderr",
     "output_type": "stream",
     "text": [
      "2024-08-27 20:12:33,601| ERROR   | Exception (client): Error reading SSH protocol banner\n",
      "2024-08-27 20:12:33,602| ERROR   | Traceback (most recent call last):\n",
      "2024-08-27 20:12:33,603| ERROR   |   File \"/home/salatiel/anaconda3/lib/python3.7/site-packages/paramiko/transport.py\", line 2270, in _check_banner\n",
      "2024-08-27 20:12:33,603| ERROR   |     buf = self.packetizer.readline(timeout)\n",
      "2024-08-27 20:12:33,604| ERROR   |   File \"/home/salatiel/anaconda3/lib/python3.7/site-packages/paramiko/packet.py\", line 374, in readline\n",
      "2024-08-27 20:12:33,605| ERROR   |     buf += self._read_timeout(timeout)\n",
      "2024-08-27 20:12:33,605| ERROR   |   File \"/home/salatiel/anaconda3/lib/python3.7/site-packages/paramiko/packet.py\", line 603, in _read_timeout\n",
      "2024-08-27 20:12:33,606| ERROR   |     raise EOFError()\n",
      "2024-08-27 20:12:33,606| ERROR   | EOFError\n",
      "2024-08-27 20:12:33,607| ERROR   | \n",
      "2024-08-27 20:12:33,607| ERROR   | During handling of the above exception, another exception occurred:\n",
      "2024-08-27 20:12:33,608| ERROR   | \n",
      "2024-08-27 20:12:33,608| ERROR   | Traceback (most recent call last):\n",
      "2024-08-27 20:12:33,609| ERROR   |   File \"/home/salatiel/anaconda3/lib/python3.7/site-packages/paramiko/transport.py\", line 2093, in run\n",
      "2024-08-27 20:12:33,609| ERROR   |     self._check_banner()\n",
      "2024-08-27 20:12:33,610| ERROR   |   File \"/home/salatiel/anaconda3/lib/python3.7/site-packages/paramiko/transport.py\", line 2275, in _check_banner\n",
      "2024-08-27 20:12:33,610| ERROR   |     \"Error reading SSH protocol banner\" + str(e)\n",
      "2024-08-27 20:12:33,611| ERROR   | paramiko.ssh_exception.SSHException: Error reading SSH protocol banner\n",
      "2024-08-27 20:12:33,611| ERROR   | \n",
      "2024-08-27 20:12:33,614| ERROR   | Could not connect to gateway 150.165.15.171:23456 : Error reading SSH protocol banner\n"
     ]
    },
    {
     "name": "stdout",
     "output_type": "stream",
     "text": [
      "Could not establish session to SSH gateway\n"
     ]
    },
    {
     "name": "stderr",
     "output_type": "stream",
     "text": [
      "2024-08-27 20:23:29,981| ERROR   | Exception (client): Error reading SSH protocol banner\n",
      "2024-08-27 20:23:29,982| ERROR   | Traceback (most recent call last):\n",
      "2024-08-27 20:23:29,982| ERROR   |   File \"/home/salatiel/anaconda3/lib/python3.7/site-packages/paramiko/transport.py\", line 2270, in _check_banner\n",
      "2024-08-27 20:23:29,983| ERROR   |     buf = self.packetizer.readline(timeout)\n",
      "2024-08-27 20:23:29,983| ERROR   |   File \"/home/salatiel/anaconda3/lib/python3.7/site-packages/paramiko/packet.py\", line 374, in readline\n",
      "2024-08-27 20:23:29,983| ERROR   |     buf += self._read_timeout(timeout)\n",
      "2024-08-27 20:23:29,983| ERROR   |   File \"/home/salatiel/anaconda3/lib/python3.7/site-packages/paramiko/packet.py\", line 603, in _read_timeout\n",
      "2024-08-27 20:23:29,983| ERROR   |     raise EOFError()\n",
      "2024-08-27 20:23:29,984| ERROR   | EOFError\n",
      "2024-08-27 20:23:29,984| ERROR   | \n",
      "2024-08-27 20:23:29,984| ERROR   | During handling of the above exception, another exception occurred:\n",
      "2024-08-27 20:23:29,985| ERROR   | \n",
      "2024-08-27 20:23:29,985| ERROR   | Traceback (most recent call last):\n",
      "2024-08-27 20:23:29,985| ERROR   |   File \"/home/salatiel/anaconda3/lib/python3.7/site-packages/paramiko/transport.py\", line 2093, in run\n",
      "2024-08-27 20:23:29,985| ERROR   |     self._check_banner()\n",
      "2024-08-27 20:23:29,985| ERROR   |   File \"/home/salatiel/anaconda3/lib/python3.7/site-packages/paramiko/transport.py\", line 2275, in _check_banner\n",
      "2024-08-27 20:23:29,986| ERROR   |     \"Error reading SSH protocol banner\" + str(e)\n",
      "2024-08-27 20:23:29,986| ERROR   | paramiko.ssh_exception.SSHException: Error reading SSH protocol banner\n",
      "2024-08-27 20:23:29,986| ERROR   | \n",
      "2024-08-27 20:23:29,986| ERROR   | Could not connect to gateway 150.165.15.171:23456 : Error reading SSH protocol banner\n"
     ]
    },
    {
     "name": "stdout",
     "output_type": "stream",
     "text": [
      "Could not establish session to SSH gateway\n"
     ]
    },
    {
     "name": "stderr",
     "output_type": "stream",
     "text": [
      "2024-08-27 20:43:26,796| ERROR   | Could not establish connection from local ('127.0.0.1', 38387) to remote ('localhost', 5432) side of the tunnel: \n"
     ]
    }
   ],
   "source": [
    "import multiprocessing as mp\n",
    "\n",
    "from timeit import default_timer as timer\n",
    "start = timer() \n",
    "\n",
    "print(\"Number of processors: \", mp.cpu_count())\n",
    "\n",
    "# Step 1: Init multiprocessing.Pool()\n",
    "#pool = mp.Pool(int(mp.cpu_count()))\n",
    "pool = mp.Pool(int(2))\n",
    "\n",
    "# Step 2: `pool.apply` the `howmany_within_range()`\n",
    "items = [(object_id, poi_df) for object_id in obj_id_list]\n",
    "\n",
    "results = pool.starmap(Shortest_Path_FT, items)\n",
    "\n",
    "#Step 2.1 Writing results\n",
    "\n",
    "#file_name = './geographic/SHORTEST PATH/austin-shortest_path-zoning-FT_gpu.csv'\n",
    "file_name = './Atlanta/Shortest Path/atlanta-shortest_path-zoning-FT_gpu.csv'\n",
    "\n",
    "csv_file_02 = open(file_name, \"w\", newline='')\n",
    "writer_path = csv.writer(csv_file_02, delimiter=',')\n",
    "for result in results:\n",
    "    writer_path.writerow(result)\n",
    "\n",
    "csv_file_02.close()\n",
    "\n",
    "# Step 3: Don't forget to close\n",
    "pool.close()\n",
    "    \n",
    "#print(\"without GPU:\", timer()-start)\n",
    "print(\"with GPU:\", timer()-start) "
   ]
  },
  {
   "cell_type": "code",
   "execution_count": 49,
   "metadata": {},
   "outputs": [
    {
     "name": "stdout",
     "output_type": "stream",
     "text": [
      "105\n"
     ]
    }
   ],
   "source": [
    "print(len(results))"
   ]
  },
  {
   "cell_type": "code",
   "execution_count": 22,
   "metadata": {},
   "outputs": [],
   "source": [
    "#file_name = './geographic/SHORTEST PATH/austin-sl-corpus-' + str(bin_number) + '-c_.csv'\n",
    "file_name = './geographic/SHORTEST PATH/austin-shortest_path-' + str(bin_number) + '-CF-c_.csv'\n",
    "#file_name = './geographic/SHORTEST PATH/austin-shortest_path-' + str(bin_number) + '-FT-c.csv'\n",
    "\n",
    "csv_file_02 = open(file_name, \"w\", newline='')\n",
    "writer_path = csv.writer(csv_file_02, delimiter=',')\n",
    "for result in results:\n",
    "    writer_path.writerow(result)"
   ]
  },
  {
   "cell_type": "code",
   "execution_count": 22,
   "metadata": {},
   "outputs": [
    {
     "name": "stdout",
     "output_type": "stream",
     "text": [
      "ok\n"
     ]
    }
   ],
   "source": [
    "print('ok')"
   ]
  }
 ],
 "metadata": {
  "interpreter": {
   "hash": "1c960ebc558cb47a91b30b6a69e09ee33d8511507a0164b187e789d12f3a22a9"
  },
  "kernelspec": {
   "display_name": "Python 3 (ipykernel)",
   "language": "python",
   "name": "python3"
  },
  "language_info": {
   "codemirror_mode": {
    "name": "ipython",
    "version": 3
   },
   "file_extension": ".py",
   "mimetype": "text/x-python",
   "name": "python",
   "nbconvert_exporter": "python",
   "pygments_lexer": "ipython3",
   "version": "3.10.12"
  }
 },
 "nbformat": 4,
 "nbformat_minor": 4
}
