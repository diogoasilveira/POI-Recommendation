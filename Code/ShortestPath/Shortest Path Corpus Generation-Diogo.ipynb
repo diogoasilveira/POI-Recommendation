{
 "cells": [
  {
   "cell_type": "markdown",
   "metadata": {},
   "source": [
    "# Bibliotecas"
   ]
  },
  {
   "cell_type": "code",
   "execution_count": 2,
   "metadata": {},
   "outputs": [],
   "source": [
    "import pandas as pd\n",
    "import numpy as np\n",
    "import psycopg2 as postgres\n",
    "import psycopg2.extras\n",
    "import csv\n",
    "import random\n",
    "from sshtunnel import SSHTunnelForwarder\n",
    "from tqdm import tqdm\n",
    "import ast"
   ]
  },
  {
   "cell_type": "markdown",
   "metadata": {},
   "source": [
    "# Funções"
   ]
  },
  {
   "cell_type": "code",
   "execution_count": 3,
   "metadata": {},
   "outputs": [],
   "source": [
    "def executeQuery(conn, sql):\n",
    "    record = None\n",
    "    try:\n",
    "        #print(sql)\n",
    "        cur = conn.cursor(cursor_factory = psycopg2.extras.RealDictCursor)\n",
    "        cur.execute(sql)\n",
    "        record = cur.fetchall()\n",
    "        cur.close()\n",
    "    except postgres.Error as e:\n",
    "        print(e)\n",
    "        cur.execute(\"ROLLBACK\")\n",
    "        cur.close()\n",
    "    return record"
   ]
  },
  {
   "cell_type": "code",
   "execution_count": 4,
   "metadata": {},
   "outputs": [],
   "source": [
    "#Recebe um id e retorna as categorias e checkin do lugar\n",
    "def getPOIInformation(conn, business_id):\n",
    "    \n",
    "    sql = \"\"\"\n",
    "        SELECT id, checkin_count, name, level FROM pois_information WHERE id  = \\'\"\"\"+str(business_id)+ \"\"\"\\'\n",
    "    ;\"\"\"\n",
    "\n",
    "    result = executeQuery(conn, sql)\n",
    "\n",
    "    return result"
   ]
  },
  {
   "cell_type": "code",
   "execution_count": 5,
   "metadata": {},
   "outputs": [],
   "source": [
    "def generate_path_corpus_all(bin_number, size):\n",
    "    #Criar a janela ao redor do POI e unir as sentenças\n",
    "    \n",
    "    wnd = (bin_number+1)*size\n",
    "\n",
    "    with SSHTunnelForwarder(\n",
    "        ('150.165.15.171', 23456),\n",
    "        #ssh_private_key=\"</path/to/private/ssh/key>\",\n",
    "        ### in my case, I used a password instead of a private key\n",
    "        ssh_username=\"salatiel\",\n",
    "        ssh_password=\"Salatiel@Lacina123\", \n",
    "        remote_bind_address=('localhost', 5432)) as server:\n",
    "\n",
    "            server.start()\n",
    "            #print(\"server connected\")\n",
    "\n",
    "            params = {'database': 'austin_test',\n",
    "                   'user': 'salatiel',\n",
    "                   'password': 'root',\n",
    "                   'host': 'localhost',\n",
    "                   'port': server.local_bind_port\n",
    "            }\n",
    "\n",
    "            connection = psycopg2.connect(**params)\n",
    "            \n",
    "            file_name = './geographic/SHORTEST PATH/austin-shortest_path-' + str(bin_number) + '-FT-c_gpu.csv'\n",
    "\n",
    "            print(\"loading file:\", file_name)\n",
    "            all_pois_path = []\n",
    "            with open(file_name, newline='') as f:\n",
    "                csv_reader = csv.reader(f)\n",
    "                for row in csv_reader:\n",
    "                    all_pois_path.append(row)\n",
    "            \n",
    "            file_name_corpus = './geographic/SHORTEST PATH CORPUS/austin-shortest_path_corpus-' + str(bin_number) + '-FT-c_gpu.csv'\n",
    "    \n",
    "            csv_file = open(file_name_corpus, \"w\", newline='')\n",
    "            writer = csv.writer(csv_file, delimiter=',')\n",
    "            writer.writerow([\"poi_id_center\",\n",
    "                         \"center_poi\",\n",
    "                         \"center_poi_level\",\n",
    "                         #\"context_poi_id\",\n",
    "                         \"context_poi\",\n",
    "                         \"context_poi_level\"])\n",
    "\n",
    "            for poi_path in tqdm(all_pois_path):\n",
    "            \n",
    "                sub_path = list(range(0, wnd+1))\n",
    "                sub_path_types = []\n",
    "\n",
    "                #Preenchendo lista inicial\n",
    "                for sb_idx in sub_path:\n",
    "\n",
    "                    if (sb_idx < len(poi_path)):\n",
    "\n",
    "                        poi_id = poi_path[sb_idx]\n",
    "                        poi_information = getPOIInformation(connection, poi_id)\n",
    "\n",
    "                        if (len(poi_information) > 0):\n",
    "\n",
    "                            columns = list(dict(poi_information[0]).keys())\n",
    "                            poi_information = pd.DataFrame(poi_information, columns=columns)\n",
    "                            #poi_types = list(poi_information['name'])\n",
    "                            sub_path_types.append(poi_information)\n",
    "\n",
    "                #Iniciando o processo de associações\n",
    "                for i in range(len(poi_path)):\n",
    "\n",
    "                    #Associações binárias\n",
    "                    #sub_path[0] é o POI alvo\n",
    "                    target_types= sub_path_types[0]\n",
    "                    for j in range(1, len(sub_path_types)):\n",
    "                        neighbor_types = sub_path_types[j]\n",
    "\n",
    "                        for id_t, tg in target_types.iterrows():\n",
    "                            for id_n, ng in neighbor_types.iterrows():\n",
    "                                \n",
    "                                if (tg['name'] !=  ng['name']):\n",
    "                                \n",
    "                                    #print(tg['id'], tg['name'], tg['level'], ng['id'], ng['name'], ng['level'])\n",
    "\n",
    "                                    line = [str(tg['id']), \n",
    "                                            str(tg['name']),\n",
    "                                            str(tg['level']), \n",
    "                                            #str(ng['id']),\n",
    "                                            str(ng['name']),\n",
    "                                            str(ng['level'])]\n",
    "\n",
    "                                    writer.writerow(line)\n",
    "\n",
    "\n",
    "                    #break\n",
    "                    \n",
    "                    new_poi = i+(wnd)+1\n",
    "                    sub_path.pop(0)\n",
    "                    sub_path.append(new_poi)\n",
    "                    sub_path_types.pop(0)\n",
    "\n",
    "                    if (new_poi < len(poi_path)):\n",
    "\n",
    "                        poi_id = poi_path[new_poi]\n",
    "                        poi_information = getPOIInformation(connection, poi_id)\n",
    "\n",
    "                        if (len(poi_information) > 0):\n",
    "\n",
    "                            columns = list(dict(poi_information[0]).keys())\n",
    "                            poi_information = pd.DataFrame(poi_information, columns=columns)\n",
    "                            sub_path_types.append(poi_information)\n",
    "\n",
    "            connection.close()\n",
    "            csv_file.close()\n",
    "            \n",
    "    return None    "
   ]
  },
  {
   "cell_type": "code",
   "execution_count": 8,
   "metadata": {},
   "outputs": [],
   "source": [
    "def generate_path_corpus_zoning_all(all_pois_path, size):\n",
    "    #Criar a janela ao redor do POI e unir as sentenças\n",
    "    \n",
    "    wnd = size\n",
    "    \n",
    "    #print('processing wnd', size)\n",
    "\n",
    "    with SSHTunnelForwarder(\n",
    "        ('150.165.15.171', 23456),\n",
    "        #ssh_private_key=\"</path/to/private/ssh/key>\",\n",
    "        ### in my case, I used a password instead of a private key\n",
    "        ssh_username=\"salatiel\",\n",
    "        ssh_password=\"Salatiel@Lacina123\", \n",
    "        remote_bind_address=('localhost', 5432)) as server:\n",
    "\n",
    "            server.start()\n",
    "            #print(\"server connected\")\n",
    "\n",
    "            params = {'database': 'atlanta',\n",
    "                   'user': 'salatiel',\n",
    "                   'password': 'root',\n",
    "                   'host': 'localhost',\n",
    "                   'port': server.local_bind_port\n",
    "            }\n",
    "\n",
    "            connection = psycopg2.connect(**params)\n",
    "            \n",
    "#             file_name = './geographic/SHORTEST PATH/austin-shortest_path-zoning-FT_gpu.csv'\n",
    "\n",
    "#             print(\"loading file:\", file_name)\n",
    "#             all_pois_path = []\n",
    "#             with open(file_name, newline='') as f:\n",
    "#                 csv_reader = csv.reader(f)\n",
    "#                 for row in csv_reader:\n",
    "#                     all_pois_path.append(row)\n",
    "            \n",
    "            file_name_corpus = './Atlanta/Shortest Path/atlanta-neighborhood-shortest_path_corpus-zoning-k' + str(wnd) + '-FT_gpu.csv'\n",
    "            #file_name_corpus = './Boston/Shortest Path/boston-neighborhood-shortest_path_corpus-zoning-k' + str(wnd) + '-FT_gpu.csv'\n",
    "    \n",
    "            csv_file = open(file_name_corpus, \"w\", newline='')\n",
    "            writer = csv.writer(csv_file, delimiter=',')\n",
    "            writer.writerow([\"poi_id_center\",\n",
    "                         \"center_poi\",\n",
    "                         \"center_poi_level\",\n",
    "                         #\"context_poi_id\",\n",
    "                         \"context_poi\",\n",
    "                         \"context_poi_level\"])\n",
    "\n",
    "            for index, poi_path in enumerate(tqdm(all_pois_path)):\n",
    "            #for p, poi_path in enumerate(all_pois_path):\n",
    "                \n",
    "                #print('path', p)\n",
    "            \n",
    "                sub_path = list(range(0, wnd+1))\n",
    "                sub_path_types = []\n",
    "\n",
    "                #Preenchendo lista inicial\n",
    "                for sb_idx in sub_path:\n",
    "\n",
    "                    if (sb_idx < len(poi_path)):\n",
    "\n",
    "                        poi_id = poi_path[sb_idx]\n",
    "                        poi_information = getPOIInformation(connection, poi_id)\n",
    "\n",
    "                        if (len(poi_information) > 0):\n",
    "\n",
    "                            columns = list(dict(poi_information[0]).keys())\n",
    "                            poi_information = pd.DataFrame(poi_information, columns=columns)\n",
    "                            #poi_types = list(poi_information['name'])\n",
    "                            sub_path_types.append(poi_information)\n",
    "\n",
    "                #Iniciando o processo de associações\n",
    "                for i in range(len(poi_path)):\n",
    "                #for i in tqdm(range(len(poi_path))):\n",
    "\n",
    "                    #Associações binárias\n",
    "                    #sub_path[0] é o POI alvo\n",
    "                    if(len(sub_path_types) > 0):\n",
    "                        target_types= sub_path_types[0]\n",
    "                        for j in range(1, len(sub_path_types)):\n",
    "                            neighbor_types = sub_path_types[j]\n",
    "\n",
    "                            for id_t, tg in target_types.iterrows():\n",
    "                                for id_n, ng in neighbor_types.iterrows():\n",
    "\n",
    "                                    if (tg['name'] !=  ng['name']):\n",
    "\n",
    "                                        #print(tg['id'], tg['name'], tg['level'], ng['id'], ng['name'], ng['level'])\n",
    "\n",
    "                                        line = [str(tg['id']), \n",
    "                                                str(tg['name']),\n",
    "                                                str(tg['level']), \n",
    "                                                #str(ng['id']),\n",
    "                                                str(ng['name']),\n",
    "                                                str(ng['level'])]\n",
    "\n",
    "                                        writer.writerow(line)\n",
    "\n",
    "                        new_poi = i+(wnd)+1\n",
    "                        sub_path.pop(0)\n",
    "                        sub_path.append(new_poi)\n",
    "                        sub_path_types.pop(0)\n",
    "\n",
    "                        if (new_poi < len(poi_path)):\n",
    "\n",
    "                            poi_id = poi_path[new_poi]\n",
    "                            poi_information = getPOIInformation(connection, poi_id)\n",
    "\n",
    "                            if (len(poi_information) > 0):\n",
    "\n",
    "                                columns = list(dict(poi_information[0]).keys())\n",
    "                                poi_information = pd.DataFrame(poi_information, columns=columns)\n",
    "                                sub_path_types.append(poi_information)\n",
    "                    \n",
    "#                     except Exception as e:\n",
    "#                         logger.error('Failed to upload to ftp: %s', repr(e))\n",
    "#                         print('path:', index) \n",
    "#                         print('poi_idx_in_path:', i) \n",
    "#                         print('poi_id:', poi_id)\n",
    "#                         print('sub_path:', sub_path)\n",
    "#                         print('sb_idx:', sb_idx)\n",
    "#                         print('len poi_path:', len(poi_path))\n",
    "#                         print('len sub_path_types:', sub_path_types)\n",
    "                        \n",
    "#                         break\n",
    "\n",
    "            connection.close()\n",
    "            csv_file.close()\n",
    "            \n",
    "    return None"
   ]
  },
  {
   "cell_type": "code",
   "execution_count": null,
   "metadata": {},
   "outputs": [
    {
     "name": "stdout",
     "output_type": "stream",
     "text": [
      "processing wnd 10\n"
     ]
    },
    {
     "name": "stderr",
     "output_type": "stream",
     "text": [
      "  0%|          | 0/105 [00:00<?, ?it/s]"
     ]
    },
    {
     "name": "stdout",
     "output_type": "stream",
     "text": [
      "loading file: ./geographic/SHORTEST PATH/austin-shortest_path-zoning-FT_gpu.csv\n"
     ]
    },
    {
     "name": "stderr",
     "output_type": "stream",
     "text": [
      "  2%|▏         | 2/105 [01:00<32:27, 18.91s/it]"
     ]
    }
   ],
   "source": [
    "generate_path_corpus_zoning_all(10)"
   ]
  },
  {
   "cell_type": "markdown",
   "metadata": {},
   "source": [
    "# Leitura de Dados"
   ]
  },
  {
   "cell_type": "code",
   "execution_count": 27,
   "metadata": {
    "scrolled": true
   },
   "outputs": [
    {
     "name": "stdout",
     "output_type": "stream",
     "text": [
      "loading file: ./Atlanta/Shortest Path/atlanta-neighborhood-shortest_path-zoning-FT_gpu.csv\n",
      "3499\n"
     ]
    }
   ],
   "source": [
    "bin_number = 0\n",
    "#file_name = './geographic/SHORTEST PATH/austin-shortest_path-' + str(bin_number) + '-CF-c.csv'\n",
    "#file_name = './geographic/SHORTEST PATH/austin-shortest_path-' + str(bin_number) + '-FT-c_gpu.csv'\n",
    "#file_name = './geographic/SHORTEST PATH/austin-shortest_path-zoning-FT_gpu.csv'\n",
    "#file_name = './Atlanta/Shortest Path/atlanta-shortest_path-zoning-FT_gpu.csv'\n",
    "#file_name = './Boston/Shortest Path/boston-shortest_path-zoning-FT_gpu.csv'\n",
    "#file_name = './Boston/Shortest Path/boston-neighborhood-shortest_path-zoning-FT_gpu.csv'\n",
    "file_name = './Atlanta/Shortest Path/atlanta-neighborhood-shortest_path-zoning-FT_gpu.csv'\n",
    "\n",
    "\n",
    "print(\"loading file:\", file_name)\n",
    "all_pois_path = []\n",
    "with open(file_name, newline='') as f:\n",
    "    csv_reader = csv.reader(f)\n",
    "    for row in csv_reader:\n",
    "        if len(row) > 1:\n",
    "            all_pois_path.append(row)\n",
    "        \n",
    "print(len(all_pois_path))"
   ]
  },
  {
   "cell_type": "code",
   "execution_count": 28,
   "metadata": {},
   "outputs": [],
   "source": [
    "#REMOVENDO DUPLICADAS\n",
    "import itertools\n",
    "all_pois_path = list(k for k,_ in itertools.groupby(all_pois_path))"
   ]
  },
  {
   "cell_type": "code",
   "execution_count": 29,
   "metadata": {},
   "outputs": [
    {
     "data": {
      "text/plain": [
       "1347"
      ]
     },
     "execution_count": 29,
     "metadata": {},
     "output_type": "execute_result"
    }
   ],
   "source": [
    "len(all_pois_path)"
   ]
  },
  {
   "cell_type": "code",
   "execution_count": 30,
   "metadata": {},
   "outputs": [
    {
     "name": "stdout",
     "output_type": "stream",
     "text": [
      "comprimento máximo: 841\n",
      "comprimento mínimo: 2\n",
      "média de comprimento: 49.922048997772826\n",
      "mediana do comprimento: 15.0\n",
      "quantidade de caminhos acima de 90: 124 de 1347\n"
     ]
    }
   ],
   "source": [
    "avg = 0\n",
    "max_path = -np.inf\n",
    "min_path = np.inf\n",
    "path_sizes = []\n",
    "counter_90 = 0\n",
    "for path in all_pois_path:\n",
    "    path_sizes.append(len(path))\n",
    "    if(len(path) >= 90):\n",
    "        counter_90 += 1\n",
    "    if (len(path) > max_path):\n",
    "        max_path = len(path)\n",
    "    elif(len(path) < min_path):\n",
    "        min_path = len(path)\n",
    "    avg += len(path)\n",
    "\n",
    "print('comprimento máximo:', max_path)\n",
    "print('comprimento mínimo:', min_path)\n",
    "print('média de comprimento:', avg/len(all_pois_path))\n",
    "print('mediana do comprimento:', np.median(path_sizes))\n",
    "print('quantidade de caminhos acima de 90:', counter_90, 'de', len(all_pois_path))"
   ]
  },
  {
   "cell_type": "code",
   "execution_count": 31,
   "metadata": {},
   "outputs": [
    {
     "data": {
      "image/png": "[encoded data removed]",
      "text/plain": [
       "<Figure size 1080x360 with 1 Axes>"
      ]
     },
     "metadata": {
      "needs_background": "light"
     },
     "output_type": "display_data"
    }
   ],
   "source": [
    "import seaborn as sns\n",
    "import matplotlib.pyplot as plt\n",
    "\n",
    "# Ajustar o tamanho da figura (aumentar o comprimento)\n",
    "plt.figure(figsize=(15, 5))  # Largura 10, altura 5\n",
    "\n",
    "# Criar o boxplot na horizontal\n",
    "plt.boxplot(path_sizes, vert=False)\n",
    "plt.ylabel(\"Tamanhos\")\n",
    "\n",
    "min_val, max_val = min(path_sizes), max(path_sizes)\n",
    "plt.xticks(np.arange(min_val - 1, max_val + 2, 50))  # Ticks de 1 em 1\n",
    "\n",
    "\n",
    "# Exibir o gráfico\n",
    "plt.show()"
   ]
  },
  {
   "cell_type": "markdown",
   "metadata": {},
   "source": [
    "# Geração das Sentenças"
   ]
  },
  {
   "cell_type": "code",
   "execution_count": 11,
   "metadata": {},
   "outputs": [
    {
     "name": "stderr",
     "output_type": "stream",
     "text": [
      "100%|██████████| 22399/22399 [20:30<00:00, 18.20it/s]\n",
      "100%|██████████| 22399/22399 [20:25<00:00, 18.28it/s]\n",
      "100%|██████████| 22399/22399 [20:33<00:00, 18.16it/s]\n",
      "100%|██████████| 22399/22399 [20:29<00:00, 18.22it/s]\n",
      " 65%|██████▍   | 14473/22399 [13:19<08:16, 15.97it/s] IOPub message rate exceeded.\n",
      "The notebook server will temporarily stop sending output\n",
      "to the client in order to avoid crashing it.\n",
      "To change this limit, set the config variable\n",
      "`--NotebookApp.iopub_msg_rate_limit`.\n",
      "\n",
      "Current values:\n",
      "NotebookApp.iopub_msg_rate_limit=1000.0 (msgs/sec)\n",
      "NotebookApp.rate_limit_window=3.0 (secs)\n",
      "\n",
      " 72%|███████▏  | 16060/22399 [14:46<08:43, 12.10it/s]IOPub message rate exceeded.\n",
      "The notebook server will temporarily stop sending output\n",
      "to the client in order to avoid crashing it.\n",
      "To change this limit, set the config variable\n",
      "`--NotebookApp.iopub_msg_rate_limit`.\n",
      "\n",
      "Current values:\n",
      "NotebookApp.iopub_msg_rate_limit=1000.0 (msgs/sec)\n",
      "NotebookApp.rate_limit_window=3.0 (secs)\n",
      "\n"
     ]
    }
   ],
   "source": [
    "#Escolhe aleatoreamente um tipo para compor a sentença\n",
    "for rnd in range(0, 12):\n",
    "\n",
    "    with SSHTunnelForwarder(\n",
    "    ('150.165.15.171', 23456),\n",
    "    #ssh_private_key=\"</path/to/private/ssh/key>\",\n",
    "    ### in my case, I used a password instead of a private key\n",
    "    ssh_username=\"salatiel\",\n",
    "    ssh_password=\"Salatiel@Lacina123\", \n",
    "    remote_bind_address=('localhost', 5432)) as server:\n",
    "\n",
    "        server.start()\n",
    "        #print(\"server connected\")\n",
    "\n",
    "        params = {'database': 'austin_test',\n",
    "               'user': 'salatiel',\n",
    "               'password': 'root',\n",
    "               'host': 'localhost',\n",
    "               'port': server.local_bind_port\n",
    "        }\n",
    "\n",
    "        connection = psycopg2.connect(**params)\n",
    "\n",
    "        all_sentences = []\n",
    "\n",
    "        for poi_path in tqdm(all_pois_path):\n",
    "        #for poi_path in all_pois_path:\n",
    "            poi_path_sentence = [] \n",
    "            for poi_id in poi_path: \n",
    "                #Obtendo informações de categorias e checkin do poi central\n",
    "                #[business_id, checkin, category]\n",
    "                poi_information = getPOIInformation(connection, poi_id)\n",
    "\n",
    "                if (len(poi_information) > 0):\n",
    "\n",
    "                    columns = list(dict(poi_information[0]).keys())\n",
    "                    poi_information = pd.DataFrame(poi_information, columns = columns)\n",
    "\n",
    "                    type_by_level = []\n",
    "\n",
    "                    for level in range(5):\n",
    "\n",
    "                        level_poi_information = poi_information[poi_information['level'] == level]\n",
    "                        poi_types = list(level_poi_information['name'])\n",
    "                        if (len(poi_types) > 0):\n",
    "                            poi_type = poi_types[random.randint(0, len(poi_types)-1)]\n",
    "                            type_by_level.append(poi_type)\n",
    "\n",
    "                    #Selecionar aleatoreamente entre todos os tipos\n",
    "                    selected_type = type_by_level[random.randint(0, len(type_by_level)-1)]\n",
    "                    #print(type_by_level, selected_type)\n",
    "                    poi_path_sentence.append(selected_type)\n",
    "\n",
    "\n",
    "            all_sentences.append(poi_path_sentence)\n",
    "            \n",
    "    #file_name = './geographic/SHORTEST PATH/austin-shortest_path_corpus-' + str(bin_number) + '-rnd'+str(rnd)+'-CF-c.csv'\n",
    "    file_name = './geographic/SHORTEST PATH/austin-shortest_path_corpus-' + str(bin_number) + '-rnd'+str(rnd)+'-FT-c.csv'\n",
    "\n",
    "    csv_file_02 = open(file_name, \"w\", newline='')\n",
    "    writer_path = csv.writer(csv_file_02, delimiter=',')\n",
    "    for st in all_sentences:\n",
    "        writer_path.writerow(st)"
   ]
  },
  {
   "cell_type": "markdown",
   "metadata": {},
   "source": [
    "# Execução em Paralelo"
   ]
  },
  {
   "cell_type": "code",
   "execution_count": 7,
   "metadata": {},
   "outputs": [
    {
     "name": "stdout",
     "output_type": "stream",
     "text": [
      "(22399, 7)\n",
      "(22399, 7)\n"
     ]
    },
    {
     "data": {
      "text/html": [
       "<div>\n",
       "<style scoped>\n",
       "    .dataframe tbody tr th:only-of-type {\n",
       "        vertical-align: middle;\n",
       "    }\n",
       "\n",
       "    .dataframe tbody tr th {\n",
       "        vertical-align: top;\n",
       "    }\n",
       "\n",
       "    .dataframe thead th {\n",
       "        text-align: right;\n",
       "    }\n",
       "</style>\n",
       "<table border=\"1\" class=\"dataframe\">\n",
       "  <thead>\n",
       "    <tr style=\"text-align: right;\">\n",
       "      <th></th>\n",
       "      <th>business_id</th>\n",
       "      <th>city</th>\n",
       "      <th>state</th>\n",
       "      <th>latitude</th>\n",
       "      <th>longitude</th>\n",
       "      <th>categories</th>\n",
       "      <th>checkin_count</th>\n",
       "    </tr>\n",
       "  </thead>\n",
       "  <tbody>\n",
       "    <tr>\n",
       "      <th>0</th>\n",
       "      <td>N3_Gs3DnX4k9SgpwJxdEfw</td>\n",
       "      <td>Austin</td>\n",
       "      <td>TX</td>\n",
       "      <td>30.346169</td>\n",
       "      <td>-97.711458</td>\n",
       "      <td>Shopping, Jewelry Repair, Appraisal Services, ...</td>\n",
       "      <td>14</td>\n",
       "    </tr>\n",
       "    <tr>\n",
       "      <th>1</th>\n",
       "      <td>tXvdYGvlEceDljN8gt2_3Q</td>\n",
       "      <td>Austin</td>\n",
       "      <td>TX</td>\n",
       "      <td>30.172706</td>\n",
       "      <td>-97.799920</td>\n",
       "      <td>Barbers, Beauty &amp; Spas</td>\n",
       "      <td>1</td>\n",
       "    </tr>\n",
       "    <tr>\n",
       "      <th>2</th>\n",
       "      <td>nTIhpR7MhsALPwg_Hh14EA</td>\n",
       "      <td>Austin</td>\n",
       "      <td>TX</td>\n",
       "      <td>30.326377</td>\n",
       "      <td>-97.704543</td>\n",
       "      <td>Hotels, Hotels &amp; Travel, Event Planning &amp; Serv...</td>\n",
       "      <td>475</td>\n",
       "    </tr>\n",
       "    <tr>\n",
       "      <th>3</th>\n",
       "      <td>8XyEpVdAO0o6iVkVxkWosQ</td>\n",
       "      <td>Austin</td>\n",
       "      <td>TX</td>\n",
       "      <td>30.246465</td>\n",
       "      <td>-97.778738</td>\n",
       "      <td>Home Services, Real Estate, Property Management</td>\n",
       "      <td>0</td>\n",
       "    </tr>\n",
       "    <tr>\n",
       "      <th>4</th>\n",
       "      <td>NVfOn7TdnHbaGH97CVB_Qg</td>\n",
       "      <td>Austin</td>\n",
       "      <td>TX</td>\n",
       "      <td>30.244902</td>\n",
       "      <td>-97.857409</td>\n",
       "      <td>Chiropractors, Health &amp; Medical</td>\n",
       "      <td>33</td>\n",
       "    </tr>\n",
       "  </tbody>\n",
       "</table>\n",
       "</div>"
      ],
      "text/plain": [
       "              business_id    city state   latitude  longitude  \\\n",
       "0  N3_Gs3DnX4k9SgpwJxdEfw  Austin    TX  30.346169 -97.711458   \n",
       "1  tXvdYGvlEceDljN8gt2_3Q  Austin    TX  30.172706 -97.799920   \n",
       "2  nTIhpR7MhsALPwg_Hh14EA  Austin    TX  30.326377 -97.704543   \n",
       "3  8XyEpVdAO0o6iVkVxkWosQ  Austin    TX  30.246465 -97.778738   \n",
       "4  NVfOn7TdnHbaGH97CVB_Qg  Austin    TX  30.244902 -97.857409   \n",
       "\n",
       "                                          categories  checkin_count  \n",
       "0  Shopping, Jewelry Repair, Appraisal Services, ...             14  \n",
       "1                             Barbers, Beauty & Spas              1  \n",
       "2  Hotels, Hotels & Travel, Event Planning & Serv...            475  \n",
       "3    Home Services, Real Estate, Property Management              0  \n",
       "4                    Chiropractors, Health & Medical             33  "
      ]
     },
     "execution_count": 7,
     "metadata": {},
     "output_type": "execute_result"
    }
   ],
   "source": [
    "#Quantidade de tuplas de vizinhos nos dados do yelp (center, context) considerando d = 100m\n",
    "pois_file_name = './austin-ml-updated.csv'\n",
    "poi_df = pd.read_csv(pois_file_name)\n",
    "print(poi_df.shape)\n",
    "poi_df = poi_df.dropna()\n",
    "print(poi_df.shape)\n",
    "poi_df.head()"
   ]
  },
  {
   "cell_type": "code",
   "execution_count": 33,
   "metadata": {},
   "outputs": [
    {
     "name": "stdout",
     "output_type": "stream",
     "text": [
      "Number of processors:  20\n"
     ]
    },
    {
     "name": "stderr",
     "output_type": "stream",
     "text": [
      "100%|██████████| 1347/1347 [46:31<00:00,  2.07s/it]  \n",
      "100%|██████████| 1347/1347 [50:30<00:00,  2.25s/it]\n",
      "100%|██████████| 1347/1347 [54:01<00:00,  2.41s/it]\n",
      "100%|██████████| 1347/1347 [57:47<00:00,  2.57s/it]\n"
     ]
    }
   ],
   "source": [
    "import multiprocessing as mp\n",
    "print(\"Number of processors: \", mp.cpu_count())\n",
    "\n",
    "# Step 1: Init multiprocessing.Pool()\n",
    "pool = mp.Pool(int(mp.cpu_count()))\n",
    "\n",
    "\n",
    "# Step 2: `pool.apply` the `howmany_within_range()`\n",
    "\n",
    "# bins = [6, 7, 8]\n",
    "# size = 10\n",
    "\n",
    "#pool.starmap(generate_path_corpus_tg_cf, [(poi_df, n, size) for n in bins])\n",
    "\n",
    "#size = [10, 20, 30, 40, 50]\n",
    "size = [60, 70, 80, 90]\n",
    "\n",
    "\n",
    "pool.starmap(generate_path_corpus_zoning_all, [(all_pois_path, sz) for sz in size])\n",
    "\n",
    "\n",
    "# Step 3: Don't forget to close\n",
    "pool.close()\n",
    "\n",
    "#Para point\n",
    "#calculateBinOSMPoints_Disco(df, n)"
   ]
  },
  {
   "cell_type": "code",
   "execution_count": 42,
   "metadata": {},
   "outputs": [
    {
     "data": {
      "text/plain": [
       "'9_BYb_jBVb92bhQnRmCOjQ'"
      ]
     },
     "execution_count": 42,
     "metadata": {},
     "output_type": "execute_result"
    }
   ],
   "source": [
    "all_pois_path[7][574]"
   ]
  },
  {
   "cell_type": "code",
   "execution_count": null,
   "metadata": {},
   "outputs": [],
   "source": []
  }
 ],
 "metadata": {
  "kernelspec": {
   "display_name": "Python 3 (ipykernel)",
   "language": "python",
   "name": "python3"
  },
  "language_info": {
   "codemirror_mode": {
    "name": "ipython",
    "version": 3
   },
   "file_extension": ".py",
   "mimetype": "text/x-python",
   "name": "python",
   "nbconvert_exporter": "python",
   "pygments_lexer": "ipython3",
   "version": "3.10.12"
  }
 },
 "nbformat": 4,
 "nbformat_minor": 4
}
