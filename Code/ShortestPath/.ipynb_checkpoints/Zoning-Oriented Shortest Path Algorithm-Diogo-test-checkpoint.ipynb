{
 "cells": [
  {
   "cell_type": "markdown",
   "metadata": {},
   "source": [
    "# Dependências"
   ]
  },
  {
   "cell_type": "code",
   "execution_count": null,
   "metadata": {},
   "outputs": [],
   "source": [
    "#!pip install numba==0.49.1\n",
    "!pip install numba==0.56.4\n",
    "#!pip install numba\n",
    "#!pip uninstall numba -y\n",
    "#!pip install llvmlite"
   ]
  },
  {
   "cell_type": "code",
   "execution_count": null,
   "metadata": {},
   "outputs": [],
   "source": [
    "#!pip install llvmlite --ignore-installed"
   ]
  },
  {
   "cell_type": "code",
   "execution_count": null,
   "metadata": {},
   "outputs": [],
   "source": [
    "#!pip install gensim==3.6.0\n",
    "#!pip install binary gensim==3.6.0"
   ]
  },
  {
   "cell_type": "code",
   "execution_count": null,
   "metadata": {},
   "outputs": [],
   "source": [
    "#!pip3 uninstall numpy -y"
   ]
  },
  {
   "cell_type": "code",
   "execution_count": null,
   "metadata": {},
   "outputs": [],
   "source": [
    "#!pip install numpy"
   ]
  },
  {
   "cell_type": "markdown",
   "metadata": {},
   "source": [
    "# Bibliotecas"
   ]
  },
  {
   "cell_type": "code",
   "execution_count": 1,
   "metadata": {},
   "outputs": [],
   "source": [
    "import pandas as pd\n",
    "import numpy as np\n",
    "import psycopg2 as postgres\n",
    "import psycopg2.extras\n",
    "import math\n",
    "import csv\n",
    "import random\n",
    "\n",
    "from gensim.models import Word2Vec\n",
    "from tqdm import tqdm\n",
    "#from sshtunnel import SSHTunnelForwarder\n",
    "from tqdm import tqdm\n",
    "\n",
    "import numba\n",
    "from numba import njit\n",
    "#from numba import cuda"
   ]
  },
  {
   "cell_type": "markdown",
   "metadata": {},
   "source": [
    "# Funções"
   ]
  },
  {
   "cell_type": "markdown",
   "metadata": {},
   "source": [
    "## Utilidades"
   ]
  },
  {
   "cell_type": "code",
   "execution_count": 35,
   "metadata": {},
   "outputs": [],
   "source": [
    "def executeQuery(conn, sql):\n",
    "    record = None\n",
    "    try:\n",
    "        #print(sql)\n",
    "        cur = conn.cursor(cursor_factory = psycopg2.extras.RealDictCursor)\n",
    "        cur.execute(sql)\n",
    "        record = cur.fetchall()\n",
    "        cur.close()\n",
    "    except postgres.Error as e:\n",
    "        print(e)\n",
    "        cur.execute(\"ROLLBACK\")\n",
    "        cur.close()\n",
    "    return record"
   ]
  },
  {
   "cell_type": "code",
   "execution_count": 36,
   "metadata": {},
   "outputs": [],
   "source": [
    "def executeInsert(conn, sql):\n",
    "    sucess = False\n",
    "            \n",
    "    try:\n",
    "        #print(sql)\n",
    "        cur = conn.cursor()\n",
    "        cur.execute(sql)\n",
    "        conn.commit()\n",
    "        cur.close()\n",
    "        sucess = True\n",
    "    except postgres.Error as e:\n",
    "        print(e)\n",
    "        cur.execute(\"ROLLBACK\")\n",
    "        cur.close()\n",
    "\n",
    "    return sucess"
   ]
  },
  {
   "cell_type": "code",
   "execution_count": 37,
   "metadata": {},
   "outputs": [],
   "source": [
    "#Recebe um id e retorna as categorias e checkin do lugar\n",
    "def getPOIInformation(conn, business_id):\n",
    "    \n",
    "    sql = \"\"\"\n",
    "        SELECT id, checkin_count, name, level FROM pois_information WHERE id  = \\'\"\"\"+str(business_id)+ \"\"\"\\'\n",
    "    ;\"\"\"\n",
    "\n",
    "    result = executeQuery(conn, sql)\n",
    "\n",
    "    return result"
   ]
  },
  {
   "cell_type": "code",
   "execution_count": 38,
   "metadata": {},
   "outputs": [],
   "source": [
    "#Recebe um id e retorna as categorias e checkin do lugar\n",
    "def getZoningInformation(conn, object_id):\n",
    "    \n",
    "    sql = \"\"\"\n",
    "        SELECT id FROM zoning_1618_pois WHERE objectid  = \\'\"\"\"+str(object_id)+ \"\"\"\\'\n",
    "    ;\"\"\"\n",
    "\n",
    "    result = executeQuery(conn, sql)\n",
    "\n",
    "    return result"
   ]
  },
  {
   "cell_type": "code",
   "execution_count": 39,
   "metadata": {},
   "outputs": [],
   "source": [
    "#Recebe um id e retorna as categorias e checkin do lugar\n",
    "def getZones(conn, object_id):\n",
    "    \n",
    "    sql = \"\"\"\n",
    "        SELECT objectid FROM zoning_1618_pois\n",
    "    ;\"\"\"\n",
    "\n",
    "    result = executeQuery(conn, sql)\n",
    "\n",
    "    return result"
   ]
  },
  {
   "cell_type": "code",
   "execution_count": 40,
   "metadata": {},
   "outputs": [],
   "source": [
    "#Encontra todos os pontos do bin centrado em um POI trazendo suas informações (categorias e checkin)\n",
    "def getBinPOIsInformation(conn, business_id, bin_number):\n",
    "\n",
    "    result = None\n",
    "\n",
    "    sql = \"\"\"\n",
    "        SELECT fk_poi_id_context as id, name, level, checkin_count, distance_m \n",
    "        FROM bins_pois_information \n",
    "        WHERE fk_poi_id_center = \\'\"\"\"+str(business_id)+\"\"\"\\' AND fk_bin_number = \"\"\"+str(bin_number)+\"\"\" order by distance_m asc;\"\"\"\n",
    "\n",
    "    result = executeQuery(conn, sql)\n",
    "\n",
    "    return result"
   ]
  },
  {
   "cell_type": "code",
   "execution_count": 41,
   "metadata": {},
   "outputs": [],
   "source": [
    "def getPOIsDistance(conn, center_poi_id, context_poi_id):\n",
    "    \n",
    "    result = None\n",
    "\n",
    "    sql = \"\"\"\n",
    "        SELECT distance_m\n",
    "        FROM has_context_poi \n",
    "        WHERE fk_poi_id_center = \\'\"\"\"+str(center_poi_id)+\"\"\"\\' AND fk_poi_id_context = \"\"\"+str(context_poi_id)+\"\"\";\"\"\"\n",
    "\n",
    "    result = executeQuery(conn, sql)\n",
    "\n",
    "    return result"
   ]
  },
  {
   "cell_type": "code",
   "execution_count": 42,
   "metadata": {},
   "outputs": [],
   "source": [
    "#Recebe um id e retorna as categorias e checkin do lugar\n",
    "def getAllPOIInformation(conn):\n",
    "    \n",
    "    sql = \"\"\"\n",
    "        SELECT id as business_id, latitude, longitude, categories, checkin_count FROM poi;\"\"\"\n",
    "\n",
    "    result = executeQuery(conn, sql)\n",
    "\n",
    "    return result"
   ]
  },
  {
   "cell_type": "code",
   "execution_count": 43,
   "metadata": {},
   "outputs": [],
   "source": [
    "#LENTO\n",
    "def calculate_L(POI_path, df):\n",
    "    dst = 0\n",
    "    segment = []\n",
    "    for poi_id in POI_path:\n",
    "        #print(poi_id)\n",
    "        segment.append(poi_id)\n",
    "        if (len(segment) > 2):\n",
    "            segment.pop(0)\n",
    "\n",
    "        if (len(segment) == 2):\n",
    "\n",
    "            p_idx = POI_path[-2]\n",
    "            p_idx = df.query(\"business_id=='\"+str(p_idx)+\"'\").index[0]\n",
    "            n_idx = POI_path[-1]\n",
    "            n_idx = df.query(\"business_id=='\"+str(n_idx)+\"'\").index[0]\n",
    "        \n",
    "            dst += distances_matrix[p_idx][n_idx]\n",
    "            \n",
    "    return dst"
   ]
  },
  {
   "cell_type": "code",
   "execution_count": 44,
   "metadata": {},
   "outputs": [],
   "source": [
    "#Meio LENTO\n",
    "def calculate_L_(POI_path, df):\n",
    "    dst = 0\n",
    "    \n",
    "    for i in range(len(POI_path)-1):\n",
    "\n",
    "        p_idx = POI_path[i]\n",
    "        p_idx = df.query(\"business_id=='\"+str(p_idx)+\"'\").index[0]\n",
    "        n_idx = POI_path[i+1]\n",
    "        n_idx = df.query(\"business_id=='\"+str(n_idx)+\"'\").index[0]\n",
    "\n",
    "        dst += distances_matrix[p_idx][n_idx]\n",
    "            \n",
    "    return dst"
   ]
  },
  {
   "cell_type": "code",
   "execution_count": 45,
   "metadata": {},
   "outputs": [],
   "source": [
    "#Mais Rápido\n",
    "def calculate_Li_(POI_path, df, i, L):\n",
    "\n",
    "    p_idx = POI_path[i-1]\n",
    "    p_idx = df.query(\"business_id=='\"+str(p_idx)+\"'\").index[0]\n",
    "\n",
    "    c_idx = POI_path[i]\n",
    "    c_idx = df.query(\"business_id=='\"+str(c_idx)+\"'\").index[0]\n",
    "\n",
    "    n_idx = POI_path[i+1]\n",
    "    n_idx = df.query(\"business_id=='\"+str(n_idx)+\"'\").index[0]\n",
    "\n",
    "    #Retirando antigo segmento\n",
    "    segment_distance = L - distances_matrix[p_idx][n_idx]\n",
    "    \n",
    "    #Tamanho do novo segmento\n",
    "    dst = segment_distance + distances_matrix[p_idx][c_idx] + distances_matrix[c_idx][n_idx]\n",
    "            \n",
    "    return dst"
   ]
  },
  {
   "cell_type": "code",
   "execution_count": 46,
   "metadata": {},
   "outputs": [],
   "source": [
    "#Essa versão não utilizada a otimização do Numba\n",
    "def generate_segment(W, L, POI_path):\n",
    "    \n",
    "    final_path = [pt for pt in POI_path]\n",
    "\n",
    "    for wp in W:\n",
    "\n",
    "        shortest_path = np.inf\n",
    "        optimal_list = None\n",
    "\n",
    "        #Testar WP em todas as posições entre 1 e len(list)-2\n",
    "        for j in range(1, len(final_path)):\n",
    "            \n",
    "            local_list = [fp for fp in final_path]\n",
    "            \n",
    "            #Testar WP em todas as posições entre 1 e len(list)-2\n",
    "            local_list.insert(j, wp)\n",
    "            \n",
    "\n",
    "            p_idx = local_list[j-1] \n",
    "            c_idx = local_list[j]\n",
    "            n_idx = local_list[j+1]\n",
    "\n",
    "            #Retirando antigo segmento\n",
    "            segment_distance = L - distances_matrix[p_idx][n_idx]\n",
    "\n",
    "            #Tamanho do novo segmento\n",
    "            dst = segment_distance + distances_matrix[p_idx][c_idx] + distances_matrix[c_idx][n_idx]\n",
    "\n",
    "            if (dst < shortest_path):\n",
    "                shortest_path = dst\n",
    "                optimal_list = [ll for ll in local_list] \n",
    "            \n",
    "        final_path = [ol for ol in optimal_list] \n",
    "        L = shortest_path\n",
    "    \n",
    "    return final_path"
   ]
  },
  {
   "cell_type": "code",
   "execution_count": 47,
   "metadata": {},
   "outputs": [],
   "source": [
    "# function optimized to run on gpu \n",
    "#@jit(target_backend='cuda')\n",
    "#@numba.njit\n",
    "#from numba.typed import List\n",
    "\n",
    "@njit\n",
    "#@cuda.jit\n",
    "def generate_segment_numba(W, L, POI_path):\n",
    "    \n",
    "    final_path = [pt for pt in POI_path]\n",
    "\n",
    "    for wp in W:\n",
    "\n",
    "        shortest_path = np.inf\n",
    "        optimal_list = None\n",
    "\n",
    "        #Testar WP em todas as posições entre 1 e len(list)-2\n",
    "        for j in range(1, len(final_path)):\n",
    "            \n",
    "            local_list = [fp for fp in final_path]\n",
    "            \n",
    "            #Testar WP em todas as posições entre 1 e len(list)-2\n",
    "            local_list.insert(j, wp)\n",
    "            \n",
    "\n",
    "            p_idx = local_list[j-1] \n",
    "            c_idx = local_list[j]\n",
    "            n_idx = local_list[j+1]\n",
    "\n",
    "            #Retirando antigo segmento\n",
    "            segment_distance = L - distances_matrix[p_idx][n_idx]\n",
    "\n",
    "            #Tamanho do novo segmento\n",
    "            dst = segment_distance + distances_matrix[p_idx][c_idx] + distances_matrix[c_idx][n_idx]\n",
    "\n",
    "            if (dst < shortest_path):\n",
    "                shortest_path = dst\n",
    "                optimal_list = [ll for ll in local_list] \n",
    "            \n",
    "        final_path = [ol for ol in optimal_list] \n",
    "        L = shortest_path\n",
    "    \n",
    "    return final_path"
   ]
  },
  {
   "cell_type": "code",
   "execution_count": 48,
   "metadata": {},
   "outputs": [
    {
     "name": "stdout",
     "output_type": "stream",
     "text": [
      "without GPU: 0.06260432198178023\n",
      "with GPU: 4.991320410976186\n"
     ]
    }
   ],
   "source": [
    "from timeit import default_timer as timer    \n",
    "\n",
    "# normal function to run on cpu \n",
    "def func(a):                                 \n",
    "    for i in range(100000): \n",
    "        a[i]+= 1      \n",
    "\n",
    "# function optimized to run on gpu  \n",
    "#@jit(nopython=True)\n",
    "#@cuda.jit\n",
    "#(target =\"cuda\")    \n",
    "@njit\n",
    "def func2(a): \n",
    "    for j in range(100000):\n",
    "        for i in range(100000): \n",
    "            a[i]+= 1\n",
    "#if __name__==\"__main__\": \n",
    "\n",
    "n = 100000                           \n",
    "a = np.ones(n, dtype = np.float64) \n",
    "#b = np.ones(n, dtype = np.float32) \n",
    "\n",
    "start = timer() \n",
    "func(a) \n",
    "print(\"without GPU:\", timer()-start)     \n",
    "\n",
    "start = timer() \n",
    "func2(a) \n",
    "print(\"with GPU:\", timer()-start) "
   ]
  },
  {
   "cell_type": "markdown",
   "metadata": {},
   "source": [
    "# Document Corpus"
   ]
  },
  {
   "cell_type": "code",
   "execution_count": 30,
   "metadata": {},
   "outputs": [],
   "source": [
    "df_NYC = pd.read_csv(\"../dataset/NYC/NYC_train.csv\")\n",
    "mvp = df_NYC[\"POI_catid\"].value_counts()"
   ]
  },
  {
   "cell_type": "code",
   "execution_count": 31,
   "metadata": {},
   "outputs": [
    {
     "data": {
      "text/plain": [
       "4bf58dd8d48988d103941735    8010\n",
       "4bf58dd8d48988d1fd931735    6234\n",
       "4bf58dd8d48988d124941735    4149\n",
       "4bf58dd8d48988d129951735    3300\n",
       "4bf58dd8d48988d1e0931735    2808\n",
       "                            ... \n",
       "4bf58dd8d48988d1f5931735       1\n",
       "503289d391d4c4b30a586d6a       1\n",
       "4bf58dd8d48988d116951735       1\n",
       "4bf58dd8d48988d168941735       1\n",
       "4e52adeebd41615f56317744       1\n",
       "Name: POI_catid, Length: 318, dtype: int64"
      ]
     },
     "execution_count": 31,
     "metadata": {},
     "output_type": "execute_result"
    }
   ],
   "source": [
    "mvp"
   ]
  },
  {
   "cell_type": "code",
   "execution_count": 33,
   "metadata": {},
   "outputs": [
    {
     "data": {
      "text/plain": [
       "[2,\n",
       " 2,\n",
       " 2,\n",
       " 2,\n",
       " 2,\n",
       " 2,\n",
       " 2,\n",
       " 2,\n",
       " 2,\n",
       " 2,\n",
       " 2,\n",
       " 2,\n",
       " 2,\n",
       " 2,\n",
       " 2,\n",
       " 2,\n",
       " 2,\n",
       " 2,\n",
       " 2,\n",
       " 2,\n",
       " 2,\n",
       " 2,\n",
       " 2,\n",
       " 2,\n",
       " 2,\n",
       " 2,\n",
       " 2,\n",
       " 2,\n",
       " 2,\n",
       " 2,\n",
       " 2,\n",
       " 2,\n",
       " 2,\n",
       " 2,\n",
       " 2,\n",
       " 2,\n",
       " 2,\n",
       " 2,\n",
       " 2,\n",
       " 2,\n",
       " 2,\n",
       " 2,\n",
       " 2,\n",
       " 2,\n",
       " 2,\n",
       " 2,\n",
       " 2,\n",
       " 2,\n",
       " 2,\n",
       " 2,\n",
       " 2,\n",
       " 2,\n",
       " 2,\n",
       " 2,\n",
       " 2,\n",
       " 2]"
      ]
     },
     "execution_count": 33,
     "metadata": {},
     "output_type": "execute_result"
    }
   ],
   "source": [
    "pois_idx"
   ]
  },
  {
   "cell_type": "code",
   "execution_count": 53,
   "metadata": {},
   "outputs": [],
   "source": [
    "# TESTE LOCAL\n",
    "\n",
    "object_id = \"4bf58dd8d48988d103941735\"\t\n",
    "df = df_NYC\n",
    "\n",
    "# print('processing POI:', poi_id)\n",
    "POI_path_bi = []\n",
    "POI_path_fl = []\n",
    "\n",
    "# print('processing:', object_id)\n",
    "\n",
    "# Obtendo informações de categorias e checkin do poi central\n",
    "# [business_id, checkin, category]\n",
    "# poi_information = getZoningInformation(connection, object_id)\n",
    "poi_information = poi_df[poi_df['POI_id'] == object_id]\n",
    "poi_information.head()\n",
    "\n",
    "# Executa o processo se há dados\n",
    "# Um caminho preciso do no mínimo dois POIs\n",
    "if len(poi_information) >= 2:\n",
    "\n",
    "    # Restringindo as possibilidades de tipos\n",
    "    columns = list(dict(poi_information.iloc[0]).keys())\n",
    "    poi_information = pd.DataFrame(poi_information, columns=columns)\n",
    "\n",
    "    # Shortest Path construction\n",
    "    pois_idx = []\n",
    "    for i, cp_idx in poi_information.iterrows():\n",
    "        pois_idx.append(df.query(\"POI_id=='\" + str(cp_idx['POI_id']) + \"'\").index[0])\n",
    "\n",
    "    # Encontrar Ps e Pe\n",
    "    max_distances = []\n",
    "    for poi_idx_01 in pois_idx:\n",
    "        for poi_idx_02 in pois_idx:\n",
    "            if poi_idx_01 != poi_idx_02:\n",
    "                max_distances.append((poi_idx_01, poi_idx_02, distances_matrix[poi_idx_01][poi_idx_02]))\n",
    "\n",
    "    furthest_pair = max_distances[0]\n",
    "    for md in max_distances:\n",
    "        if md[2] > furthest_pair[2]:\n",
    "            furthest_pair = md\n",
    "\n",
    "    POI_path = [furthest_pair[0], furthest_pair[1]]\n",
    "    L = furthest_pair[2]\n",
    "\n",
    "    # A is all POIs\n",
    "    W = set(pois_idx).difference(set(POI_path))\n",
    "\n",
    "    # Ajuste das variáveis para a função generate_segment\n",
    "    W = list(W)\n",
    "\n",
    "    # Adicionar o POI de A que tem o menor tamanho de caminho em L e atualizar W\n",
    "    if len(W) > 0:\n",
    "\n",
    "        # Não otimizado\n",
    "        # POI_path_fl = generate_segment(W, L, POI_path)\n",
    "\n",
    "        # Otimizado pelo numba\n",
    "        POI_path_fl = generate_segment_numba(W, L, POI_path)\n",
    "    else:\n",
    "\n",
    "        POI_path_fl = POI_path.copy()\n",
    "\n",
    "    POI_path_bi = [df.iloc[pp]['POI_id'] for pp in POI_path_fl]"
   ]
  },
  {
   "cell_type": "code",
   "execution_count": 54,
   "metadata": {},
   "outputs": [
    {
     "data": {
      "text/plain": [
       "[]"
      ]
     },
     "execution_count": 54,
     "metadata": {},
     "output_type": "execute_result"
    }
   ],
   "source": [
    "#RESULTADO\n",
    "POI_path_bi"
   ]
  },
  {
   "cell_type": "code",
   "execution_count": null,
   "metadata": {},
   "outputs": [],
   "source": [
    "#TIPO DE DADO DO POI_INFORMATION\n",
    "poi_information"
   ]
  },
  {
   "cell_type": "code",
   "execution_count": null,
   "metadata": {},
   "outputs": [],
   "source": [
    "#DATAFRAME DE POI\n",
    "poi_df = poi_df[['business_id', 'latitude', 'longitude']]\n",
    "poi_df.head()"
   ]
  },
  {
   "cell_type": "markdown",
   "metadata": {},
   "source": [
    "# Carregando dados de POIs"
   ]
  },
  {
   "cell_type": "code",
   "execution_count": null,
   "metadata": {},
   "outputs": [],
   "source": [
    "with SSHTunnelForwarder(\n",
    "    ('150.165.15.171', 23456),\n",
    "    #ssh_private_key=\"</path/to/private/ssh/key>\",\n",
    "    ### in my case, I used a password instead of a private key\n",
    "    ssh_username=\"salatiel\",\n",
    "    ssh_password=\"Salatiel@Lacina123\",\n",
    "    remote_bind_address=('localhost', 5432)) as server:\n",
    "\n",
    "        server.start()\n",
    "        #print(\"server connected\")\n",
    "\n",
    "        params = {'database': 'boston',\n",
    "               'user': 'salatiel',\n",
    "               'password': 'root',\n",
    "               'host': 'localhost',\n",
    "               'port': server.local_bind_port\n",
    "        }\n",
    "\n",
    "        connection = psycopg2.connect(**params)\n",
    "\n",
    "        #Buscar informações dos POIs\n",
    "        poi_df = getAllPOIInformation(connection)\n",
    "        if (len(poi_df) > 0):\n",
    "            tags = list(dict(poi_df[0]).keys())\n",
    "            poi_df = pd.DataFrame(poi_df, columns = tags)\n",
    "\n",
    "poi_df = poi_df.dropna()\n",
    "poi_df['latitude'] = poi_df['latitude'].astype(float)\n",
    "poi_df['longitude'] = poi_df['longitude'].astype(float)\n",
    "poi_df.head()"
   ]
  },
  {
   "cell_type": "code",
   "execution_count": 50,
   "metadata": {},
   "outputs": [
    {
     "data": {
      "text/plain": [
       "array([0.        , 0.12042037, 0.11956666, ..., 0.05230733, 0.04021922,\n",
       "       0.06065681])"
      ]
     },
     "execution_count": 50,
     "metadata": {},
     "output_type": "execute_result"
    }
   ],
   "source": [
    "from scipy.spatial.distance import cdist\n",
    "distances_matrix = cdist(df[['latitude', 'longitude']].values, df[['latitude', 'longitude']].values)\n",
    "distances_matrix[0]"
   ]
  },
  {
   "cell_type": "markdown",
   "metadata": {},
   "source": [
    "# Carregando dados de Zonas"
   ]
  },
  {
   "cell_type": "code",
   "execution_count": null,
   "metadata": {},
   "outputs": [],
   "source": [
    "#Carregando ZONAS\n",
    "with SSHTunnelForwarder(\n",
    "    ('150.165.15.171', 23456),\n",
    "    #ssh_private_key=\"</path/to/private/ssh/key>\",\n",
    "    ### in my case, I used a password instead of a private key\n",
    "    ssh_username=\"salatiel\",\n",
    "    ssh_password=\"Salatiel@Lacina123\",\n",
    "    remote_bind_address=('localhost', 5432)) as server:\n",
    "\n",
    "        server.start()\n",
    "        #print(\"server connected\")\n",
    "\n",
    "        params = {'database': 'boston',\n",
    "               'user': 'salatiel',\n",
    "               'password': 'root',\n",
    "               'host': 'localhost',\n",
    "               'port': server.local_bind_port\n",
    "        }\n",
    "\n",
    "        connection = psycopg2.connect(**params)\n",
    "\n",
    "        #Buscar informações dos POIs\n",
    "        query = \"SELECT distinct(objectid) FROM zoning_1618_pois\"\n",
    "        result = executeQuery(connection, query)\n",
    "        \n",
    "        final_zoning_gdf = pd.DataFrame(result)"
   ]
  },
  {
   "cell_type": "code",
   "execution_count": null,
   "metadata": {},
   "outputs": [],
   "source": [
    "final_zoning_gdf.head()"
   ]
  },
  {
   "cell_type": "code",
   "execution_count": null,
   "metadata": {},
   "outputs": [],
   "source": [
    "obj_id_list = list(final_zoning_gdf['objectid'])\n",
    "obj_id_list[:5]"
   ]
  },
  {
   "cell_type": "code",
   "execution_count": null,
   "metadata": {
    "scrolled": true
   },
   "outputs": [],
   "source": [
    "results = []\n",
    "for obj_id in tqdm(obj_id_list):\n",
    "    results.append(Shortest_Path_FT(obj_id, poi_df))"
   ]
  },
  {
   "cell_type": "code",
   "execution_count": null,
   "metadata": {},
   "outputs": [],
   "source": [
    "Shortest_Path_FT(\"12269\", poi_df)"
   ]
  },
  {
   "cell_type": "code",
   "execution_count": null,
   "metadata": {},
   "outputs": [],
   "source": [
    "#file_name = './Atlanta/Shortest Path/atlanta-shortest_path-zoning-FT_gpu.csv'\n",
    "file_name = './Boston/Shortest Path/boston-shortest_path-zoning-FT_gpu.csv'\n",
    "\n",
    "csv_file_02 = open(file_name, \"w\", newline='')\n",
    "writer_path = csv.writer(csv_file_02, delimiter=',')\n",
    "for result in results:\n",
    "    if(len(result) > 0):\n",
    "        writer_path.writerow(result)\n"
   ]
  },
  {
   "cell_type": "markdown",
   "metadata": {},
   "source": [
    "## Execução em Paralelo"
   ]
  },
  {
   "cell_type": "code",
   "execution_count": null,
   "metadata": {
    "scrolled": true
   },
   "outputs": [],
   "source": [
    "import multiprocessing as mp\n",
    "\n",
    "from timeit import default_timer as timer\n",
    "start = timer() \n",
    "\n",
    "print(\"Number of processors: \", mp.cpu_count())\n",
    "\n",
    "# Step 1: Init multiprocessing.Pool()\n",
    "#pool = mp.Pool(int(mp.cpu_count()))\n",
    "pool = mp.Pool(int(2))\n",
    "\n",
    "# Step 2: `pool.apply` the `howmany_within_range()`\n",
    "items = [(object_id, poi_df) for object_id in obj_id_list]\n",
    "\n",
    "results = pool.starmap(Shortest_Path_FT, items)\n",
    "\n",
    "#Step 2.1 Writing results\n",
    "\n",
    "#file_name = './geographic/SHORTEST PATH/austin-shortest_path-zoning-FT_gpu.csv'\n",
    "file_name = './Atlanta/Shortest Path/atlanta-shortest_path-zoning-FT_gpu.csv'\n",
    "\n",
    "csv_file_02 = open(file_name, \"w\", newline='')\n",
    "writer_path = csv.writer(csv_file_02, delimiter=',')\n",
    "for result in results:\n",
    "    writer_path.writerow(result)\n",
    "\n",
    "csv_file_02.close()\n",
    "\n",
    "# Step 3: Don't forget to close\n",
    "pool.close()\n",
    "    \n",
    "#print(\"without GPU:\", timer()-start)\n",
    "print(\"with GPU:\", timer()-start) "
   ]
  },
  {
   "cell_type": "code",
   "execution_count": null,
   "metadata": {},
   "outputs": [],
   "source": [
    "print(len(results))"
   ]
  },
  {
   "cell_type": "code",
   "execution_count": null,
   "metadata": {},
   "outputs": [],
   "source": [
    "#file_name = './geographic/SHORTEST PATH/austin-sl-corpus-' + str(bin_number) + '-c_.csv'\n",
    "file_name = './geographic/SHORTEST PATH/austin-shortest_path-' + str(bin_number) + '-CF-c_.csv'\n",
    "#file_name = './geographic/SHORTEST PATH/austin-shortest_path-' + str(bin_number) + '-FT-c.csv'\n",
    "\n",
    "csv_file_02 = open(file_name, \"w\", newline='')\n",
    "writer_path = csv.writer(csv_file_02, delimiter=',')\n",
    "for result in results:\n",
    "    writer_path.writerow(result)"
   ]
  },
  {
   "cell_type": "code",
   "execution_count": null,
   "metadata": {},
   "outputs": [],
   "source": [
    "print('ok')"
   ]
  }
 ],
 "metadata": {
  "interpreter": {
   "hash": "1c960ebc558cb47a91b30b6a69e09ee33d8511507a0164b187e789d12f3a22a9"
  },
  "kernelspec": {
   "display_name": "Python 3 (ipykernel)",
   "language": "python",
   "name": "python3"
  },
  "language_info": {
   "codemirror_mode": {
    "name": "ipython",
    "version": 3
   },
   "file_extension": ".py",
   "mimetype": "text/x-python",
   "name": "python",
   "nbconvert_exporter": "python",
   "pygments_lexer": "ipython3",
   "version": "3.10.12"
  }
 },
 "nbformat": 4,
 "nbformat_minor": 4
}
