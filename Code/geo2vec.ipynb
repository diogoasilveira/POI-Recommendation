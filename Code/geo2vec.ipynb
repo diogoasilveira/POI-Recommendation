{
 "cells": [
  {
   "cell_type": "code",
   "execution_count": 1,
   "metadata": {},
   "outputs": [],
   "source": [
    "from gensim.models import Word2Vec"
   ]
  },
  {
   "cell_type": "code",
   "execution_count": 3,
   "metadata": {},
   "outputs": [],
   "source": [
    "word2vec = Word2Vec.load('./db_parser/geographic/BERT/ew-york-sl-tuple-geoc2vec-pois-distilw2v-points_information-pfp-c.model')"
   ]
  },
  {
   "cell_type": "code",
   "execution_count": 5,
   "metadata": {},
   "outputs": [
    {
     "ename": "AttributeError",
     "evalue": "'Word2Vec' object has no attribute 'size'",
     "output_type": "error",
     "traceback": [
      "\u001b[0;31m---------------------------------------------------------------------------\u001b[0m",
      "\u001b[0;31mAttributeError\u001b[0m                            Traceback (most recent call last)",
      "Cell \u001b[0;32mIn[5], line 1\u001b[0m\n\u001b[0;32m----> 1\u001b[0m \u001b[43mword2vec\u001b[49m\u001b[38;5;241;43m.\u001b[39;49m\u001b[43msize\u001b[49m\n",
      "\u001b[0;31mAttributeError\u001b[0m: 'Word2Vec' object has no attribute 'size'"
     ]
    }
   ],
   "source": []
  },
  {
   "cell_type": "code",
   "execution_count": 6,
   "metadata": {},
   "outputs": [
    {
     "name": "stdout",
     "output_type": "stream",
     "text": [
      "Collecting numpy\n",
      "  Downloading numpy-2.2.3-cp310-cp310-manylinux_2_17_x86_64.manylinux2014_x86_64.whl (16.4 MB)\n",
      "\u001b[2K     \u001b[90m━━━━━━━━━━━━━━━━━━━━━━━━━━━━━━━━━━━━━━━━\u001b[0m \u001b[32m16.4/16.4 MB\u001b[0m \u001b[31m50.3 MB/s\u001b[0m eta \u001b[36m0:00:00\u001b[0m00:01\u001b[0m00:01\u001b[0m\n",
      "Installing collected packages: numpy\n",
      "\u001b[31mERROR: pip's dependency resolver does not currently take into account all the packages that are installed. This behaviour is the source of the following dependency conflicts.\n",
      "scipy 1.10.1 requires numpy<1.27.0,>=1.19.5, but you have numpy 2.2.3 which is incompatible.\u001b[0m\u001b[31m\n",
      "\u001b[0mSuccessfully installed numpy-2.2.3\n"
     ]
    }
   ],
   "source": [
    "!pip install numpy==1.19.5"
   ]
  },
  {
   "cell_type": "code",
   "execution_count": 9,
   "metadata": {},
   "outputs": [
    {
     "data": {
      "text/plain": [
       "[('Restaurant', 0.9884113669395447),\n",
       " ('Hotel', 0.9854190945625305),\n",
       " ('Garden', 0.9811018705368042),\n",
       " ('Bakery', 0.9790208339691162),\n",
       " ('Park', 0.9783346056938171),\n",
       " ('Beach', 0.9755960702896118),\n",
       " ('Brewery', 0.9755187034606934),\n",
       " ('Bookstore', 0.9749192595481873),\n",
       " ('Casino', 0.9743155837059021),\n",
       " ('Dessert Shop', 0.9727228283882141)]"
      ]
     },
     "execution_count": 9,
     "metadata": {},
     "output_type": "execute_result"
    }
   ],
   "source": [
    "word2vec.wv.most_similar(\"Café\")"
   ]
  },
  {
   "cell_type": "code",
   "execution_count": 17,
   "metadata": {},
   "outputs": [
    {
     "data": {
      "text/plain": [
       "[('Food', 0.9096315503120422),\n",
       " ('Sandwiches', 0.8943723440170288),\n",
       " ('Breakfast & Brunch', 0.8914317488670349),\n",
       " ('Pizza', 0.8842081427574158),\n",
       " ('American (Traditional)', 0.8671202063560486),\n",
       " ('Burgers', 0.8660482168197632),\n",
       " ('Coffee & Tea', 0.8658769130706787),\n",
       " ('Mexican', 0.8495666980743408),\n",
       " ('Asian Fusion', 0.8472176194190979),\n",
       " ('American (New)', 0.8461595773696899)]"
      ]
     },
     "execution_count": 17,
     "metadata": {},
     "output_type": "execute_result"
    }
   ],
   "source": [
    "word2vec.wv.most_similar(\"Restaurants\")"
   ]
  },
  {
   "cell_type": "code",
   "execution_count": 18,
   "metadata": {},
   "outputs": [
    {
     "data": {
      "text/plain": [
       "[('Eyelash Service', 0.7490875124931335),\n",
       " ('Hair Removal', 0.7277828454971313),\n",
       " ('Permanent Makeup', 0.70015549659729),\n",
       " ('Hair Extensions', 0.6989892721176147),\n",
       " ('Blow Dry/Out Services', 0.6948253512382507),\n",
       " ('Skin Care', 0.6941344738006592),\n",
       " ('Waxing', 0.68761146068573),\n",
       " ('Beauty & Spas', 0.6710526347160339),\n",
       " ('Makeup Artists', 0.6686090230941772),\n",
       " ('Hair Salons', 0.6633630990982056)]"
      ]
     },
     "execution_count": 18,
     "metadata": {},
     "output_type": "execute_result"
    }
   ],
   "source": [
    "word2vec.wv.most_similar(\"Eyebrow Services\")"
   ]
  },
  {
   "cell_type": "code",
   "execution_count": null,
   "metadata": {},
   "outputs": [],
   "source": []
  }
 ],
 "metadata": {
  "kernelspec": {
   "display_name": "Python 3 (ipykernel)",
   "language": "python",
   "name": "python3"
  },
  "language_info": {
   "codemirror_mode": {
    "name": "ipython",
    "version": 3
   },
   "file_extension": ".py",
   "mimetype": "text/x-python",
   "name": "python",
   "nbconvert_exporter": "python",
   "pygments_lexer": "ipython3",
   "version": "3.10.12"
  }
 },
 "nbformat": 4,
 "nbformat_minor": 4
}
