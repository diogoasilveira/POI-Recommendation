{
 "cells": [
  {
   "cell_type": "code",
   "execution_count": 1,
   "id": "47709402-f980-4572-8547-eda42e1232e9",
   "metadata": {},
   "outputs": [],
   "source": [
    "import pandas as pd"
   ]
  },
  {
   "cell_type": "code",
   "execution_count": 2,
   "id": "3560b93f-59ad-4f30-8ae3-85f0231ac6aa",
   "metadata": {},
   "outputs": [],
   "source": [
    "cat_dict = pd.read_csv(\"./dataset/NYC/cat_ids_to_category.csv\")\n",
    "dataset = pd.read_csv(\"./dataset/NYC/NYC_train.csv\")\n",
    "lines_file = pd.read_csv(\"./db_parser/geographic/train_files/new-york-sl-tuple-geoc2vec-pois_lines_information-pfp-c.csv\")\n",
    "roads_file = pd.read_csv(\"./db_parser/geographic/train_files/new-york-sl-tuple-geoc2vec-pois_roads_information-pfp-c.csv\")\n",
    "polygons_file = pd.read_csv(\"./db_parser/geographic/train_files/new-york-sl-tuple-geoc2vec-pois_polygons_information-pfp-c.csv\")\n",
    "points_file = pd.read_csv(\"./db_parser/geographic/train_files/new-york-sl-tuple-geoc2vec-pois_points_information-pfp-c.csv\")"
   ]
  },
  {
   "cell_type": "code",
   "execution_count": 3,
   "id": "0fc934e3-21cc-40c5-a1fb-994124b05d99",
   "metadata": {},
   "outputs": [
    {
     "data": {
      "text/html": [
       "<div>\n",
       "<style scoped>\n",
       "    .dataframe tbody tr th:only-of-type {\n",
       "        vertical-align: middle;\n",
       "    }\n",
       "\n",
       "    .dataframe tbody tr th {\n",
       "        vertical-align: top;\n",
       "    }\n",
       "\n",
       "    .dataframe thead th {\n",
       "        text-align: right;\n",
       "    }\n",
       "</style>\n",
       "<table border=\"1\" class=\"dataframe\">\n",
       "  <thead>\n",
       "    <tr style=\"text-align: right;\">\n",
       "      <th></th>\n",
       "      <th>Unnamed: 0</th>\n",
       "      <th>POI_catid</th>\n",
       "      <th>POI_catname</th>\n",
       "    </tr>\n",
       "  </thead>\n",
       "  <tbody>\n",
       "    <tr>\n",
       "      <th>0</th>\n",
       "      <td>0</td>\n",
       "      <td>4bf58dd8d48988d127951735</td>\n",
       "      <td>Arts &amp; Crafts Store</td>\n",
       "    </tr>\n",
       "    <tr>\n",
       "      <th>1</th>\n",
       "      <td>1</td>\n",
       "      <td>4bf58dd8d48988d1df941735</td>\n",
       "      <td>Bridge</td>\n",
       "    </tr>\n",
       "    <tr>\n",
       "      <th>2</th>\n",
       "      <td>2</td>\n",
       "      <td>4bf58dd8d48988d103941735</td>\n",
       "      <td>Home (private)</td>\n",
       "    </tr>\n",
       "    <tr>\n",
       "      <th>3</th>\n",
       "      <td>4</td>\n",
       "      <td>4f04afc02fb6e1c99f3db0bc</td>\n",
       "      <td>Mobile Phone Shop</td>\n",
       "    </tr>\n",
       "    <tr>\n",
       "      <th>4</th>\n",
       "      <td>5</td>\n",
       "      <td>4bf58dd8d48988d124951735</td>\n",
       "      <td>Automotive Shop</td>\n",
       "    </tr>\n",
       "  </tbody>\n",
       "</table>\n",
       "</div>"
      ],
      "text/plain": [
       "   Unnamed: 0                 POI_catid          POI_catname\n",
       "0           0  4bf58dd8d48988d127951735  Arts & Crafts Store\n",
       "1           1  4bf58dd8d48988d1df941735               Bridge\n",
       "2           2  4bf58dd8d48988d103941735       Home (private)\n",
       "3           4  4f04afc02fb6e1c99f3db0bc    Mobile Phone Shop\n",
       "4           5  4bf58dd8d48988d124951735      Automotive Shop"
      ]
     },
     "execution_count": 3,
     "metadata": {},
     "output_type": "execute_result"
    }
   ],
   "source": [
    "cat_dict.head()"
   ]
  },
  {
   "cell_type": "code",
   "execution_count": 15,
   "id": "3340acd5-66e1-44ca-bd2d-415719e13d4c",
   "metadata": {},
   "outputs": [
    {
     "data": {
      "text/html": [
       "<div>\n",
       "<style scoped>\n",
       "    .dataframe tbody tr th:only-of-type {\n",
       "        vertical-align: middle;\n",
       "    }\n",
       "\n",
       "    .dataframe tbody tr th {\n",
       "        vertical-align: top;\n",
       "    }\n",
       "\n",
       "    .dataframe thead th {\n",
       "        text-align: right;\n",
       "    }\n",
       "</style>\n",
       "<table border=\"1\" class=\"dataframe\">\n",
       "  <thead>\n",
       "    <tr style=\"text-align: right;\">\n",
       "      <th></th>\n",
       "      <th>poi_id_center</th>\n",
       "      <th>center_poi</th>\n",
       "      <th>context_osm</th>\n",
       "    </tr>\n",
       "  </thead>\n",
       "  <tbody>\n",
       "    <tr>\n",
       "      <th>0</th>\n",
       "      <td>49bbd6c0f964a520f4531fe3</td>\n",
       "      <td>Arts &amp; Crafts Store</td>\n",
       "      <td>roads_bicycle_yes</td>\n",
       "    </tr>\n",
       "    <tr>\n",
       "      <th>1</th>\n",
       "      <td>49bbd6c0f964a520f4531fe3</td>\n",
       "      <td>Arts &amp; Crafts Store</td>\n",
       "      <td>roads_highway_trunk</td>\n",
       "    </tr>\n",
       "    <tr>\n",
       "      <th>2</th>\n",
       "      <td>49bbd6c0f964a520f4531fe3</td>\n",
       "      <td>Arts &amp; Crafts Store</td>\n",
       "      <td>roads_highway_secondary</td>\n",
       "    </tr>\n",
       "    <tr>\n",
       "      <th>3</th>\n",
       "      <td>49bbd6c0f964a520f4531fe3</td>\n",
       "      <td>Arts &amp; Crafts Store</td>\n",
       "      <td>roads_oneway_no</td>\n",
       "    </tr>\n",
       "    <tr>\n",
       "      <th>4</th>\n",
       "      <td>49bbd6c0f964a520f4531fe3</td>\n",
       "      <td>Arts &amp; Crafts Store</td>\n",
       "      <td>roads_oneway_yes</td>\n",
       "    </tr>\n",
       "  </tbody>\n",
       "</table>\n",
       "</div>"
      ],
      "text/plain": [
       "              poi_id_center           center_poi              context_osm\n",
       "0  49bbd6c0f964a520f4531fe3  Arts & Crafts Store        roads_bicycle_yes\n",
       "1  49bbd6c0f964a520f4531fe3  Arts & Crafts Store      roads_highway_trunk\n",
       "2  49bbd6c0f964a520f4531fe3  Arts & Crafts Store  roads_highway_secondary\n",
       "3  49bbd6c0f964a520f4531fe3  Arts & Crafts Store          roads_oneway_no\n",
       "4  49bbd6c0f964a520f4531fe3  Arts & Crafts Store         roads_oneway_yes"
      ]
     },
     "execution_count": 15,
     "metadata": {},
     "output_type": "execute_result"
    }
   ],
   "source": [
    "roads_file.head()"
   ]
  },
  {
   "cell_type": "code",
   "execution_count": 7,
   "id": "235376ac-d2a1-479a-933c-cae5f4a03746",
   "metadata": {},
   "outputs": [],
   "source": [
    "train_file = pd.concat([lines_file, roads_file, polygons_file, points_file])"
   ]
  },
  {
   "cell_type": "code",
   "execution_count": 12,
   "id": "77856b94-05fe-4ffc-bb0e-2e6ee6951f2c",
   "metadata": {},
   "outputs": [
    {
     "data": {
      "text/plain": [
       "(326366, 3)"
      ]
     },
     "execution_count": 12,
     "metadata": {},
     "output_type": "execute_result"
    }
   ],
   "source": [
    "train_file.shape"
   ]
  },
  {
   "cell_type": "code",
   "execution_count": 9,
   "id": "e2e77b80-17c2-474d-8c85-eed7ce91ea0c",
   "metadata": {},
   "outputs": [],
   "source": [
    "count = 0\n",
    "faltando = []\n",
    "\n",
    "for _, row in cat_dict.iterrows():\n",
    "    cat = row['POI_catname']\n",
    "    if cat not in train_file['center_poi'].values:\n",
    "        faltando.append(cat)\n",
    "        count += 1"
   ]
  },
  {
   "cell_type": "code",
   "execution_count": 11,
   "id": "cddbab82-69cc-45b2-a44f-dd6d6a0e5e39",
   "metadata": {},
   "outputs": [
    {
     "data": {
      "text/plain": [
       "9"
      ]
     },
     "execution_count": 11,
     "metadata": {},
     "output_type": "execute_result"
    }
   ],
   "source": [
    "len(faltando)"
   ]
  },
  {
   "cell_type": "code",
   "execution_count": 16,
   "id": "27e4f110-48f7-41de-ac5d-656f2c549a00",
   "metadata": {},
   "outputs": [
    {
     "name": "stdout",
     "output_type": "stream",
     "text": [
      "(65, 15)\n",
      "(90, 15)\n",
      "(27, 15)\n",
      "(36, 15)\n",
      "(20, 15)\n",
      "(26, 15)\n",
      "(44, 15)\n",
      "(4, 15)\n",
      "(2, 15)\n"
     ]
    }
   ],
   "source": [
    "for f in faltando:\n",
    "    print(dataset[dataset[\"POI_catname\"] == f].shape)"
   ]
  },
  {
   "cell_type": "code",
   "execution_count": 17,
   "id": "bdb57ee2-7f20-41f1-8c4f-b45557070d06",
   "metadata": {},
   "outputs": [
    {
     "data": {
      "text/plain": [
       "(83228, 15)"
      ]
     },
     "execution_count": 17,
     "metadata": {},
     "output_type": "execute_result"
    }
   ],
   "source": [
    "dataset.shape"
   ]
  },
  {
   "cell_type": "code",
   "execution_count": 18,
   "id": "71c6fa1f-207a-49cf-bad2-c1a117877b7d",
   "metadata": {},
   "outputs": [],
   "source": [
    "dataset = dataset[~dataset['POI_catname'].isin(faltando)]"
   ]
  },
  {
   "cell_type": "code",
   "execution_count": 19,
   "id": "97f65147-176e-408f-be9f-b44821e5a55b",
   "metadata": {},
   "outputs": [],
   "source": [
    "dataset.reset_index(drop=True, inplace=True)"
   ]
  },
  {
   "cell_type": "code",
   "execution_count": 20,
   "id": "7855bbe8-bf75-4a4b-97bb-ed1b6a762cca",
   "metadata": {},
   "outputs": [
    {
     "data": {
      "text/plain": [
       "(82914, 15)"
      ]
     },
     "execution_count": 20,
     "metadata": {},
     "output_type": "execute_result"
    }
   ],
   "source": [
    "dataset.shape"
   ]
  },
  {
   "cell_type": "code",
   "execution_count": 22,
   "id": "700221c0-7f96-4dda-b10d-2ae70adbb741",
   "metadata": {},
   "outputs": [],
   "source": [
    "dataset.to_csv(\"./dataset/NYC_new/NYC_train.csv\", index=False)"
   ]
  },
  {
   "cell_type": "code",
   "execution_count": 23,
   "id": "2db77e4b-795e-4036-9318-8a70a06c0ced",
   "metadata": {},
   "outputs": [],
   "source": [
    "dataset_test = pd.read_csv(\"./dataset/NYC/NYC_test.csv\")\n",
    "dataset_val = pd.read_csv(\"./dataset/NYC/NYC_val.csv\")"
   ]
  },
  {
   "cell_type": "code",
   "execution_count": 24,
   "id": "31c5df33-2a20-41c5-8db4-3e87d64742d1",
   "metadata": {},
   "outputs": [
    {
     "data": {
      "text/plain": [
       "(10374, 15)"
      ]
     },
     "execution_count": 24,
     "metadata": {},
     "output_type": "execute_result"
    }
   ],
   "source": [
    "dataset_test.shape"
   ]
  },
  {
   "cell_type": "code",
   "execution_count": 25,
   "id": "7e5846c6-b406-4af1-9a09-baa909a4b46d",
   "metadata": {},
   "outputs": [
    {
     "data": {
      "text/plain": [
       "(10326, 15)"
      ]
     },
     "execution_count": 25,
     "metadata": {},
     "output_type": "execute_result"
    }
   ],
   "source": [
    "dataset_test = dataset_test[~dataset_test['POI_catname'].isin(faltando)]\n",
    "dataset_test.shape"
   ]
  },
  {
   "cell_type": "code",
   "execution_count": 26,
   "id": "09b6153a-1ec5-434c-ba93-9eb5d4868e52",
   "metadata": {},
   "outputs": [
    {
     "data": {
      "text/plain": [
       "(10339, 15)"
      ]
     },
     "execution_count": 26,
     "metadata": {},
     "output_type": "execute_result"
    }
   ],
   "source": [
    "dataset_val.shape"
   ]
  },
  {
   "cell_type": "code",
   "execution_count": 27,
   "id": "f3b4db49-d50a-4d89-b551-17920fa04179",
   "metadata": {},
   "outputs": [
    {
     "data": {
      "text/plain": [
       "(10294, 15)"
      ]
     },
     "execution_count": 27,
     "metadata": {},
     "output_type": "execute_result"
    }
   ],
   "source": [
    "dataset_val = dataset_val[~dataset_val['POI_catname'].isin(faltando)]\n",
    "dataset_val.shape"
   ]
  },
  {
   "cell_type": "code",
   "execution_count": 28,
   "id": "dac6b2cd-ed8a-4223-b523-f2821beff3bb",
   "metadata": {},
   "outputs": [],
   "source": [
    "dataset_test.to_csv(\"./dataset/NYC_new/NYC_test.csv\", index=False)\n",
    "dataset_val.to_csv(\"./dataset/NYC_new/NYC_val.csv\", index=False)"
   ]
  },
  {
   "cell_type": "code",
   "execution_count": 29,
   "id": "1aedd10f-7ee7-4a7c-8b6c-797a8ad1af46",
   "metadata": {},
   "outputs": [
    {
     "data": {
      "text/html": [
       "<div>\n",
       "<style scoped>\n",
       "    .dataframe tbody tr th:only-of-type {\n",
       "        vertical-align: middle;\n",
       "    }\n",
       "\n",
       "    .dataframe tbody tr th {\n",
       "        vertical-align: top;\n",
       "    }\n",
       "\n",
       "    .dataframe thead th {\n",
       "        text-align: right;\n",
       "    }\n",
       "</style>\n",
       "<table border=\"1\" class=\"dataframe\">\n",
       "  <thead>\n",
       "    <tr style=\"text-align: right;\">\n",
       "      <th></th>\n",
       "      <th>user_id</th>\n",
       "      <th>POI_id</th>\n",
       "      <th>POI_catid</th>\n",
       "      <th>POI_catid_code</th>\n",
       "      <th>POI_catname</th>\n",
       "      <th>latitude</th>\n",
       "      <th>longitude</th>\n",
       "      <th>timezone</th>\n",
       "      <th>UTC_time</th>\n",
       "      <th>local_time</th>\n",
       "      <th>day_of_week</th>\n",
       "      <th>norm_in_day_time</th>\n",
       "      <th>trajectory_id</th>\n",
       "      <th>norm_day_shift</th>\n",
       "      <th>norm_relative_time</th>\n",
       "    </tr>\n",
       "  </thead>\n",
       "  <tbody>\n",
       "    <tr>\n",
       "      <th>1987</th>\n",
       "      <td>829</td>\n",
       "      <td>4f7cd62de4b08ccdc588e204</td>\n",
       "      <td>4bf58dd8d48988d1c8941735</td>\n",
       "      <td>231</td>\n",
       "      <td>African Restaurant</td>\n",
       "      <td>40.684198</td>\n",
       "      <td>-73.722027</td>\n",
       "      <td>-240</td>\n",
       "      <td>2012-04-08 03:22:10+00:00</td>\n",
       "      <td>2012-04-07 23:22:10+00:00</td>\n",
       "      <td>5</td>\n",
       "      <td>0.958333</td>\n",
       "      <td>829_3</td>\n",
       "      <td>0</td>\n",
       "      <td>0.958333</td>\n",
       "    </tr>\n",
       "    <tr>\n",
       "      <th>2847</th>\n",
       "      <td>829</td>\n",
       "      <td>4f7cd62de4b08ccdc588e204</td>\n",
       "      <td>4bf58dd8d48988d1c8941735</td>\n",
       "      <td>231</td>\n",
       "      <td>African Restaurant</td>\n",
       "      <td>40.684198</td>\n",
       "      <td>-73.722027</td>\n",
       "      <td>-240</td>\n",
       "      <td>2012-04-09 13:49:25+00:00</td>\n",
       "      <td>2012-04-09 09:49:25+00:00</td>\n",
       "      <td>0</td>\n",
       "      <td>0.395833</td>\n",
       "      <td>829_4</td>\n",
       "      <td>0</td>\n",
       "      <td>0.395833</td>\n",
       "    </tr>\n",
       "    <tr>\n",
       "      <th>3597</th>\n",
       "      <td>829</td>\n",
       "      <td>4f7cd62de4b08ccdc588e204</td>\n",
       "      <td>4bf58dd8d48988d1c8941735</td>\n",
       "      <td>231</td>\n",
       "      <td>African Restaurant</td>\n",
       "      <td>40.684198</td>\n",
       "      <td>-73.722027</td>\n",
       "      <td>-240</td>\n",
       "      <td>2012-04-10 04:20:11+00:00</td>\n",
       "      <td>2012-04-10 00:20:11+00:00</td>\n",
       "      <td>1</td>\n",
       "      <td>0.000000</td>\n",
       "      <td>829_4</td>\n",
       "      <td>1</td>\n",
       "      <td>1.000000</td>\n",
       "    </tr>\n",
       "    <tr>\n",
       "      <th>4020</th>\n",
       "      <td>829</td>\n",
       "      <td>4f7cd62de4b08ccdc588e204</td>\n",
       "      <td>4bf58dd8d48988d1c8941735</td>\n",
       "      <td>231</td>\n",
       "      <td>African Restaurant</td>\n",
       "      <td>40.684198</td>\n",
       "      <td>-73.722027</td>\n",
       "      <td>-240</td>\n",
       "      <td>2012-04-10 22:31:38+00:00</td>\n",
       "      <td>2012-04-10 18:31:38+00:00</td>\n",
       "      <td>1</td>\n",
       "      <td>0.770833</td>\n",
       "      <td>829_4</td>\n",
       "      <td>1</td>\n",
       "      <td>1.770833</td>\n",
       "    </tr>\n",
       "    <tr>\n",
       "      <th>4494</th>\n",
       "      <td>829</td>\n",
       "      <td>4f7cd62de4b08ccdc588e204</td>\n",
       "      <td>4bf58dd8d48988d1c8941735</td>\n",
       "      <td>231</td>\n",
       "      <td>African Restaurant</td>\n",
       "      <td>40.684198</td>\n",
       "      <td>-73.722027</td>\n",
       "      <td>-240</td>\n",
       "      <td>2012-04-11 13:13:44+00:00</td>\n",
       "      <td>2012-04-11 09:13:44+00:00</td>\n",
       "      <td>2</td>\n",
       "      <td>0.375000</td>\n",
       "      <td>829_4</td>\n",
       "      <td>2</td>\n",
       "      <td>2.375000</td>\n",
       "    </tr>\n",
       "    <tr>\n",
       "      <th>5687</th>\n",
       "      <td>829</td>\n",
       "      <td>4f7cd62de4b08ccdc588e204</td>\n",
       "      <td>4bf58dd8d48988d1c8941735</td>\n",
       "      <td>231</td>\n",
       "      <td>African Restaurant</td>\n",
       "      <td>40.684198</td>\n",
       "      <td>-73.722027</td>\n",
       "      <td>-240</td>\n",
       "      <td>2012-04-12 13:51:08+00:00</td>\n",
       "      <td>2012-04-12 09:51:08+00:00</td>\n",
       "      <td>3</td>\n",
       "      <td>0.395833</td>\n",
       "      <td>829_4</td>\n",
       "      <td>3</td>\n",
       "      <td>3.395833</td>\n",
       "    </tr>\n",
       "    <tr>\n",
       "      <th>6247</th>\n",
       "      <td>829</td>\n",
       "      <td>4f7cd62de4b08ccdc588e204</td>\n",
       "      <td>4bf58dd8d48988d1c8941735</td>\n",
       "      <td>231</td>\n",
       "      <td>African Restaurant</td>\n",
       "      <td>40.684198</td>\n",
       "      <td>-73.722027</td>\n",
       "      <td>-240</td>\n",
       "      <td>2012-04-13 02:14:58+00:00</td>\n",
       "      <td>2012-04-12 22:14:58+00:00</td>\n",
       "      <td>3</td>\n",
       "      <td>0.916667</td>\n",
       "      <td>829_4</td>\n",
       "      <td>3</td>\n",
       "      <td>3.916667</td>\n",
       "    </tr>\n",
       "    <tr>\n",
       "      <th>13027</th>\n",
       "      <td>829</td>\n",
       "      <td>4f7cd62de4b08ccdc588e204</td>\n",
       "      <td>4bf58dd8d48988d1c8941735</td>\n",
       "      <td>231</td>\n",
       "      <td>African Restaurant</td>\n",
       "      <td>40.684198</td>\n",
       "      <td>-73.722027</td>\n",
       "      <td>-240</td>\n",
       "      <td>2012-04-19 23:33:59+00:00</td>\n",
       "      <td>2012-04-19 19:33:59+00:00</td>\n",
       "      <td>3</td>\n",
       "      <td>0.812500</td>\n",
       "      <td>829_6</td>\n",
       "      <td>3</td>\n",
       "      <td>3.812500</td>\n",
       "    </tr>\n",
       "  </tbody>\n",
       "</table>\n",
       "</div>"
      ],
      "text/plain": [
       "       user_id                    POI_id                 POI_catid  \\\n",
       "1987       829  4f7cd62de4b08ccdc588e204  4bf58dd8d48988d1c8941735   \n",
       "2847       829  4f7cd62de4b08ccdc588e204  4bf58dd8d48988d1c8941735   \n",
       "3597       829  4f7cd62de4b08ccdc588e204  4bf58dd8d48988d1c8941735   \n",
       "4020       829  4f7cd62de4b08ccdc588e204  4bf58dd8d48988d1c8941735   \n",
       "4494       829  4f7cd62de4b08ccdc588e204  4bf58dd8d48988d1c8941735   \n",
       "5687       829  4f7cd62de4b08ccdc588e204  4bf58dd8d48988d1c8941735   \n",
       "6247       829  4f7cd62de4b08ccdc588e204  4bf58dd8d48988d1c8941735   \n",
       "13027      829  4f7cd62de4b08ccdc588e204  4bf58dd8d48988d1c8941735   \n",
       "\n",
       "       POI_catid_code         POI_catname   latitude  longitude  timezone  \\\n",
       "1987              231  African Restaurant  40.684198 -73.722027      -240   \n",
       "2847              231  African Restaurant  40.684198 -73.722027      -240   \n",
       "3597              231  African Restaurant  40.684198 -73.722027      -240   \n",
       "4020              231  African Restaurant  40.684198 -73.722027      -240   \n",
       "4494              231  African Restaurant  40.684198 -73.722027      -240   \n",
       "5687              231  African Restaurant  40.684198 -73.722027      -240   \n",
       "6247              231  African Restaurant  40.684198 -73.722027      -240   \n",
       "13027             231  African Restaurant  40.684198 -73.722027      -240   \n",
       "\n",
       "                        UTC_time                 local_time  day_of_week  \\\n",
       "1987   2012-04-08 03:22:10+00:00  2012-04-07 23:22:10+00:00            5   \n",
       "2847   2012-04-09 13:49:25+00:00  2012-04-09 09:49:25+00:00            0   \n",
       "3597   2012-04-10 04:20:11+00:00  2012-04-10 00:20:11+00:00            1   \n",
       "4020   2012-04-10 22:31:38+00:00  2012-04-10 18:31:38+00:00            1   \n",
       "4494   2012-04-11 13:13:44+00:00  2012-04-11 09:13:44+00:00            2   \n",
       "5687   2012-04-12 13:51:08+00:00  2012-04-12 09:51:08+00:00            3   \n",
       "6247   2012-04-13 02:14:58+00:00  2012-04-12 22:14:58+00:00            3   \n",
       "13027  2012-04-19 23:33:59+00:00  2012-04-19 19:33:59+00:00            3   \n",
       "\n",
       "       norm_in_day_time trajectory_id  norm_day_shift  norm_relative_time  \n",
       "1987           0.958333         829_3               0            0.958333  \n",
       "2847           0.395833         829_4               0            0.395833  \n",
       "3597           0.000000         829_4               1            1.000000  \n",
       "4020           0.770833         829_4               1            1.770833  \n",
       "4494           0.375000         829_4               2            2.375000  \n",
       "5687           0.395833         829_4               3            3.395833  \n",
       "6247           0.916667         829_4               3            3.916667  \n",
       "13027          0.812500         829_6               3            3.812500  "
      ]
     },
     "execution_count": 29,
     "metadata": {},
     "output_type": "execute_result"
    }
   ],
   "source": [
    "dataset[dataset[\"POI_catname\"] == 'African Restaurant']"
   ]
  },
  {
   "cell_type": "code",
   "execution_count": 30,
   "id": "b25aaba4-35b8-433d-8114-884ba026e40f",
   "metadata": {},
   "outputs": [
    {
     "data": {
      "text/html": [
       "<div>\n",
       "<style scoped>\n",
       "    .dataframe tbody tr th:only-of-type {\n",
       "        vertical-align: middle;\n",
       "    }\n",
       "\n",
       "    .dataframe tbody tr th {\n",
       "        vertical-align: top;\n",
       "    }\n",
       "\n",
       "    .dataframe thead th {\n",
       "        text-align: right;\n",
       "    }\n",
       "</style>\n",
       "<table border=\"1\" class=\"dataframe\">\n",
       "  <thead>\n",
       "    <tr style=\"text-align: right;\">\n",
       "      <th></th>\n",
       "      <th>Unnamed: 0</th>\n",
       "      <th>POI_catid</th>\n",
       "      <th>POI_catname</th>\n",
       "    </tr>\n",
       "  </thead>\n",
       "  <tbody>\n",
       "    <tr>\n",
       "      <th>212</th>\n",
       "      <td>1996</td>\n",
       "      <td>4bf58dd8d48988d1c8941735</td>\n",
       "      <td>African Restaurant</td>\n",
       "    </tr>\n",
       "  </tbody>\n",
       "</table>\n",
       "</div>"
      ],
      "text/plain": [
       "     Unnamed: 0                 POI_catid         POI_catname\n",
       "212        1996  4bf58dd8d48988d1c8941735  African Restaurant"
      ]
     },
     "execution_count": 30,
     "metadata": {},
     "output_type": "execute_result"
    }
   ],
   "source": [
    "cat_dict[cat_dict[\"POI_catname\"] == 'African Restaurant']"
   ]
  },
  {
   "cell_type": "code",
   "execution_count": 31,
   "id": "b01b5e54-1071-4fd6-aa19-5472bbdb7fab",
   "metadata": {},
   "outputs": [
    {
     "data": {
      "text/html": [
       "<div>\n",
       "<style scoped>\n",
       "    .dataframe tbody tr th:only-of-type {\n",
       "        vertical-align: middle;\n",
       "    }\n",
       "\n",
       "    .dataframe tbody tr th {\n",
       "        vertical-align: top;\n",
       "    }\n",
       "\n",
       "    .dataframe thead th {\n",
       "        text-align: right;\n",
       "    }\n",
       "</style>\n",
       "<table border=\"1\" class=\"dataframe\">\n",
       "  <thead>\n",
       "    <tr style=\"text-align: right;\">\n",
       "      <th></th>\n",
       "      <th>poi_id_center</th>\n",
       "      <th>center_poi</th>\n",
       "      <th>context_osm</th>\n",
       "    </tr>\n",
       "  </thead>\n",
       "  <tbody>\n",
       "    <tr>\n",
       "      <th>24728</th>\n",
       "      <td>4f7cd62de4b08ccdc588e204</td>\n",
       "      <td>African Restaurant</td>\n",
       "      <td>lines_barrier_fence</td>\n",
       "    </tr>\n",
       "    <tr>\n",
       "      <th>24729</th>\n",
       "      <td>4f7cd62de4b08ccdc588e204</td>\n",
       "      <td>African Restaurant</td>\n",
       "      <td>lines_barrier_kerb</td>\n",
       "    </tr>\n",
       "    <tr>\n",
       "      <th>24730</th>\n",
       "      <td>4f7cd62de4b08ccdc588e204</td>\n",
       "      <td>African Restaurant</td>\n",
       "      <td>lines_highway_residential</td>\n",
       "    </tr>\n",
       "    <tr>\n",
       "      <th>24731</th>\n",
       "      <td>4f7cd62de4b08ccdc588e204</td>\n",
       "      <td>African Restaurant</td>\n",
       "      <td>lines_highway_residential</td>\n",
       "    </tr>\n",
       "    <tr>\n",
       "      <th>24732</th>\n",
       "      <td>4f7cd62de4b08ccdc588e204</td>\n",
       "      <td>African Restaurant</td>\n",
       "      <td>lines_highway_residential</td>\n",
       "    </tr>\n",
       "    <tr>\n",
       "      <th>24733</th>\n",
       "      <td>4f7cd62de4b08ccdc588e204</td>\n",
       "      <td>African Restaurant</td>\n",
       "      <td>lines_highway_residential</td>\n",
       "    </tr>\n",
       "    <tr>\n",
       "      <th>24734</th>\n",
       "      <td>4f7cd62de4b08ccdc588e204</td>\n",
       "      <td>African Restaurant</td>\n",
       "      <td>lines_highway_footway</td>\n",
       "    </tr>\n",
       "    <tr>\n",
       "      <th>24735</th>\n",
       "      <td>4f7cd62de4b08ccdc588e204</td>\n",
       "      <td>African Restaurant</td>\n",
       "      <td>lines_highway_service</td>\n",
       "    </tr>\n",
       "    <tr>\n",
       "      <th>24736</th>\n",
       "      <td>4f7cd62de4b08ccdc588e204</td>\n",
       "      <td>African Restaurant</td>\n",
       "      <td>lines_highway_service</td>\n",
       "    </tr>\n",
       "    <tr>\n",
       "      <th>24737</th>\n",
       "      <td>4f7cd62de4b08ccdc588e204</td>\n",
       "      <td>African Restaurant</td>\n",
       "      <td>lines_surface_concrete</td>\n",
       "    </tr>\n",
       "    <tr>\n",
       "      <th>22534</th>\n",
       "      <td>4f7cd62de4b08ccdc588e204</td>\n",
       "      <td>African Restaurant</td>\n",
       "      <td>polygons_building_detached</td>\n",
       "    </tr>\n",
       "    <tr>\n",
       "      <th>22535</th>\n",
       "      <td>4f7cd62de4b08ccdc588e204</td>\n",
       "      <td>African Restaurant</td>\n",
       "      <td>polygons_building_garage</td>\n",
       "    </tr>\n",
       "    <tr>\n",
       "      <th>22536</th>\n",
       "      <td>4f7cd62de4b08ccdc588e204</td>\n",
       "      <td>African Restaurant</td>\n",
       "      <td>polygons_building_house</td>\n",
       "    </tr>\n",
       "    <tr>\n",
       "      <th>22537</th>\n",
       "      <td>4f7cd62de4b08ccdc588e204</td>\n",
       "      <td>African Restaurant</td>\n",
       "      <td>polygons_landuse_residential</td>\n",
       "    </tr>\n",
       "    <tr>\n",
       "      <th>22538</th>\n",
       "      <td>4f7cd62de4b08ccdc588e204</td>\n",
       "      <td>African Restaurant</td>\n",
       "      <td>polygons_landuse_residential</td>\n",
       "    </tr>\n",
       "    <tr>\n",
       "      <th>22539</th>\n",
       "      <td>4f7cd62de4b08ccdc588e204</td>\n",
       "      <td>African Restaurant</td>\n",
       "      <td>polygons_landuse_residential</td>\n",
       "    </tr>\n",
       "    <tr>\n",
       "      <th>22540</th>\n",
       "      <td>4f7cd62de4b08ccdc588e204</td>\n",
       "      <td>African Restaurant</td>\n",
       "      <td>polygons_landuse_residential</td>\n",
       "    </tr>\n",
       "    <tr>\n",
       "      <th>22541</th>\n",
       "      <td>4f7cd62de4b08ccdc588e204</td>\n",
       "      <td>African Restaurant</td>\n",
       "      <td>polygons_landuse_construction</td>\n",
       "    </tr>\n",
       "    <tr>\n",
       "      <th>22542</th>\n",
       "      <td>4f7cd62de4b08ccdc588e204</td>\n",
       "      <td>African Restaurant</td>\n",
       "      <td>polygons_building_yes</td>\n",
       "    </tr>\n",
       "    <tr>\n",
       "      <th>22543</th>\n",
       "      <td>4f7cd62de4b08ccdc588e204</td>\n",
       "      <td>African Restaurant</td>\n",
       "      <td>polygons_building_yes</td>\n",
       "    </tr>\n",
       "    <tr>\n",
       "      <th>22544</th>\n",
       "      <td>4f7cd62de4b08ccdc588e204</td>\n",
       "      <td>African Restaurant</td>\n",
       "      <td>polygons_building_yes</td>\n",
       "    </tr>\n",
       "    <tr>\n",
       "      <th>21110</th>\n",
       "      <td>4f7cd62de4b08ccdc588e204</td>\n",
       "      <td>African Restaurant</td>\n",
       "      <td>points_highway_crossing</td>\n",
       "    </tr>\n",
       "    <tr>\n",
       "      <th>21111</th>\n",
       "      <td>4f7cd62de4b08ccdc588e204</td>\n",
       "      <td>African Restaurant</td>\n",
       "      <td>points_highway_crossing</td>\n",
       "    </tr>\n",
       "    <tr>\n",
       "      <th>21112</th>\n",
       "      <td>4f7cd62de4b08ccdc588e204</td>\n",
       "      <td>African Restaurant</td>\n",
       "      <td>points_highway_crossing</td>\n",
       "    </tr>\n",
       "    <tr>\n",
       "      <th>21113</th>\n",
       "      <td>4f7cd62de4b08ccdc588e204</td>\n",
       "      <td>African Restaurant</td>\n",
       "      <td>points_highway_crossing</td>\n",
       "    </tr>\n",
       "    <tr>\n",
       "      <th>21114</th>\n",
       "      <td>4f7cd62de4b08ccdc588e204</td>\n",
       "      <td>African Restaurant</td>\n",
       "      <td>points_highway_crossing</td>\n",
       "    </tr>\n",
       "  </tbody>\n",
       "</table>\n",
       "</div>"
      ],
      "text/plain": [
       "                  poi_id_center          center_poi  \\\n",
       "24728  4f7cd62de4b08ccdc588e204  African Restaurant   \n",
       "24729  4f7cd62de4b08ccdc588e204  African Restaurant   \n",
       "24730  4f7cd62de4b08ccdc588e204  African Restaurant   \n",
       "24731  4f7cd62de4b08ccdc588e204  African Restaurant   \n",
       "24732  4f7cd62de4b08ccdc588e204  African Restaurant   \n",
       "24733  4f7cd62de4b08ccdc588e204  African Restaurant   \n",
       "24734  4f7cd62de4b08ccdc588e204  African Restaurant   \n",
       "24735  4f7cd62de4b08ccdc588e204  African Restaurant   \n",
       "24736  4f7cd62de4b08ccdc588e204  African Restaurant   \n",
       "24737  4f7cd62de4b08ccdc588e204  African Restaurant   \n",
       "22534  4f7cd62de4b08ccdc588e204  African Restaurant   \n",
       "22535  4f7cd62de4b08ccdc588e204  African Restaurant   \n",
       "22536  4f7cd62de4b08ccdc588e204  African Restaurant   \n",
       "22537  4f7cd62de4b08ccdc588e204  African Restaurant   \n",
       "22538  4f7cd62de4b08ccdc588e204  African Restaurant   \n",
       "22539  4f7cd62de4b08ccdc588e204  African Restaurant   \n",
       "22540  4f7cd62de4b08ccdc588e204  African Restaurant   \n",
       "22541  4f7cd62de4b08ccdc588e204  African Restaurant   \n",
       "22542  4f7cd62de4b08ccdc588e204  African Restaurant   \n",
       "22543  4f7cd62de4b08ccdc588e204  African Restaurant   \n",
       "22544  4f7cd62de4b08ccdc588e204  African Restaurant   \n",
       "21110  4f7cd62de4b08ccdc588e204  African Restaurant   \n",
       "21111  4f7cd62de4b08ccdc588e204  African Restaurant   \n",
       "21112  4f7cd62de4b08ccdc588e204  African Restaurant   \n",
       "21113  4f7cd62de4b08ccdc588e204  African Restaurant   \n",
       "21114  4f7cd62de4b08ccdc588e204  African Restaurant   \n",
       "\n",
       "                         context_osm  \n",
       "24728            lines_barrier_fence  \n",
       "24729             lines_barrier_kerb  \n",
       "24730      lines_highway_residential  \n",
       "24731      lines_highway_residential  \n",
       "24732      lines_highway_residential  \n",
       "24733      lines_highway_residential  \n",
       "24734          lines_highway_footway  \n",
       "24735          lines_highway_service  \n",
       "24736          lines_highway_service  \n",
       "24737         lines_surface_concrete  \n",
       "22534     polygons_building_detached  \n",
       "22535       polygons_building_garage  \n",
       "22536        polygons_building_house  \n",
       "22537   polygons_landuse_residential  \n",
       "22538   polygons_landuse_residential  \n",
       "22539   polygons_landuse_residential  \n",
       "22540   polygons_landuse_residential  \n",
       "22541  polygons_landuse_construction  \n",
       "22542          polygons_building_yes  \n",
       "22543          polygons_building_yes  \n",
       "22544          polygons_building_yes  \n",
       "21110        points_highway_crossing  \n",
       "21111        points_highway_crossing  \n",
       "21112        points_highway_crossing  \n",
       "21113        points_highway_crossing  \n",
       "21114        points_highway_crossing  "
      ]
     },
     "execution_count": 31,
     "metadata": {},
     "output_type": "execute_result"
    }
   ],
   "source": [
    "train_file[train_file[\"center_poi\"] == 'African Restaurant']"
   ]
  },
  {
   "cell_type": "code",
   "execution_count": null,
   "id": "2a7ef51b-1da8-4689-b915-f991b752233b",
   "metadata": {},
   "outputs": [],
   "source": []
  }
 ],
 "metadata": {
  "kernelspec": {
   "display_name": "Python 3 (ipykernel)",
   "language": "python",
   "name": "python3"
  },
  "language_info": {
   "codemirror_mode": {
    "name": "ipython",
    "version": 3
   },
   "file_extension": ".py",
   "mimetype": "text/x-python",
   "name": "python",
   "nbconvert_exporter": "python",
   "pygments_lexer": "ipython3",
   "version": "3.10.12"
  }
 },
 "nbformat": 4,
 "nbformat_minor": 5
}
