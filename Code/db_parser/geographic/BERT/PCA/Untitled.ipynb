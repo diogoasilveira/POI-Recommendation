{
 "cells": [
  {
   "cell_type": "code",
   "execution_count": 1,
   "id": "b3dc7a86-ba70-4804-8333-9bfc9e048f8f",
   "metadata": {},
   "outputs": [],
   "source": [
    "from gensim.models import Word2Vec\n",
    "import numpy as np"
   ]
  },
  {
   "cell_type": "code",
   "execution_count": 2,
   "id": "c050abd0-af89-40f8-aa38-cfb844723dc9",
   "metadata": {},
   "outputs": [],
   "source": [
    "model_lines = Word2Vec.load(\"word2vec_reduced_lines.model\")\n",
    "model_points = Word2Vec.load(\"word2vec_reduced_points.model\")\n",
    "model_roads = Word2Vec.load(\"word2vec_reduced_roads.model\")\n",
    "model_polygons = Word2Vec.load(\"word2vec_reduced_polygons.model\")"
   ]
  },
  {
   "cell_type": "code",
   "execution_count": 4,
   "id": "904b9279-5084-4dfe-ba04-f4f7353d58ba",
   "metadata": {},
   "outputs": [
    {
     "name": "stdout",
     "output_type": "stream",
     "text": [
      "Roads  (281, 281)\n"
     ]
    }
   ],
   "source": [
    "words = list(model_roads.wv.vocab.keys())  # Compatível com gensim 3.6\n",
    "word_vectors = np.array([model_roads.wv[word] for word in words])\n",
    "print(\"Roads: \", word_vectors.shape)"
   ]
  },
  {
   "cell_type": "code",
   "execution_count": 5,
   "id": "16edec08-90dd-4d08-b835-83b02eb66a4e",
   "metadata": {},
   "outputs": [
    {
     "name": "stdout",
     "output_type": "stream",
     "text": [
      "Lines:  (436, 384)\n"
     ]
    }
   ],
   "source": [
    "words = list(model_lines.wv.vocab.keys())  # Compatível com gensim 3.6\n",
    "word_vectors = np.array([model_lines.wv[word] for word in words])\n",
    "print(\"Lines: \", word_vectors.shape)"
   ]
  },
  {
   "cell_type": "code",
   "execution_count": 7,
   "id": "59afc140-63fd-49c4-9943-bffcc916889d",
   "metadata": {},
   "outputs": [
    {
     "name": "stdout",
     "output_type": "stream",
     "text": [
      "Points:  (575, 384)\n"
     ]
    }
   ],
   "source": [
    "words = list(model_points.wv.vocab.keys())  # Compatível com gensim 3.6\n",
    "word_vectors = np.array([model_points.wv[word] for word in words])\n",
    "print(\"Points: \", word_vectors.shape)"
   ]
  },
  {
   "cell_type": "code",
   "execution_count": 9,
   "id": "2a9919c0-0ba2-4642-bb6f-fafc22d248dc",
   "metadata": {},
   "outputs": [
    {
     "name": "stdout",
     "output_type": "stream",
     "text": [
      "Polygons:  (655, 384)\n"
     ]
    }
   ],
   "source": [
    "words = list(model_polygons.wv.vocab.keys())  # Compatível com gensim 3.6\n",
    "word_vectors = np.array([model_polygons.wv[word] for word in words])\n",
    "print(\"Polygons: \", word_vectors.shape)"
   ]
  },
  {
   "cell_type": "code",
   "execution_count": null,
   "id": "01b25b04-2999-4196-b0f4-935c966676b7",
   "metadata": {},
   "outputs": [],
   "source": []
  }
 ],
 "metadata": {
  "kernelspec": {
   "display_name": "Python 3 (ipykernel)",
   "language": "python",
   "name": "python3"
  },
  "language_info": {
   "codemirror_mode": {
    "name": "ipython",
    "version": 3
   },
   "file_extension": ".py",
   "mimetype": "text/x-python",
   "name": "python",
   "nbconvert_exporter": "python",
   "pygments_lexer": "ipython3",
   "version": "3.10.12"
  }
 },
 "nbformat": 4,
 "nbformat_minor": 5
}
