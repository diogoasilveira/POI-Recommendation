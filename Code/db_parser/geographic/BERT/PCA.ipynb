{
 "cells": [
  {
   "cell_type": "code",
   "execution_count": 1,
   "id": "8387bb82-39b6-4ec1-b1e2-1872b2e328e4",
   "metadata": {},
   "outputs": [],
   "source": [
    "from gensim.models import Word2Vec\n",
    "import numpy as np\n",
    "from sklearn.decomposition import PCA"
   ]
  },
  {
   "cell_type": "code",
   "execution_count": 2,
   "id": "52a7ce5f-7814-4cdb-8c25-a4bd204fec0f",
   "metadata": {},
   "outputs": [],
   "source": [
    "models = {\n",
    "    \"lines\": \"new-york-sl-tuple-geoc2vec-μ90-pois-distilw2v-lines_information-pfp-c.model\",\n",
    "    \"points\": \"new-york-sl-tuple-geoc2vec-μ90-pois-distilw2v-points_information-pfp-c.model\",\n",
    "    \"roads\": \"new-york-sl-tuple-geoc2vec-μ90-pois-distilw2v-roads_information-pfp-c.model\",\n",
    "    \"polygons\": \"new-york-sl-tuple-geoc2vec-μ90-pois-distilw2v-polygons_information-pfp-c.model\"\n",
    "}"
   ]
  },
  {
   "cell_type": "code",
   "execution_count": 12,
   "id": "5ba31d8f-d8d3-41a5-ac68-9ac7364d79cd",
   "metadata": {},
   "outputs": [
    {
     "name": "stdout",
     "output_type": "stream",
     "text": [
      "Processando modelo: lines\n",
      "Reduzindo de 768 para 28 dimensões...\n",
      "lines: Antes (436, 768), Depois (436, 28) - Modelo salvo como word2vec_reduced_lines_128.model\n",
      "Processando modelo: points\n",
      "Reduzindo de 768 para 28 dimensões...\n"
     ]
    },
    {
     "name": "stderr",
     "output_type": "stream",
     "text": [
      "/tmp/ipykernel_38275/604974657.py:25: DeprecationWarning: Call to deprecated `min_count` (Attribute will be removed in 4.0.0, use self.vocabulary.min_count instead).\n",
      "  new_model = Word2Vec(size=n_components, window=model.window, min_count=model.min_count)\n",
      "/tmp/ipykernel_38275/604974657.py:25: DeprecationWarning: Call to deprecated `min_count` (Attribute will be removed in 4.0.0, use self.vocabulary.min_count instead).\n",
      "  new_model = Word2Vec(size=n_components, window=model.window, min_count=model.min_count)\n"
     ]
    },
    {
     "name": "stdout",
     "output_type": "stream",
     "text": [
      "points: Antes (575, 768), Depois (575, 28) - Modelo salvo como word2vec_reduced_points_128.model\n",
      "Processando modelo: roads\n",
      "Reduzindo de 768 para 28 dimensões...\n",
      "roads: Antes (281, 768), Depois (281, 28) - Modelo salvo como word2vec_reduced_roads_128.model\n",
      "Processando modelo: polygons\n",
      "Reduzindo de 768 para 28 dimensões...\n"
     ]
    },
    {
     "name": "stderr",
     "output_type": "stream",
     "text": [
      "/tmp/ipykernel_38275/604974657.py:25: DeprecationWarning: Call to deprecated `min_count` (Attribute will be removed in 4.0.0, use self.vocabulary.min_count instead).\n",
      "  new_model = Word2Vec(size=n_components, window=model.window, min_count=model.min_count)\n",
      "/tmp/ipykernel_38275/604974657.py:25: DeprecationWarning: Call to deprecated `min_count` (Attribute will be removed in 4.0.0, use self.vocabulary.min_count instead).\n",
      "  new_model = Word2Vec(size=n_components, window=model.window, min_count=model.min_count)\n"
     ]
    },
    {
     "name": "stdout",
     "output_type": "stream",
     "text": [
      "polygons: Antes (655, 768), Depois (655, 28) - Modelo salvo como word2vec_reduced_polygons_128.model\n",
      "Processamento concluído e modelos salvos!\n"
     ]
    }
   ],
   "source": [
    "target_dim = 512\n",
    "\n",
    "word_embeddings_pca = {}\n",
    "\n",
    "for model_name, model_path in models.items():\n",
    "    print(f\"Processando modelo: {model_name}\")\n",
    "\n",
    "    #Carrega o modelo\n",
    "    model = Word2Vec.load(model_path)\n",
    "\n",
    "    #Exporta o vocabulário do modelo \n",
    "    words = list(model.wv.vocab.keys())\n",
    "    word_vectors = np.array([model.wv[word] for word in words])\n",
    "    n_samples, n_features = word_vectors.shape\n",
    "    #n_components = min(target_dim, n_samples)\n",
    "    n_components = target_dim\n",
    "    \n",
    "    print(f\"Reduzindo de {n_features} para {n_components} dimensões...\")\n",
    "\n",
    "    #Faz o redimensionamento dos vetores do vocabulário\n",
    "    pca = PCA(n_components=n_components)\n",
    "    word_vectors_reduced = pca.fit_transform(word_vectors)\n",
    "    \n",
    "    #Treina e salva o modelo redimensionado\n",
    "    new_model = Word2Vec(size=n_components, window=model.window, min_count=model.min_count)\n",
    "    new_model.build_vocab([words])\n",
    "    new_model.wv.vectors = word_vectors_reduced\n",
    "    new_model.save(f\"./PCA/word2vec_reduced_{model_name}_{target_dim}.model\")\n",
    "    print(f\"{model_name}: Antes {word_vectors.shape}, Depois {word_vectors_reduced.shape} - Modelo salvo como word2vec_reduced_{model_name}_128.model\")\n",
    "\n",
    "print(\"Processamento concluído e modelos salvos!\")"
   ]
  },
  {
   "cell_type": "code",
   "execution_count": 13,
   "id": "7be9b3c1-51e6-449a-b021-afa22e4a1991",
   "metadata": {},
   "outputs": [],
   "source": [
    "model_lines = Word2Vec.load(\"ew-york-sl-tuple-geoc2vec-pois-distilw2v-lines_information-pfp-c.model\")\n",
    "model_lines_pca = Word2Vec.load(\"./PCA/word2vec_reduced_lines_32.model\")\n",
    "model_pca = Word2Vec.load(\"./PCA/word2vec_reduced_lines_28.model\")"
   ]
  },
  {
   "cell_type": "code",
   "execution_count": 9,
   "id": "e2b88807-1d76-4e3a-9faf-18a7396489ac",
   "metadata": {},
   "outputs": [
    {
     "data": {
      "text/plain": [
       "[('Library', 0.9702208638191223),\n",
       " ('African Restaurant', 0.9685879349708557),\n",
       " ('Dim Sum Restaurant', 0.9685351848602295),\n",
       " ('Bakery', 0.9682315587997437),\n",
       " ('German Restaurant', 0.9680699706077576),\n",
       " ('Hotel', 0.9679540395736694),\n",
       " ('Restaurant', 0.9673723578453064),\n",
       " ('Theater', 0.9673452377319336),\n",
       " ('Clothing Store', 0.9669424891471863),\n",
       " ('Gift Shop', 0.9665777683258057)]"
      ]
     },
     "execution_count": 9,
     "metadata": {},
     "output_type": "execute_result"
    }
   ],
   "source": [
    "model_lines.wv.most_similar(positive=[\"Bookstore\"])"
   ]
  },
  {
   "cell_type": "code",
   "execution_count": 16,
   "id": "dd906bc7-93a7-4882-99fb-02de0a6e6d26",
   "metadata": {},
   "outputs": [
    {
     "data": {
      "text/plain": [
       "[('Restaurant', 0.8666859269142151),\n",
       " ('Casino', 0.8360579013824463),\n",
       " ('Bar', 0.8077646493911743),\n",
       " ('Bookstore', 0.7884572744369507),\n",
       " ('Café', 0.7779343724250793),\n",
       " ('Parking', 0.7732722163200378),\n",
       " ('City', 0.7717400193214417),\n",
       " ('Park', 0.7676903009414673),\n",
       " ('Diner', 0.7650327682495117),\n",
       " ('Office', 0.7627938389778137)]"
      ]
     },
     "execution_count": 16,
     "metadata": {},
     "output_type": "execute_result"
    }
   ],
   "source": [
    "model_lines_pca.wv.most_similar(positive=[\"Hotel\"])"
   ]
  },
  {
   "cell_type": "code",
   "execution_count": 15,
   "id": "01f482c4-8e1e-4222-b4f4-1ce5bb576955",
   "metadata": {},
   "outputs": [
    {
     "data": {
      "text/plain": [
       "[('Restaurant', 0.8893362879753113),\n",
       " ('Bookstore', 0.8595757484436035),\n",
       " ('Bar', 0.845493495464325),\n",
       " ('Casino', 0.8381418585777283),\n",
       " ('Café', 0.8113797903060913),\n",
       " ('Diner', 0.8068528175354004),\n",
       " ('City', 0.8044070601463318),\n",
       " ('Neighborhood', 0.7953543663024902),\n",
       " ('German Restaurant', 0.7822244167327881),\n",
       " ('Office', 0.7767152190208435)]"
      ]
     },
     "execution_count": 15,
     "metadata": {},
     "output_type": "execute_result"
    }
   ],
   "source": [
    "model_pca.wv.most_similar(positive=[\"Hotel\"])"
   ]
  },
  {
   "cell_type": "code",
   "execution_count": null,
   "id": "7e019876-270b-4ba7-84fd-fb358bb4dc34",
   "metadata": {},
   "outputs": [],
   "source": []
  }
 ],
 "metadata": {
  "kernelspec": {
   "display_name": "Python 3 (ipykernel)",
   "language": "python",
   "name": "python3"
  },
  "language_info": {
   "codemirror_mode": {
    "name": "ipython",
    "version": 3
   },
   "file_extension": ".py",
   "mimetype": "text/x-python",
   "name": "python",
   "nbconvert_exporter": "python",
   "pygments_lexer": "ipython3",
   "version": "3.10.12"
  }
 },
 "nbformat": 4,
 "nbformat_minor": 5
}
